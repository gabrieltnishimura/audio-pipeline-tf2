{
 "cells": [
  {
   "cell_type": "code",
   "execution_count": 3,
   "metadata": {},
   "outputs": [
    {
     "data": {
      "text/plain": [
       "<PrefetchDataset shapes: (OrderedDict([(filename, (4,))]), (4,)), types: (OrderedDict([(filename, tf.string)]), tf.string)>"
      ]
     },
     "execution_count": 3,
     "metadata": {},
     "output_type": "execute_result"
    }
   ],
   "source": [
    "import tensorflow as tf\n",
    "\n",
    "librivox_ds = tf.data.experimental.make_csv_dataset(\n",
    "    \"librivox-test-clean.csv\", batch_size=4,\n",
    "    label_name=\"transcript\")\n",
    "\n",
    "librivox_ds"
   ]
  },
  {
   "cell_type": "code",
   "execution_count": 4,
   "metadata": {},
   "outputs": [
    {
     "name": "stdout",
     "output_type": "stream",
     "text": [
      "b'/Users/gabriel.t.nishimura/projects/masters/ctc/data_dir/LibriSpeech/test-clean-new/8555-292519-0013.flacasd'\n",
      "b'/Users/gabriel.t.nishimura/projects/masters/ctc/data_dir/LibriSpeech/test-clean-new/6829-68771-0021.flacasd'\n",
      "b'/Users/gabriel.t.nishimura/projects/masters/ctc/data_dir/LibriSpeech/test-clean-new/672-122797-0008.flacasd'\n",
      "b'/Users/gabriel.t.nishimura/projects/masters/ctc/data_dir/LibriSpeech/test-clean-new/121-127105-0036.flacasd'\n"
     ]
    }
   ],
   "source": [
    "def inner_test(features, labels):\n",
    "    new_features = []\n",
    "    for index, value in enumerate(features.numpy()):\n",
    "        new_value = value.decode('UTF-8') + \"asd\"\n",
    "        new_features.append(tf.convert_to_tensor(new_value,\n",
    "                                                 dtype=tf.string))\n",
    "    return new_features, labels\n",
    "\n",
    "def test(features, labels):\n",
    "    return tf.py_function(func=inner_test, inp=[features['filename'], labels], Tout=tf.string), labels\n",
    "\n",
    "for feature_batch, label_batch in librivox_ds.map(test).take(1):\n",
    "    for key in feature_batch.numpy():\n",
    "        print(key)\n"
   ]
  },
  {
   "cell_type": "code",
   "execution_count": 5,
   "metadata": {
    "scrolled": true
   },
   "outputs": [
    {
     "name": "stdout",
     "output_type": "stream",
     "text": [
      "'labels': [b'meanwhile rodolfo had leocadia safe in his custody and in his own apartment'\n",
      " b'but pearl who was a dauntless child after frowning stamping her foot and shaking her little hand with a variety of threatening gestures suddenly made a rush at the knot of her enemies and put them all to flight'\n",
      " b\"he's not a man for country quarters\"\n",
      " b'the atmosphere is evidently charged and surcharged with electricity']\n",
      "features:\n",
      "  'filename'          : [b'/Users/gabriel.t.nishimura/projects/masters/ctc/data_dir/LibriSpeech/test-clean-new/5639-40744-0007.flac'\n",
      " b'/Users/gabriel.t.nishimura/projects/masters/ctc/data_dir/LibriSpeech/test-clean-new/1221-135767-0009.flac'\n",
      " b'/Users/gabriel.t.nishimura/projects/masters/ctc/data_dir/LibriSpeech/test-clean-new/5683-32865-0014.flac'\n",
      " b'/Users/gabriel.t.nishimura/projects/masters/ctc/data_dir/LibriSpeech/test-clean-new/260-123288-0006.flac']\n"
     ]
    }
   ],
   "source": [
    "for feature_batch, label_batch in librivox_ds.take(1):\n",
    "    test = feature_batch\n",
    "    print(\"'labels': {}\".format(label_batch))\n",
    "    print(\"features:\")\n",
    "    for key, value in feature_batch.items():\n",
    "        print(\"  {!r:20s}: {}\".format(key, value))"
   ]
  },
  {
   "cell_type": "code",
   "execution_count": 21,
   "metadata": {},
   "outputs": [
    {
     "ename": "UnknownError",
     "evalue": "InvalidArgumentError: Shapes of all inputs must match: values[0].shape = [56880] != values[1].shape = [94560] [Op:Pack] name: packed\nTraceback (most recent call last):\n\n  File \"/Users/gabriel.t.nishimura/miniconda3/envs/usp/lib/python3.6/site-packages/tensorflow_core/python/ops/script_ops.py\", line 234, in __call__\n    return func(device, token, args)\n\n  File \"/Users/gabriel.t.nishimura/miniconda3/envs/usp/lib/python3.6/site-packages/tensorflow_core/python/ops/script_ops.py\", line 123, in __call__\n    ret = self._func(*args)\n\n  File \"<ipython-input-21-3e6e5260497b>\", line 39, in inner_test\n    padded = tf.pad(new_features, paddings, \"CONSTANT\")\n\n  File \"/Users/gabriel.t.nishimura/miniconda3/envs/usp/lib/python3.6/site-packages/tensorflow_core/python/ops/array_ops.py\", line 2873, in pad_v2\n    return pad(tensor, paddings, mode, name, constant_values)\n\n  File \"/Users/gabriel.t.nishimura/miniconda3/envs/usp/lib/python3.6/site-packages/tensorflow_core/python/ops/array_ops.py\", line 2939, in pad\n    result = gen_array_ops.pad(tensor, paddings, name=name)\n\n  File \"/Users/gabriel.t.nishimura/miniconda3/envs/usp/lib/python3.6/site-packages/tensorflow_core/python/ops/gen_array_ops.py\", line 5784, in pad\n    input, paddings, name=name, ctx=_ctx)\n\n  File \"/Users/gabriel.t.nishimura/miniconda3/envs/usp/lib/python3.6/site-packages/tensorflow_core/python/ops/gen_array_ops.py\", line 5806, in pad_eager_fallback\n    _attr_T, (input,) = _execute.args_to_matching_eager([input], ctx)\n\n  File \"/Users/gabriel.t.nishimura/miniconda3/envs/usp/lib/python3.6/site-packages/tensorflow_core/python/eager/execute.py\", line 263, in args_to_matching_eager\n    t, dtype, preferred_dtype=default_dtype, ctx=ctx))\n\n  File \"/Users/gabriel.t.nishimura/miniconda3/envs/usp/lib/python3.6/site-packages/tensorflow_core/python/framework/ops.py\", line 1314, in convert_to_tensor\n    ret = conversion_func(value, dtype=dtype, name=name, as_ref=as_ref)\n\n  File \"/Users/gabriel.t.nishimura/miniconda3/envs/usp/lib/python3.6/site-packages/tensorflow_core/python/ops/array_ops.py\", line 1368, in _autopacking_conversion_function\n    return _autopacking_helper(v, dtype, name or \"packed\")\n\n  File \"/Users/gabriel.t.nishimura/miniconda3/envs/usp/lib/python3.6/site-packages/tensorflow_core/python/ops/array_ops.py\", line 1274, in _autopacking_helper\n    return gen_array_ops.pack(list_or_tuple, name=name)\n\n  File \"/Users/gabriel.t.nishimura/miniconda3/envs/usp/lib/python3.6/site-packages/tensorflow_core/python/ops/gen_array_ops.py\", line 5693, in pack\n    _ops.raise_from_not_ok_status(e, name)\n\n  File \"/Users/gabriel.t.nishimura/miniconda3/envs/usp/lib/python3.6/site-packages/tensorflow_core/python/framework/ops.py\", line 6606, in raise_from_not_ok_status\n    six.raise_from(core._status_to_exception(e.code, message), None)\n\n  File \"<string>\", line 3, in raise_from\n\ntensorflow.python.framework.errors_impl.InvalidArgumentError: Shapes of all inputs must match: values[0].shape = [56880] != values[1].shape = [94560] [Op:Pack] name: packed\n\n\n\t [[{{node EagerPyFunc}}]]",
     "output_type": "error",
     "traceback": [
      "\u001b[0;31m---------------------------------------------------------------------------\u001b[0m",
      "\u001b[0;31mUnknownError\u001b[0m                              Traceback (most recent call last)",
      "\u001b[0;32m~/miniconda3/envs/usp/lib/python3.6/site-packages/tensorflow_core/python/eager/context.py\u001b[0m in \u001b[0;36mexecution_mode\u001b[0;34m(mode)\u001b[0m\n\u001b[1;32m   1896\u001b[0m     \u001b[0mctx\u001b[0m\u001b[0;34m.\u001b[0m\u001b[0mexecutor\u001b[0m \u001b[0;34m=\u001b[0m \u001b[0mexecutor_new\u001b[0m\u001b[0;34m\u001b[0m\u001b[0;34m\u001b[0m\u001b[0m\n\u001b[0;32m-> 1897\u001b[0;31m     \u001b[0;32myield\u001b[0m\u001b[0;34m\u001b[0m\u001b[0;34m\u001b[0m\u001b[0m\n\u001b[0m\u001b[1;32m   1898\u001b[0m   \u001b[0;32mfinally\u001b[0m\u001b[0;34m:\u001b[0m\u001b[0;34m\u001b[0m\u001b[0;34m\u001b[0m\u001b[0m\n",
      "\u001b[0;32m~/miniconda3/envs/usp/lib/python3.6/site-packages/tensorflow_core/python/data/ops/iterator_ops.py\u001b[0m in \u001b[0;36m_next_internal\u001b[0;34m(self)\u001b[0m\n\u001b[1;32m    658\u001b[0m             \u001b[0moutput_types\u001b[0m\u001b[0;34m=\u001b[0m\u001b[0mself\u001b[0m\u001b[0;34m.\u001b[0m\u001b[0m_flat_output_types\u001b[0m\u001b[0;34m,\u001b[0m\u001b[0;34m\u001b[0m\u001b[0;34m\u001b[0m\u001b[0m\n\u001b[0;32m--> 659\u001b[0;31m             output_shapes=self._flat_output_shapes)\n\u001b[0m\u001b[1;32m    660\u001b[0m \u001b[0;34m\u001b[0m\u001b[0m\n",
      "\u001b[0;32m~/miniconda3/envs/usp/lib/python3.6/site-packages/tensorflow_core/python/ops/gen_dataset_ops.py\u001b[0m in \u001b[0;36miterator_get_next_sync\u001b[0;34m(iterator, output_types, output_shapes, name)\u001b[0m\n\u001b[1;32m   2478\u001b[0m     \u001b[0;32mexcept\u001b[0m \u001b[0m_core\u001b[0m\u001b[0;34m.\u001b[0m\u001b[0m_NotOkStatusException\u001b[0m \u001b[0;32mas\u001b[0m \u001b[0me\u001b[0m\u001b[0;34m:\u001b[0m\u001b[0;34m\u001b[0m\u001b[0;34m\u001b[0m\u001b[0m\n\u001b[0;32m-> 2479\u001b[0;31m       \u001b[0m_ops\u001b[0m\u001b[0;34m.\u001b[0m\u001b[0mraise_from_not_ok_status\u001b[0m\u001b[0;34m(\u001b[0m\u001b[0me\u001b[0m\u001b[0;34m,\u001b[0m \u001b[0mname\u001b[0m\u001b[0;34m)\u001b[0m\u001b[0;34m\u001b[0m\u001b[0;34m\u001b[0m\u001b[0m\n\u001b[0m\u001b[1;32m   2480\u001b[0m   \u001b[0;31m# Add nodes to the TensorFlow graph.\u001b[0m\u001b[0;34m\u001b[0m\u001b[0;34m\u001b[0m\u001b[0;34m\u001b[0m\u001b[0m\n",
      "\u001b[0;32m~/miniconda3/envs/usp/lib/python3.6/site-packages/tensorflow_core/python/framework/ops.py\u001b[0m in \u001b[0;36mraise_from_not_ok_status\u001b[0;34m(e, name)\u001b[0m\n\u001b[1;32m   6605\u001b[0m   \u001b[0;31m# pylint: disable=protected-access\u001b[0m\u001b[0;34m\u001b[0m\u001b[0;34m\u001b[0m\u001b[0;34m\u001b[0m\u001b[0m\n\u001b[0;32m-> 6606\u001b[0;31m   \u001b[0msix\u001b[0m\u001b[0;34m.\u001b[0m\u001b[0mraise_from\u001b[0m\u001b[0;34m(\u001b[0m\u001b[0mcore\u001b[0m\u001b[0;34m.\u001b[0m\u001b[0m_status_to_exception\u001b[0m\u001b[0;34m(\u001b[0m\u001b[0me\u001b[0m\u001b[0;34m.\u001b[0m\u001b[0mcode\u001b[0m\u001b[0;34m,\u001b[0m \u001b[0mmessage\u001b[0m\u001b[0;34m)\u001b[0m\u001b[0;34m,\u001b[0m \u001b[0;32mNone\u001b[0m\u001b[0;34m)\u001b[0m\u001b[0;34m\u001b[0m\u001b[0;34m\u001b[0m\u001b[0m\n\u001b[0m\u001b[1;32m   6607\u001b[0m   \u001b[0;31m# pylint: enable=protected-access\u001b[0m\u001b[0;34m\u001b[0m\u001b[0;34m\u001b[0m\u001b[0;34m\u001b[0m\u001b[0m\n",
      "\u001b[0;32m~/miniconda3/envs/usp/lib/python3.6/site-packages/six.py\u001b[0m in \u001b[0;36mraise_from\u001b[0;34m(value, from_value)\u001b[0m\n",
      "\u001b[0;31mUnknownError\u001b[0m: InvalidArgumentError: Shapes of all inputs must match: values[0].shape = [56880] != values[1].shape = [94560] [Op:Pack] name: packed\nTraceback (most recent call last):\n\n  File \"/Users/gabriel.t.nishimura/miniconda3/envs/usp/lib/python3.6/site-packages/tensorflow_core/python/ops/script_ops.py\", line 234, in __call__\n    return func(device, token, args)\n\n  File \"/Users/gabriel.t.nishimura/miniconda3/envs/usp/lib/python3.6/site-packages/tensorflow_core/python/ops/script_ops.py\", line 123, in __call__\n    ret = self._func(*args)\n\n  File \"<ipython-input-21-3e6e5260497b>\", line 39, in inner_test\n    padded = tf.pad(new_features, paddings, \"CONSTANT\")\n\n  File \"/Users/gabriel.t.nishimura/miniconda3/envs/usp/lib/python3.6/site-packages/tensorflow_core/python/ops/array_ops.py\", line 2873, in pad_v2\n    return pad(tensor, paddings, mode, name, constant_values)\n\n  File \"/Users/gabriel.t.nishimura/miniconda3/envs/usp/lib/python3.6/site-packages/tensorflow_core/python/ops/array_ops.py\", line 2939, in pad\n    result = gen_array_ops.pad(tensor, paddings, name=name)\n\n  File \"/Users/gabriel.t.nishimura/miniconda3/envs/usp/lib/python3.6/site-packages/tensorflow_core/python/ops/gen_array_ops.py\", line 5784, in pad\n    input, paddings, name=name, ctx=_ctx)\n\n  File \"/Users/gabriel.t.nishimura/miniconda3/envs/usp/lib/python3.6/site-packages/tensorflow_core/python/ops/gen_array_ops.py\", line 5806, in pad_eager_fallback\n    _attr_T, (input,) = _execute.args_to_matching_eager([input], ctx)\n\n  File \"/Users/gabriel.t.nishimura/miniconda3/envs/usp/lib/python3.6/site-packages/tensorflow_core/python/eager/execute.py\", line 263, in args_to_matching_eager\n    t, dtype, preferred_dtype=default_dtype, ctx=ctx))\n\n  File \"/Users/gabriel.t.nishimura/miniconda3/envs/usp/lib/python3.6/site-packages/tensorflow_core/python/framework/ops.py\", line 1314, in convert_to_tensor\n    ret = conversion_func(value, dtype=dtype, name=name, as_ref=as_ref)\n\n  File \"/Users/gabriel.t.nishimura/miniconda3/envs/usp/lib/python3.6/site-packages/tensorflow_core/python/ops/array_ops.py\", line 1368, in _autopacking_conversion_function\n    return _autopacking_helper(v, dtype, name or \"packed\")\n\n  File \"/Users/gabriel.t.nishimura/miniconda3/envs/usp/lib/python3.6/site-packages/tensorflow_core/python/ops/array_ops.py\", line 1274, in _autopacking_helper\n    return gen_array_ops.pack(list_or_tuple, name=name)\n\n  File \"/Users/gabriel.t.nishimura/miniconda3/envs/usp/lib/python3.6/site-packages/tensorflow_core/python/ops/gen_array_ops.py\", line 5693, in pack\n    _ops.raise_from_not_ok_status(e, name)\n\n  File \"/Users/gabriel.t.nishimura/miniconda3/envs/usp/lib/python3.6/site-packages/tensorflow_core/python/framework/ops.py\", line 6606, in raise_from_not_ok_status\n    six.raise_from(core._status_to_exception(e.code, message), None)\n\n  File \"<string>\", line 3, in raise_from\n\ntensorflow.python.framework.errors_impl.InvalidArgumentError: Shapes of all inputs must match: values[0].shape = [56880] != values[1].shape = [94560] [Op:Pack] name: packed\n\n\n\t [[{{node EagerPyFunc}}]] [Op:IteratorGetNextSync]",
      "\nDuring handling of the above exception, another exception occurred:\n",
      "\u001b[0;31mUnknownError\u001b[0m                              Traceback (most recent call last)",
      "\u001b[0;32m<ipython-input-21-3e6e5260497b>\u001b[0m in \u001b[0;36m<module>\u001b[0;34m\u001b[0m\n\u001b[1;32m     45\u001b[0m     \u001b[0;32mreturn\u001b[0m \u001b[0mtf\u001b[0m\u001b[0;34m.\u001b[0m\u001b[0mpy_function\u001b[0m\u001b[0;34m(\u001b[0m\u001b[0mfunc\u001b[0m\u001b[0;34m=\u001b[0m\u001b[0minner_test\u001b[0m\u001b[0;34m,\u001b[0m \u001b[0minp\u001b[0m\u001b[0;34m=\u001b[0m\u001b[0;34m[\u001b[0m\u001b[0mfeatures\u001b[0m\u001b[0;34m[\u001b[0m\u001b[0;34m'filename'\u001b[0m\u001b[0;34m]\u001b[0m\u001b[0;34m,\u001b[0m \u001b[0mlabels\u001b[0m\u001b[0;34m]\u001b[0m\u001b[0;34m,\u001b[0m \u001b[0mTout\u001b[0m\u001b[0;34m=\u001b[0m\u001b[0mtf\u001b[0m\u001b[0;34m.\u001b[0m\u001b[0mfloat32\u001b[0m\u001b[0;34m)\u001b[0m\u001b[0;34m,\u001b[0m \u001b[0mlabels\u001b[0m\u001b[0;34m\u001b[0m\u001b[0;34m\u001b[0m\u001b[0m\n\u001b[1;32m     46\u001b[0m \u001b[0;34m\u001b[0m\u001b[0m\n\u001b[0;32m---> 47\u001b[0;31m \u001b[0;32mfor\u001b[0m \u001b[0mfeature_batch\u001b[0m\u001b[0;34m,\u001b[0m \u001b[0mlabel_batch\u001b[0m \u001b[0;32min\u001b[0m \u001b[0mlibrivox_ds\u001b[0m\u001b[0;34m.\u001b[0m\u001b[0mmap\u001b[0m\u001b[0;34m(\u001b[0m\u001b[0mtest\u001b[0m\u001b[0;34m)\u001b[0m\u001b[0;34m.\u001b[0m\u001b[0mtake\u001b[0m\u001b[0;34m(\u001b[0m\u001b[0;36m1\u001b[0m\u001b[0;34m)\u001b[0m\u001b[0;34m:\u001b[0m\u001b[0;34m\u001b[0m\u001b[0;34m\u001b[0m\u001b[0m\n\u001b[0m\u001b[1;32m     48\u001b[0m \u001b[0;31m#     print(feature_batch.numpy())\u001b[0m\u001b[0;34m\u001b[0m\u001b[0;34m\u001b[0m\u001b[0;34m\u001b[0m\u001b[0m\n\u001b[1;32m     49\u001b[0m     \u001b[0;32mfor\u001b[0m \u001b[0mkey\u001b[0m \u001b[0;32min\u001b[0m \u001b[0mfeature_batch\u001b[0m\u001b[0;34m.\u001b[0m\u001b[0mnumpy\u001b[0m\u001b[0;34m(\u001b[0m\u001b[0;34m)\u001b[0m\u001b[0;34m:\u001b[0m\u001b[0;34m\u001b[0m\u001b[0;34m\u001b[0m\u001b[0m\n",
      "\u001b[0;32m~/miniconda3/envs/usp/lib/python3.6/site-packages/tensorflow_core/python/data/ops/iterator_ops.py\u001b[0m in \u001b[0;36m__next__\u001b[0;34m(self)\u001b[0m\n\u001b[1;32m    628\u001b[0m \u001b[0;34m\u001b[0m\u001b[0m\n\u001b[1;32m    629\u001b[0m   \u001b[0;32mdef\u001b[0m \u001b[0m__next__\u001b[0m\u001b[0;34m(\u001b[0m\u001b[0mself\u001b[0m\u001b[0;34m)\u001b[0m\u001b[0;34m:\u001b[0m  \u001b[0;31m# For Python 3 compatibility\u001b[0m\u001b[0;34m\u001b[0m\u001b[0;34m\u001b[0m\u001b[0m\n\u001b[0;32m--> 630\u001b[0;31m     \u001b[0;32mreturn\u001b[0m \u001b[0mself\u001b[0m\u001b[0;34m.\u001b[0m\u001b[0mnext\u001b[0m\u001b[0;34m(\u001b[0m\u001b[0;34m)\u001b[0m\u001b[0;34m\u001b[0m\u001b[0;34m\u001b[0m\u001b[0m\n\u001b[0m\u001b[1;32m    631\u001b[0m \u001b[0;34m\u001b[0m\u001b[0m\n\u001b[1;32m    632\u001b[0m   \u001b[0;32mdef\u001b[0m \u001b[0m_next_internal\u001b[0m\u001b[0;34m(\u001b[0m\u001b[0mself\u001b[0m\u001b[0;34m)\u001b[0m\u001b[0;34m:\u001b[0m\u001b[0;34m\u001b[0m\u001b[0;34m\u001b[0m\u001b[0m\n",
      "\u001b[0;32m~/miniconda3/envs/usp/lib/python3.6/site-packages/tensorflow_core/python/data/ops/iterator_ops.py\u001b[0m in \u001b[0;36mnext\u001b[0;34m(self)\u001b[0m\n\u001b[1;32m    672\u001b[0m     \u001b[0;34m\"\"\"Returns a nested structure of `Tensor`s containing the next element.\"\"\"\u001b[0m\u001b[0;34m\u001b[0m\u001b[0;34m\u001b[0m\u001b[0m\n\u001b[1;32m    673\u001b[0m     \u001b[0;32mtry\u001b[0m\u001b[0;34m:\u001b[0m\u001b[0;34m\u001b[0m\u001b[0;34m\u001b[0m\u001b[0m\n\u001b[0;32m--> 674\u001b[0;31m       \u001b[0;32mreturn\u001b[0m \u001b[0mself\u001b[0m\u001b[0;34m.\u001b[0m\u001b[0m_next_internal\u001b[0m\u001b[0;34m(\u001b[0m\u001b[0;34m)\u001b[0m\u001b[0;34m\u001b[0m\u001b[0;34m\u001b[0m\u001b[0m\n\u001b[0m\u001b[1;32m    675\u001b[0m     \u001b[0;32mexcept\u001b[0m \u001b[0merrors\u001b[0m\u001b[0;34m.\u001b[0m\u001b[0mOutOfRangeError\u001b[0m\u001b[0;34m:\u001b[0m\u001b[0;34m\u001b[0m\u001b[0;34m\u001b[0m\u001b[0m\n\u001b[1;32m    676\u001b[0m       \u001b[0;32mraise\u001b[0m \u001b[0mStopIteration\u001b[0m\u001b[0;34m\u001b[0m\u001b[0;34m\u001b[0m\u001b[0m\n",
      "\u001b[0;32m~/miniconda3/envs/usp/lib/python3.6/site-packages/tensorflow_core/python/data/ops/iterator_ops.py\u001b[0m in \u001b[0;36m_next_internal\u001b[0;34m(self)\u001b[0m\n\u001b[1;32m    663\u001b[0m         \u001b[0;32mreturn\u001b[0m \u001b[0mself\u001b[0m\u001b[0;34m.\u001b[0m\u001b[0m_element_spec\u001b[0m\u001b[0;34m.\u001b[0m\u001b[0m_from_compatible_tensor_list\u001b[0m\u001b[0;34m(\u001b[0m\u001b[0mret\u001b[0m\u001b[0;34m)\u001b[0m  \u001b[0;31m# pylint: disable=protected-access\u001b[0m\u001b[0;34m\u001b[0m\u001b[0;34m\u001b[0m\u001b[0m\n\u001b[1;32m    664\u001b[0m       \u001b[0;32mexcept\u001b[0m \u001b[0mAttributeError\u001b[0m\u001b[0;34m:\u001b[0m\u001b[0;34m\u001b[0m\u001b[0;34m\u001b[0m\u001b[0m\n\u001b[0;32m--> 665\u001b[0;31m         \u001b[0;32mreturn\u001b[0m \u001b[0mstructure\u001b[0m\u001b[0;34m.\u001b[0m\u001b[0mfrom_compatible_tensor_list\u001b[0m\u001b[0;34m(\u001b[0m\u001b[0mself\u001b[0m\u001b[0;34m.\u001b[0m\u001b[0m_element_spec\u001b[0m\u001b[0;34m,\u001b[0m \u001b[0mret\u001b[0m\u001b[0;34m)\u001b[0m\u001b[0;34m\u001b[0m\u001b[0;34m\u001b[0m\u001b[0m\n\u001b[0m\u001b[1;32m    666\u001b[0m \u001b[0;34m\u001b[0m\u001b[0m\n\u001b[1;32m    667\u001b[0m   \u001b[0;34m@\u001b[0m\u001b[0mproperty\u001b[0m\u001b[0;34m\u001b[0m\u001b[0;34m\u001b[0m\u001b[0m\n",
      "\u001b[0;32m~/miniconda3/envs/usp/lib/python3.6/contextlib.py\u001b[0m in \u001b[0;36m__exit__\u001b[0;34m(self, type, value, traceback)\u001b[0m\n\u001b[1;32m     97\u001b[0m                 \u001b[0mvalue\u001b[0m \u001b[0;34m=\u001b[0m \u001b[0mtype\u001b[0m\u001b[0;34m(\u001b[0m\u001b[0;34m)\u001b[0m\u001b[0;34m\u001b[0m\u001b[0;34m\u001b[0m\u001b[0m\n\u001b[1;32m     98\u001b[0m             \u001b[0;32mtry\u001b[0m\u001b[0;34m:\u001b[0m\u001b[0;34m\u001b[0m\u001b[0;34m\u001b[0m\u001b[0m\n\u001b[0;32m---> 99\u001b[0;31m                 \u001b[0mself\u001b[0m\u001b[0;34m.\u001b[0m\u001b[0mgen\u001b[0m\u001b[0;34m.\u001b[0m\u001b[0mthrow\u001b[0m\u001b[0;34m(\u001b[0m\u001b[0mtype\u001b[0m\u001b[0;34m,\u001b[0m \u001b[0mvalue\u001b[0m\u001b[0;34m,\u001b[0m \u001b[0mtraceback\u001b[0m\u001b[0;34m)\u001b[0m\u001b[0;34m\u001b[0m\u001b[0;34m\u001b[0m\u001b[0m\n\u001b[0m\u001b[1;32m    100\u001b[0m             \u001b[0;32mexcept\u001b[0m \u001b[0mStopIteration\u001b[0m \u001b[0;32mas\u001b[0m \u001b[0mexc\u001b[0m\u001b[0;34m:\u001b[0m\u001b[0;34m\u001b[0m\u001b[0;34m\u001b[0m\u001b[0m\n\u001b[1;32m    101\u001b[0m                 \u001b[0;31m# Suppress StopIteration *unless* it's the same exception that\u001b[0m\u001b[0;34m\u001b[0m\u001b[0;34m\u001b[0m\u001b[0;34m\u001b[0m\u001b[0m\n",
      "\u001b[0;32m~/miniconda3/envs/usp/lib/python3.6/site-packages/tensorflow_core/python/eager/context.py\u001b[0m in \u001b[0;36mexecution_mode\u001b[0;34m(mode)\u001b[0m\n\u001b[1;32m   1898\u001b[0m   \u001b[0;32mfinally\u001b[0m\u001b[0;34m:\u001b[0m\u001b[0;34m\u001b[0m\u001b[0;34m\u001b[0m\u001b[0m\n\u001b[1;32m   1899\u001b[0m     \u001b[0mctx\u001b[0m\u001b[0;34m.\u001b[0m\u001b[0mexecutor\u001b[0m \u001b[0;34m=\u001b[0m \u001b[0mexecutor_old\u001b[0m\u001b[0;34m\u001b[0m\u001b[0;34m\u001b[0m\u001b[0m\n\u001b[0;32m-> 1900\u001b[0;31m     \u001b[0mexecutor_new\u001b[0m\u001b[0;34m.\u001b[0m\u001b[0mwait\u001b[0m\u001b[0;34m(\u001b[0m\u001b[0;34m)\u001b[0m\u001b[0;34m\u001b[0m\u001b[0;34m\u001b[0m\u001b[0m\n\u001b[0m\u001b[1;32m   1901\u001b[0m \u001b[0;34m\u001b[0m\u001b[0m\n\u001b[1;32m   1902\u001b[0m \u001b[0;34m\u001b[0m\u001b[0m\n",
      "\u001b[0;32m~/miniconda3/envs/usp/lib/python3.6/site-packages/tensorflow_core/python/eager/executor.py\u001b[0m in \u001b[0;36mwait\u001b[0;34m(self)\u001b[0m\n\u001b[1;32m     65\u001b[0m   \u001b[0;32mdef\u001b[0m \u001b[0mwait\u001b[0m\u001b[0;34m(\u001b[0m\u001b[0mself\u001b[0m\u001b[0;34m)\u001b[0m\u001b[0;34m:\u001b[0m\u001b[0;34m\u001b[0m\u001b[0;34m\u001b[0m\u001b[0m\n\u001b[1;32m     66\u001b[0m     \u001b[0;34m\"\"\"Waits for ops dispatched in this executor to finish.\"\"\"\u001b[0m\u001b[0;34m\u001b[0m\u001b[0;34m\u001b[0m\u001b[0m\n\u001b[0;32m---> 67\u001b[0;31m     \u001b[0mpywrap_tensorflow\u001b[0m\u001b[0;34m.\u001b[0m\u001b[0mTFE_ExecutorWaitForAllPendingNodes\u001b[0m\u001b[0;34m(\u001b[0m\u001b[0mself\u001b[0m\u001b[0;34m.\u001b[0m\u001b[0m_handle\u001b[0m\u001b[0;34m)\u001b[0m\u001b[0;34m\u001b[0m\u001b[0;34m\u001b[0m\u001b[0m\n\u001b[0m\u001b[1;32m     68\u001b[0m \u001b[0;34m\u001b[0m\u001b[0m\n\u001b[1;32m     69\u001b[0m   \u001b[0;32mdef\u001b[0m \u001b[0mclear_error\u001b[0m\u001b[0;34m(\u001b[0m\u001b[0mself\u001b[0m\u001b[0;34m)\u001b[0m\u001b[0;34m:\u001b[0m\u001b[0;34m\u001b[0m\u001b[0;34m\u001b[0m\u001b[0m\n",
      "\u001b[0;31mUnknownError\u001b[0m: InvalidArgumentError: Shapes of all inputs must match: values[0].shape = [56880] != values[1].shape = [94560] [Op:Pack] name: packed\nTraceback (most recent call last):\n\n  File \"/Users/gabriel.t.nishimura/miniconda3/envs/usp/lib/python3.6/site-packages/tensorflow_core/python/ops/script_ops.py\", line 234, in __call__\n    return func(device, token, args)\n\n  File \"/Users/gabriel.t.nishimura/miniconda3/envs/usp/lib/python3.6/site-packages/tensorflow_core/python/ops/script_ops.py\", line 123, in __call__\n    ret = self._func(*args)\n\n  File \"<ipython-input-21-3e6e5260497b>\", line 39, in inner_test\n    padded = tf.pad(new_features, paddings, \"CONSTANT\")\n\n  File \"/Users/gabriel.t.nishimura/miniconda3/envs/usp/lib/python3.6/site-packages/tensorflow_core/python/ops/array_ops.py\", line 2873, in pad_v2\n    return pad(tensor, paddings, mode, name, constant_values)\n\n  File \"/Users/gabriel.t.nishimura/miniconda3/envs/usp/lib/python3.6/site-packages/tensorflow_core/python/ops/array_ops.py\", line 2939, in pad\n    result = gen_array_ops.pad(tensor, paddings, name=name)\n\n  File \"/Users/gabriel.t.nishimura/miniconda3/envs/usp/lib/python3.6/site-packages/tensorflow_core/python/ops/gen_array_ops.py\", line 5784, in pad\n    input, paddings, name=name, ctx=_ctx)\n\n  File \"/Users/gabriel.t.nishimura/miniconda3/envs/usp/lib/python3.6/site-packages/tensorflow_core/python/ops/gen_array_ops.py\", line 5806, in pad_eager_fallback\n    _attr_T, (input,) = _execute.args_to_matching_eager([input], ctx)\n\n  File \"/Users/gabriel.t.nishimura/miniconda3/envs/usp/lib/python3.6/site-packages/tensorflow_core/python/eager/execute.py\", line 263, in args_to_matching_eager\n    t, dtype, preferred_dtype=default_dtype, ctx=ctx))\n\n  File \"/Users/gabriel.t.nishimura/miniconda3/envs/usp/lib/python3.6/site-packages/tensorflow_core/python/framework/ops.py\", line 1314, in convert_to_tensor\n    ret = conversion_func(value, dtype=dtype, name=name, as_ref=as_ref)\n\n  File \"/Users/gabriel.t.nishimura/miniconda3/envs/usp/lib/python3.6/site-packages/tensorflow_core/python/ops/array_ops.py\", line 1368, in _autopacking_conversion_function\n    return _autopacking_helper(v, dtype, name or \"packed\")\n\n  File \"/Users/gabriel.t.nishimura/miniconda3/envs/usp/lib/python3.6/site-packages/tensorflow_core/python/ops/array_ops.py\", line 1274, in _autopacking_helper\n    return gen_array_ops.pack(list_or_tuple, name=name)\n\n  File \"/Users/gabriel.t.nishimura/miniconda3/envs/usp/lib/python3.6/site-packages/tensorflow_core/python/ops/gen_array_ops.py\", line 5693, in pack\n    _ops.raise_from_not_ok_status(e, name)\n\n  File \"/Users/gabriel.t.nishimura/miniconda3/envs/usp/lib/python3.6/site-packages/tensorflow_core/python/framework/ops.py\", line 6606, in raise_from_not_ok_status\n    six.raise_from(core._status_to_exception(e.code, message), None)\n\n  File \"<string>\", line 3, in raise_from\n\ntensorflow.python.framework.errors_impl.InvalidArgumentError: Shapes of all inputs must match: values[0].shape = [56880] != values[1].shape = [94560] [Op:Pack] name: packed\n\n\n\t [[{{node EagerPyFunc}}]]"
     ]
    }
   ],
   "source": [
    "from soundfile import read\n",
    "import numpy as np\n",
    "from tensorflow.keras.preprocessing.sequence import pad_sequences\n",
    "from librosa.feature import mfcc, melspectrogram\n",
    "\n",
    "batch_size=4\n",
    "frame_length=320\n",
    "hop_length=160\n",
    "n_mels=40\n",
    "mfcc_features=26\n",
    "shuffle=True\n",
    "\n",
    "def read_and_aggregate(features):\n",
    "    sr = 0\n",
    "    batch_spectograms = []\n",
    "    max_length = 0\n",
    "    for index, value in enumerate(features.numpy()):\n",
    "        # open sound file\n",
    "        spectogram_frames, sr = read(value.decode('UTF-8'))\n",
    "        if len(spectogram_frames) > max_length:\n",
    "            max_length = len(spectogram_frames)\n",
    "\n",
    "        # add it to the array\n",
    "        batch_spectograms.append(spectogram_frames)\n",
    "    \n",
    "    return batch_spectograms, sr, max_length\n",
    "\n",
    "def inner_test(features, labels):\n",
    "    x_data_raw, sr, max_length = read_and_aggregate(features)\n",
    "\n",
    "    # converting into tensor\n",
    "    new_features = []\n",
    "    padded = None\n",
    "    for spectogram in x_data_raw:\n",
    "        pre_tensor = np.asarray(spectogram).astype(np.float32)\n",
    "        new_features.append(tf.convert_to_tensor(pre_tensor,\n",
    "                                                 dtype=np.float32))\n",
    "        paddings = tf.constant([[0, 0,], [0, max_length]])\n",
    "        padded = tf.pad(new_features, paddings, \"CONSTANT\")\n",
    "        stfts = tf.signal.stft(padded, frame_length=1024, frame_step=256,fft_length=1024)\n",
    "\n",
    "    return padded, labels\n",
    "\n",
    "def test(features, labels):\n",
    "    return tf.py_function(func=inner_test, inp=[features['filename'], labels], Tout=tf.float32), labels\n",
    "\n",
    "for feature_batch, label_batch in librivox_ds.map(test).take(1):\n",
    "    for key in feature_batch.numpy():\n",
    "        print(key)\n"
   ]
  }
 ],
 "metadata": {
  "kernelspec": {
   "display_name": "Python 3",
   "language": "python",
   "name": "python3"
  },
  "language_info": {
   "codemirror_mode": {
    "name": "ipython",
    "version": 3
   },
   "file_extension": ".py",
   "mimetype": "text/x-python",
   "name": "python",
   "nbconvert_exporter": "python",
   "pygments_lexer": "ipython3",
   "version": "3.6.10"
  }
 },
 "nbformat": 4,
 "nbformat_minor": 4
}
