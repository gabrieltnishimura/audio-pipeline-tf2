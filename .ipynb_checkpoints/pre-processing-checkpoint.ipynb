{
 "cells": [
  {
   "cell_type": "code",
   "execution_count": null,
   "metadata": {},
   "outputs": [],
   "source": [
    "# This notebook will pre-process the librivox test-clean dataset, \n",
    "#   1) loading the csv, \n",
    "#   2) converting it to spectogram format and then\n",
    "#   3) saving it"
   ]
  },
  {
   "cell_type": "code",
   "execution_count": 112,
   "metadata": {},
   "outputs": [
    {
     "data": {
      "text/html": [
       "<div>\n",
       "<style scoped>\n",
       "    .dataframe tbody tr th:only-of-type {\n",
       "        vertical-align: middle;\n",
       "    }\n",
       "\n",
       "    .dataframe tbody tr th {\n",
       "        vertical-align: top;\n",
       "    }\n",
       "\n",
       "    .dataframe thead th {\n",
       "        text-align: right;\n",
       "    }\n",
       "</style>\n",
       "<table border=\"1\" class=\"dataframe\">\n",
       "  <thead>\n",
       "    <tr style=\"text-align: right;\">\n",
       "      <th></th>\n",
       "      <th>filename</th>\n",
       "      <th>transcript</th>\n",
       "    </tr>\n",
       "  </thead>\n",
       "  <tbody>\n",
       "    <tr>\n",
       "      <th>0</th>\n",
       "      <td>/Users/gabriel.t.nishimura/projects/masters/ct...</td>\n",
       "      <td>young fitzooth had been commanded to his mothe...</td>\n",
       "    </tr>\n",
       "    <tr>\n",
       "      <th>1</th>\n",
       "      <td>/Users/gabriel.t.nishimura/projects/masters/ct...</td>\n",
       "      <td>there befell an anxious interview mistress fit...</td>\n",
       "    </tr>\n",
       "    <tr>\n",
       "      <th>2</th>\n",
       "      <td>/Users/gabriel.t.nishimura/projects/masters/ct...</td>\n",
       "      <td>most of all robin thought of his father what w...</td>\n",
       "    </tr>\n",
       "    <tr>\n",
       "      <th>3</th>\n",
       "      <td>/Users/gabriel.t.nishimura/projects/masters/ct...</td>\n",
       "      <td>if for a whim you beggar yourself i cannot sta...</td>\n",
       "    </tr>\n",
       "    <tr>\n",
       "      <th>4</th>\n",
       "      <td>/Users/gabriel.t.nishimura/projects/masters/ct...</td>\n",
       "      <td>but take it whilst i live and wear montfichet'...</td>\n",
       "    </tr>\n",
       "    <tr>\n",
       "      <th>...</th>\n",
       "      <td>...</td>\n",
       "      <td>...</td>\n",
       "    </tr>\n",
       "    <tr>\n",
       "      <th>2615</th>\n",
       "      <td>/Users/gabriel.t.nishimura/projects/masters/ct...</td>\n",
       "      <td>it is evident therefore that the present trend...</td>\n",
       "    </tr>\n",
       "    <tr>\n",
       "      <th>2616</th>\n",
       "      <td>/Users/gabriel.t.nishimura/projects/masters/ct...</td>\n",
       "      <td>it is also noticeable that the serviceability ...</td>\n",
       "    </tr>\n",
       "    <tr>\n",
       "      <th>2617</th>\n",
       "      <td>/Users/gabriel.t.nishimura/projects/masters/ct...</td>\n",
       "      <td>consumption becomes a larger element in the st...</td>\n",
       "    </tr>\n",
       "    <tr>\n",
       "      <th>2618</th>\n",
       "      <td>/Users/gabriel.t.nishimura/projects/masters/ct...</td>\n",
       "      <td>among the country population its place is to s...</td>\n",
       "    </tr>\n",
       "    <tr>\n",
       "      <th>2619</th>\n",
       "      <td>/Users/gabriel.t.nishimura/projects/masters/ct...</td>\n",
       "      <td>the result is a great mobility of the labor em...</td>\n",
       "    </tr>\n",
       "  </tbody>\n",
       "</table>\n",
       "<p>2620 rows × 2 columns</p>\n",
       "</div>"
      ],
      "text/plain": [
       "                                               filename  \\\n",
       "0     /Users/gabriel.t.nishimura/projects/masters/ct...   \n",
       "1     /Users/gabriel.t.nishimura/projects/masters/ct...   \n",
       "2     /Users/gabriel.t.nishimura/projects/masters/ct...   \n",
       "3     /Users/gabriel.t.nishimura/projects/masters/ct...   \n",
       "4     /Users/gabriel.t.nishimura/projects/masters/ct...   \n",
       "...                                                 ...   \n",
       "2615  /Users/gabriel.t.nishimura/projects/masters/ct...   \n",
       "2616  /Users/gabriel.t.nishimura/projects/masters/ct...   \n",
       "2617  /Users/gabriel.t.nishimura/projects/masters/ct...   \n",
       "2618  /Users/gabriel.t.nishimura/projects/masters/ct...   \n",
       "2619  /Users/gabriel.t.nishimura/projects/masters/ct...   \n",
       "\n",
       "                                             transcript  \n",
       "0     young fitzooth had been commanded to his mothe...  \n",
       "1     there befell an anxious interview mistress fit...  \n",
       "2     most of all robin thought of his father what w...  \n",
       "3     if for a whim you beggar yourself i cannot sta...  \n",
       "4     but take it whilst i live and wear montfichet'...  \n",
       "...                                                 ...  \n",
       "2615  it is evident therefore that the present trend...  \n",
       "2616  it is also noticeable that the serviceability ...  \n",
       "2617  consumption becomes a larger element in the st...  \n",
       "2618  among the country population its place is to s...  \n",
       "2619  the result is a great mobility of the labor em...  \n",
       "\n",
       "[2620 rows x 2 columns]"
      ]
     },
     "execution_count": 112,
     "metadata": {},
     "output_type": "execute_result"
    }
   ],
   "source": [
    "import pandas as pd\n",
    "from soundfile import read\n",
    "\n",
    "sr = 0\n",
    "df = pd.read_csv(\"librivox-test-clean.csv\")\n",
    "\n",
    "def convert_to_spectogram(filename):\n",
    "    global sr\n",
    "    spectogram_frames, sr = read(filename)\n",
    "    return spectogram_frames\n",
    "\n",
    "df['spectogram'] = df['filename'].apply(convert_to_spectogram)\n",
    "df['sr'] = sr\n",
    "df2 = df.filter([\"transcript\", \"spectogram\", \"sr\"])\n",
    "df2"
   ]
  },
  {
   "cell_type": "code",
   "execution_count": 119,
   "metadata": {},
   "outputs": [
    {
     "data": {
      "text/plain": [
       "array([\"young fitzooth had been commanded to his mother's chamber so soon as he had come out from his converse with the squire\",\n",
       "       array([ 0.00073242,  0.00082397,  0.0017395 , ..., -0.00631714,\n",
       "       -0.00570679, -0.00668335]),\n",
       "       16000], dtype=object)"
      ]
     },
     "execution_count": 119,
     "metadata": {},
     "output_type": "execute_result"
    }
   ],
   "source": [
    "np.save('spectogram', df2.to_numpy())"
   ]
  },
  {
   "cell_type": "code",
   "execution_count": 128,
   "metadata": {},
   "outputs": [
    {
     "data": {
      "text/plain": [
       "array([[\"young fitzooth had been commanded to his mother's chamber so soon as he had come out from his converse with the squire\",\n",
       "        array([ 0.00073242,  0.00082397,  0.0017395 , ..., -0.00631714,\n",
       "       -0.00570679, -0.00668335]),\n",
       "        16000],\n",
       "       [\"there befell an anxious interview mistress fitzooth arguing for and against the squire's project in a breath\",\n",
       "        array([-0.00778198, -0.00921631, -0.00909424, ..., -0.00262451,\n",
       "       -0.00671387, -0.01138306]),\n",
       "        16000],\n",
       "       ['most of all robin thought of his father what would he counsel',\n",
       "        array([ 0.00292969,  0.00299072,  0.00280762, ..., -0.00195312,\n",
       "       -0.00192261, -0.00283813]),\n",
       "        16000],\n",
       "       ...,\n",
       "       ['consumption becomes a larger element in the standard of living in the city than in the country',\n",
       "        array([0.        , 0.        , 0.        , ..., 0.00424194, 0.00424194,\n",
       "       0.00466919]),\n",
       "        16000],\n",
       "       ['among the country population its place is to some extent taken by savings and home comforts known through the medium of neighborhood gossip sufficiently to serve the like general purpose of pecuniary repute',\n",
       "        array([0.00427246, 0.00457764, 0.00469971, ..., 0.00280762, 0.00280762,\n",
       "       0.00317383]),\n",
       "        16000],\n",
       "       ['the result is a great mobility of the labor employed in printing perhaps greater than in any other equally well defined and considerable body of workmen',\n",
       "        array([0.00305176, 0.00289917, 0.00326538, ..., 0.00286865, 0.00296021,\n",
       "       0.00302124]),\n",
       "        16000]], dtype=object)"
      ]
     },
     "execution_count": 128,
     "metadata": {},
     "output_type": "execute_result"
    }
   ],
   "source": [
    "data = np.load('spectogram.npy', allow_pickle=True)\n",
    "data"
   ]
  }
 ],
 "metadata": {
  "kernelspec": {
   "display_name": "Python 3",
   "language": "python",
   "name": "python3"
  },
  "language_info": {
   "codemirror_mode": {
    "name": "ipython",
    "version": 3
   },
   "file_extension": ".py",
   "mimetype": "text/x-python",
   "name": "python",
   "nbconvert_exporter": "python",
   "pygments_lexer": "ipython3",
   "version": "3.6.10"
  }
 },
 "nbformat": 4,
 "nbformat_minor": 4
}
