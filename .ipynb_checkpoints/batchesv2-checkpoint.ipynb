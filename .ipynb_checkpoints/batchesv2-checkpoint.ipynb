{
 "cells": [
  {
   "cell_type": "markdown",
   "metadata": {},
   "source": [
    "# Batches v2"
   ]
  },
  {
   "cell_type": "code",
   "execution_count": 1,
   "metadata": {
    "ExecuteTime": {
     "end_time": "2020-04-25T12:24:08.448137Z",
     "start_time": "2020-04-25T12:24:04.612916Z"
    }
   },
   "outputs": [
    {
     "name": "stdout",
     "output_type": "stream",
     "text": [
      "[[[0.000732421875]\n",
      "  [0.000823974609]\n",
      "  [0.00173950195]\n",
      "  ...\n",
      "  [0]\n",
      "  [0]\n",
      "  [0]]\n",
      "\n",
      " [[-0.00778198242]\n",
      "  [-0.00921630859]\n",
      "  [-0.00909423828]\n",
      "  ...\n",
      "  [-0.00262451172]\n",
      "  [-0.00671386719]\n",
      "  [-0.0113830566]]]\n"
     ]
    }
   ],
   "source": [
    "import tensorflow as tf\n",
    "\n",
    "def process_path(paths, labels):\n",
    "    features = []\n",
    "    # load waveforms in memory\n",
    "    for path in paths:\n",
    "        raw_audio = tf.io.read_file(path)\n",
    "        waveform, sr = tf.audio.decode_wav(raw_audio)\n",
    "        features.append(waveform)\n",
    "\n",
    "#     tf.print(features[0], len(features[0]), len(features[1]))\n",
    "    features = tf.keras.preprocessing.sequence.pad_sequences(features, dtype='float', padding='post', truncating='post')\n",
    "#     tf.print(features[0], len(features[0]), len(features[1]))\n",
    "#     tf.print(features)\n",
    "    return features, labels\n",
    "\n",
    "def tf_function_wrapper(features, labels):\n",
    "    return tf.py_function(func=process_path, inp=[features['filename'], labels], Tout=tf.float32), labels\n",
    "\n",
    "librivox_paths_ds = tf.data.experimental.make_csv_dataset(\n",
    "    \"librivox-test-clean-wav.csv\", batch_size=2,\n",
    "    shuffle=False, label_name=\"transcript\")\n",
    "\n",
    "librivox_ds = librivox_paths_ds.map(tf_function_wrapper)\n",
    "\n",
    "for feature_batch, labels in librivox_ds.take(1):\n",
    "    tf.print(feature_batch)\n",
    "\n",
    "    "
   ]
  },
  {
   "cell_type": "code",
   "execution_count": 51,
   "metadata": {
    "ExecuteTime": {
     "end_time": "2020-04-24T17:03:59.098072Z",
     "start_time": "2020-04-24T17:03:59.049584Z"
    }
   },
   "outputs": [
    {
     "name": "stdout",
     "output_type": "stream",
     "text": [
      "[[-0.00778198242]\n",
      " [-0.00921630859]\n",
      " [-0.00909423828]\n",
      " ...\n",
      " [-0.00262451172]\n",
      " [-0.00671386719]\n",
      " [-0.0113830566]]\n"
     ]
    },
    {
     "ename": "AttributeError",
     "evalue": "'tuple' object has no attribute 'numpy'",
     "output_type": "error",
     "traceback": [
      "\u001b[0;31m---------------------------------------------------------------------------\u001b[0m",
      "\u001b[0;31mAttributeError\u001b[0m                            Traceback (most recent call last)",
      "\u001b[0;32m<ipython-input-51-c98a19eaf9f6>\u001b[0m in \u001b[0;36m<module>\u001b[0;34m\u001b[0m\n\u001b[1;32m      1\u001b[0m \u001b[0;32mfor\u001b[0m \u001b[0mfeature_batch\u001b[0m \u001b[0;32min\u001b[0m \u001b[0mlibrivox_ds\u001b[0m\u001b[0;34m.\u001b[0m\u001b[0mtake\u001b[0m\u001b[0;34m(\u001b[0m\u001b[0;36m1\u001b[0m\u001b[0;34m)\u001b[0m\u001b[0;34m:\u001b[0m\u001b[0;34m\u001b[0m\u001b[0;34m\u001b[0m\u001b[0m\n\u001b[1;32m      2\u001b[0m     \u001b[0mtf\u001b[0m\u001b[0;34m.\u001b[0m\u001b[0mprint\u001b[0m\u001b[0;34m(\u001b[0m\u001b[0mfeature_batch\u001b[0m\u001b[0;34m[\u001b[0m\u001b[0;36m0\u001b[0m\u001b[0;34m]\u001b[0m\u001b[0;34m[\u001b[0m\u001b[0;36m1\u001b[0m\u001b[0;34m]\u001b[0m\u001b[0;34m)\u001b[0m\u001b[0;34m\u001b[0m\u001b[0;34m\u001b[0m\u001b[0m\n\u001b[0;32m----> 3\u001b[0;31m     \u001b[0;32mfor\u001b[0m \u001b[0mkey\u001b[0m\u001b[0;34m,\u001b[0m \u001b[0mvaleu\u001b[0m \u001b[0;32min\u001b[0m \u001b[0mfeature_batch\u001b[0m\u001b[0;34m.\u001b[0m\u001b[0mnumpy\u001b[0m\u001b[0;34m(\u001b[0m\u001b[0;34m)\u001b[0m\u001b[0;34m:\u001b[0m\u001b[0;34m\u001b[0m\u001b[0;34m\u001b[0m\u001b[0m\n\u001b[0m\u001b[1;32m      4\u001b[0m         \u001b[0mprint\u001b[0m\u001b[0;34m(\u001b[0m\u001b[0mkey\u001b[0m\u001b[0;34m)\u001b[0m\u001b[0;34m\u001b[0m\u001b[0;34m\u001b[0m\u001b[0m\n\u001b[1;32m      5\u001b[0m \u001b[0;31m#     for key, valeu in feature_batch.numpy():\u001b[0m\u001b[0;34m\u001b[0m\u001b[0;34m\u001b[0m\u001b[0;34m\u001b[0m\u001b[0m\n",
      "\u001b[0;31mAttributeError\u001b[0m: 'tuple' object has no attribute 'numpy'"
     ]
    }
   ],
   "source": [
    "for feature_batch in librivox_ds.take(1):\n",
    "    tf.print(feature_batch[0][1])\n",
    "    for key, valeu in feature_batch.numpy():\n",
    "        print(key)\n",
    "#     for key, valeu in feature_batch.numpy():\n",
    "#         print(value)"
   ]
  },
  {
   "cell_type": "code",
   "execution_count": null,
   "metadata": {},
   "outputs": [],
   "source": []
  },
  {
   "cell_type": "code",
   "execution_count": 91,
   "metadata": {
    "ExecuteTime": {
     "end_time": "2020-04-19T19:10:28.348205Z",
     "start_time": "2020-04-19T19:10:28.342538Z"
    }
   },
   "outputs": [
    {
     "data": {
      "text/plain": [
       "<tf.Tensor: shape=(2, 5), dtype=int32, numpy=\n",
       "array([[1, 2, 3, 0, 0],\n",
       "       [4, 5, 6, 0, 0]], dtype=int32)>"
      ]
     },
     "execution_count": 91,
     "metadata": {},
     "output_type": "execute_result"
    }
   ],
   "source": [
    "import tensorflow as tf\n",
    "t = tf.constant([[1, 2, 3], [4, 5, 6]])\n",
    "paddings = tf.constant([[0, 0], [0, 2]])\n",
    "# 'constant_values' is 0.\n",
    "# rank of 't' is 2.\n",
    "a = tf.pad(t, paddings, \"CONSTANT\")  # [[0, 0, 0, 0, 0, 0, 0],\n",
    "                                 #  [0, 0, 1, 2, 3, 0, 0],\n",
    "                                 #  [0, 0, 4, 5, 6, 0, 0],\n",
    "                                 #  [0, 0, 0, 0, 0, 0, 0]]\n",
    "a"
   ]
  },
  {
   "cell_type": "code",
   "execution_count": 3,
   "metadata": {
    "ExecuteTime": {
     "end_time": "2020-04-25T12:24:33.064571Z",
     "start_time": "2020-04-25T12:24:33.028937Z"
    }
   },
   "outputs": [
    {
     "data": {
      "text/plain": [
       "(array([ 0.00073242,  0.00082397,  0.0017395 , ..., -0.00631714,\n",
       "        -0.00570679, -0.00668335]),\n",
       " 16000)"
      ]
     },
     "execution_count": 3,
     "metadata": {},
     "output_type": "execute_result"
    }
   ],
   "source": [
    "from soundfile import read\n",
    "path = '/Users/gabriel.t.nishimura/projects/masters/ctc/data_dir/LibriSpeech/test-clean-new/61-70970-0000.wav'\n",
    "read(path)"
   ]
  },
  {
   "cell_type": "code",
   "execution_count": 5,
   "metadata": {
    "ExecuteTime": {
     "end_time": "2020-04-25T12:24:50.027370Z",
     "start_time": "2020-04-25T12:24:49.928239Z"
    }
   },
   "outputs": [
    {
     "ename": "InvalidArgumentError",
     "evalue": "Input dimension 1 must have length of at least 160 but got: 80 [Op:RFFT] name: mfccs_from_log_mel_spectrograms/dct/rfft/",
     "output_type": "error",
     "traceback": [
      "\u001b[0;31m---------------------------------------------------------------------------\u001b[0m",
      "\u001b[0;31mInvalidArgumentError\u001b[0m                      Traceback (most recent call last)",
      "\u001b[0;32m<ipython-input-5-2445a51122ec>\u001b[0m in \u001b[0;36m<module>\u001b[0;34m\u001b[0m\n\u001b[1;32m     23\u001b[0m \u001b[0;34m\u001b[0m\u001b[0m\n\u001b[1;32m     24\u001b[0m \u001b[0;31m# Compute MFCCs from log_mel_spectrograms and take the first 13.\u001b[0m\u001b[0;34m\u001b[0m\u001b[0;34m\u001b[0m\u001b[0;34m\u001b[0m\u001b[0m\n\u001b[0;32m---> 25\u001b[0;31m \u001b[0mmfccs\u001b[0m \u001b[0;34m=\u001b[0m \u001b[0mtf\u001b[0m\u001b[0;34m.\u001b[0m\u001b[0msignal\u001b[0m\u001b[0;34m.\u001b[0m\u001b[0mmfccs_from_log_mel_spectrograms\u001b[0m\u001b[0;34m(\u001b[0m\u001b[0mlog_mel_spectrograms\u001b[0m\u001b[0;34m)\u001b[0m\u001b[0;34m\u001b[0m\u001b[0;34m\u001b[0m\u001b[0m\n\u001b[0m\u001b[1;32m     26\u001b[0m \u001b[0mtf\u001b[0m\u001b[0;34m.\u001b[0m\u001b[0mprint\u001b[0m\u001b[0;34m(\u001b[0m\u001b[0mmfccs\u001b[0m\u001b[0;34m)\u001b[0m\u001b[0;34m\u001b[0m\u001b[0;34m\u001b[0m\u001b[0m\n",
      "\u001b[0;32m~/miniconda3/envs/usp/lib/python3.6/site-packages/tensorflow_core/python/ops/signal/mfcc_ops.py\u001b[0m in \u001b[0;36mmfccs_from_log_mel_spectrograms\u001b[0;34m(log_mel_spectrograms, name)\u001b[0m\n\u001b[1;32m    105\u001b[0m       \u001b[0mnum_mel_bins\u001b[0m \u001b[0;34m=\u001b[0m \u001b[0marray_ops\u001b[0m\u001b[0;34m.\u001b[0m\u001b[0mshape\u001b[0m\u001b[0;34m(\u001b[0m\u001b[0mlog_mel_spectrograms\u001b[0m\u001b[0;34m)\u001b[0m\u001b[0;34m[\u001b[0m\u001b[0;34m-\u001b[0m\u001b[0;36m1\u001b[0m\u001b[0;34m]\u001b[0m\u001b[0;34m\u001b[0m\u001b[0;34m\u001b[0m\u001b[0m\n\u001b[1;32m    106\u001b[0m \u001b[0;34m\u001b[0m\u001b[0m\n\u001b[0;32m--> 107\u001b[0;31m     \u001b[0mdct2\u001b[0m \u001b[0;34m=\u001b[0m \u001b[0mdct_ops\u001b[0m\u001b[0;34m.\u001b[0m\u001b[0mdct\u001b[0m\u001b[0;34m(\u001b[0m\u001b[0mlog_mel_spectrograms\u001b[0m\u001b[0;34m,\u001b[0m \u001b[0mtype\u001b[0m\u001b[0;34m=\u001b[0m\u001b[0;36m2\u001b[0m\u001b[0;34m)\u001b[0m\u001b[0;34m\u001b[0m\u001b[0;34m\u001b[0m\u001b[0m\n\u001b[0m\u001b[1;32m    108\u001b[0m     return dct2 * math_ops.rsqrt(\n\u001b[1;32m    109\u001b[0m         math_ops.cast(num_mel_bins, dct2.dtype) * 2.0)\n",
      "\u001b[0;32m~/miniconda3/envs/usp/lib/python3.6/site-packages/tensorflow_core/python/ops/signal/dct_ops.py\u001b[0m in \u001b[0;36mdct\u001b[0;34m(input, type, n, axis, norm, name)\u001b[0m\n\u001b[1;32m    128\u001b[0m       dct2 = _math_ops.real(\n\u001b[1;32m    129\u001b[0m           fft_ops.rfft(\n\u001b[0;32m--> 130\u001b[0;31m               input, fft_length=[2 * axis_dim])[..., :axis_dim] * scale)\n\u001b[0m\u001b[1;32m    131\u001b[0m \u001b[0;34m\u001b[0m\u001b[0m\n\u001b[1;32m    132\u001b[0m       \u001b[0;32mif\u001b[0m \u001b[0mnorm\u001b[0m \u001b[0;34m==\u001b[0m \u001b[0;34m\"ortho\"\u001b[0m\u001b[0;34m:\u001b[0m\u001b[0;34m\u001b[0m\u001b[0;34m\u001b[0m\u001b[0m\n",
      "\u001b[0;32m~/miniconda3/envs/usp/lib/python3.6/site-packages/tensorflow_core/python/ops/signal/fft_ops.py\u001b[0m in \u001b[0;36m_rfft\u001b[0;34m(input_tensor, fft_length, name)\u001b[0m\n\u001b[1;32m    134\u001b[0m         \u001b[0mfft_length\u001b[0m \u001b[0;34m=\u001b[0m \u001b[0m_ops\u001b[0m\u001b[0;34m.\u001b[0m\u001b[0mconvert_to_tensor\u001b[0m\u001b[0;34m(\u001b[0m\u001b[0mfft_length\u001b[0m\u001b[0;34m,\u001b[0m \u001b[0m_dtypes\u001b[0m\u001b[0;34m.\u001b[0m\u001b[0mint32\u001b[0m\u001b[0;34m)\u001b[0m\u001b[0;34m\u001b[0m\u001b[0;34m\u001b[0m\u001b[0m\n\u001b[1;32m    135\u001b[0m       \u001b[0minput_tensor\u001b[0m \u001b[0;34m=\u001b[0m \u001b[0m_maybe_pad_for_rfft\u001b[0m\u001b[0;34m(\u001b[0m\u001b[0minput_tensor\u001b[0m\u001b[0;34m,\u001b[0m \u001b[0mfft_rank\u001b[0m\u001b[0;34m,\u001b[0m \u001b[0mfft_length\u001b[0m\u001b[0;34m)\u001b[0m\u001b[0;34m\u001b[0m\u001b[0;34m\u001b[0m\u001b[0m\n\u001b[0;32m--> 136\u001b[0;31m       \u001b[0;32mreturn\u001b[0m \u001b[0mfft_fn\u001b[0m\u001b[0;34m(\u001b[0m\u001b[0minput_tensor\u001b[0m\u001b[0;34m,\u001b[0m \u001b[0mfft_length\u001b[0m\u001b[0;34m,\u001b[0m \u001b[0mTcomplex\u001b[0m\u001b[0;34m=\u001b[0m\u001b[0mcomplex_dtype\u001b[0m\u001b[0;34m,\u001b[0m \u001b[0mname\u001b[0m\u001b[0;34m=\u001b[0m\u001b[0mname\u001b[0m\u001b[0;34m)\u001b[0m\u001b[0;34m\u001b[0m\u001b[0;34m\u001b[0m\u001b[0m\n\u001b[0m\u001b[1;32m    137\u001b[0m   \u001b[0m_rfft\u001b[0m\u001b[0;34m.\u001b[0m\u001b[0m__doc__\u001b[0m \u001b[0;34m=\u001b[0m \u001b[0mfft_fn\u001b[0m\u001b[0;34m.\u001b[0m\u001b[0m__doc__\u001b[0m\u001b[0;34m\u001b[0m\u001b[0;34m\u001b[0m\u001b[0m\n\u001b[1;32m    138\u001b[0m   \u001b[0;32mreturn\u001b[0m \u001b[0m_rfft\u001b[0m\u001b[0;34m\u001b[0m\u001b[0;34m\u001b[0m\u001b[0m\n",
      "\u001b[0;32m~/miniconda3/envs/usp/lib/python3.6/site-packages/tensorflow_core/python/ops/gen_spectral_ops.py\u001b[0m in \u001b[0;36mrfft\u001b[0;34m(input, fft_length, Tcomplex, name)\u001b[0m\n\u001b[1;32m   1071\u001b[0m         \u001b[0;32mpass\u001b[0m  \u001b[0;31m# Add nodes to the TensorFlow graph.\u001b[0m\u001b[0;34m\u001b[0m\u001b[0;34m\u001b[0m\u001b[0m\n\u001b[1;32m   1072\u001b[0m     \u001b[0;32mexcept\u001b[0m \u001b[0m_core\u001b[0m\u001b[0;34m.\u001b[0m\u001b[0m_NotOkStatusException\u001b[0m \u001b[0;32mas\u001b[0m \u001b[0me\u001b[0m\u001b[0;34m:\u001b[0m\u001b[0;34m\u001b[0m\u001b[0;34m\u001b[0m\u001b[0m\n\u001b[0;32m-> 1073\u001b[0;31m       \u001b[0m_ops\u001b[0m\u001b[0;34m.\u001b[0m\u001b[0mraise_from_not_ok_status\u001b[0m\u001b[0;34m(\u001b[0m\u001b[0me\u001b[0m\u001b[0;34m,\u001b[0m \u001b[0mname\u001b[0m\u001b[0;34m)\u001b[0m\u001b[0;34m\u001b[0m\u001b[0;34m\u001b[0m\u001b[0m\n\u001b[0m\u001b[1;32m   1074\u001b[0m   \u001b[0;31m# Add nodes to the TensorFlow graph.\u001b[0m\u001b[0;34m\u001b[0m\u001b[0;34m\u001b[0m\u001b[0;34m\u001b[0m\u001b[0m\n\u001b[1;32m   1075\u001b[0m   \u001b[0;32mif\u001b[0m \u001b[0mTcomplex\u001b[0m \u001b[0;32mis\u001b[0m \u001b[0;32mNone\u001b[0m\u001b[0;34m:\u001b[0m\u001b[0;34m\u001b[0m\u001b[0;34m\u001b[0m\u001b[0m\n",
      "\u001b[0;32m~/miniconda3/envs/usp/lib/python3.6/site-packages/tensorflow_core/python/framework/ops.py\u001b[0m in \u001b[0;36mraise_from_not_ok_status\u001b[0;34m(e, name)\u001b[0m\n\u001b[1;32m   6604\u001b[0m   \u001b[0mmessage\u001b[0m \u001b[0;34m=\u001b[0m \u001b[0me\u001b[0m\u001b[0;34m.\u001b[0m\u001b[0mmessage\u001b[0m \u001b[0;34m+\u001b[0m \u001b[0;34m(\u001b[0m\u001b[0;34m\" name: \"\u001b[0m \u001b[0;34m+\u001b[0m \u001b[0mname\u001b[0m \u001b[0;32mif\u001b[0m \u001b[0mname\u001b[0m \u001b[0;32mis\u001b[0m \u001b[0;32mnot\u001b[0m \u001b[0;32mNone\u001b[0m \u001b[0;32melse\u001b[0m \u001b[0;34m\"\"\u001b[0m\u001b[0;34m)\u001b[0m\u001b[0;34m\u001b[0m\u001b[0;34m\u001b[0m\u001b[0m\n\u001b[1;32m   6605\u001b[0m   \u001b[0;31m# pylint: disable=protected-access\u001b[0m\u001b[0;34m\u001b[0m\u001b[0;34m\u001b[0m\u001b[0;34m\u001b[0m\u001b[0m\n\u001b[0;32m-> 6606\u001b[0;31m   \u001b[0msix\u001b[0m\u001b[0;34m.\u001b[0m\u001b[0mraise_from\u001b[0m\u001b[0;34m(\u001b[0m\u001b[0mcore\u001b[0m\u001b[0;34m.\u001b[0m\u001b[0m_status_to_exception\u001b[0m\u001b[0;34m(\u001b[0m\u001b[0me\u001b[0m\u001b[0;34m.\u001b[0m\u001b[0mcode\u001b[0m\u001b[0;34m,\u001b[0m \u001b[0mmessage\u001b[0m\u001b[0;34m)\u001b[0m\u001b[0;34m,\u001b[0m \u001b[0;32mNone\u001b[0m\u001b[0;34m)\u001b[0m\u001b[0;34m\u001b[0m\u001b[0;34m\u001b[0m\u001b[0m\n\u001b[0m\u001b[1;32m   6607\u001b[0m   \u001b[0;31m# pylint: enable=protected-access\u001b[0m\u001b[0;34m\u001b[0m\u001b[0;34m\u001b[0m\u001b[0;34m\u001b[0m\u001b[0m\n\u001b[1;32m   6608\u001b[0m \u001b[0;34m\u001b[0m\u001b[0m\n",
      "\u001b[0;32m~/miniconda3/envs/usp/lib/python3.6/site-packages/six.py\u001b[0m in \u001b[0;36mraise_from\u001b[0;34m(value, from_value)\u001b[0m\n",
      "\u001b[0;31mInvalidArgumentError\u001b[0m: Input dimension 1 must have length of at least 160 but got: 80 [Op:RFFT] name: mfccs_from_log_mel_spectrograms/dct/rfft/"
     ]
    }
   ],
   "source": [
    "import tensorflow as tf\n",
    "raw_audio = tf.io.read_file(path)\n",
    "waveform, sample_rate = tf.audio.decode_wav(raw_audio)\n",
    "transwav = tf.transpose(waveform[0])\n",
    "stfts = tf.signal.stft(transwav, frame_length=1024, frame_step=256, fft_length=1024)\n",
    "spectrograms = tf.abs(stfts)\n",
    "\n",
    "num_spectrogram_bins = stfts.shape[-1]\n",
    "lower_edge_hertz, upper_edge_hertz, num_mel_bins = 80.0, 7600.0, 80\n",
    "\n",
    "linear_to_mel_weight_matrix = tf.signal.linear_to_mel_weight_matrix(\n",
    "  num_mel_bins, num_spectrogram_bins, sample_rate, lower_edge_hertz,\n",
    "  upper_edge_hertz)\n",
    "\n",
    "mel_spectrograms = tf.tensordot(\n",
    "  spectrograms, linear_to_mel_weight_matrix, 1)\n",
    "\n",
    "mel_spectrograms.set_shape(spectrograms.shape[:-1].concatenate(\n",
    "  linear_to_mel_weight_matrix.shape[-1:]))\n",
    "\n",
    "# Compute a stabilized log to get log-magnitude mel-scale spectrograms.\n",
    "log_mel_spectrograms = tf.math.log(mel_spectrograms + 1e-6)\n",
    "\n",
    "# Compute MFCCs from log_mel_spectrograms and take the first 13.\n",
    "mfccs = tf.signal.mfccs_from_log_mel_spectrograms(log_mel_spectrograms)\n",
    "tf.print(mfccs)"
   ]
  },
  {
   "cell_type": "code",
   "execution_count": 21,
   "metadata": {
    "ExecuteTime": {
     "end_time": "2020-04-25T12:28:36.056247Z",
     "start_time": "2020-04-25T12:28:35.891104Z"
    }
   },
   "outputs": [
    {
     "name": "stdout",
     "output_type": "stream",
     "text": [
      "BEFORE 376\n",
      "BEFORE [[-18.4234619 1.75686216 -3.52136922 ... -0.109032959 0.0398594476 -0.294777036]\n",
      " [-16.2546158 1.56350112 -3.66868711 ... -0.211244836 0.253952563 -0.366826236]\n",
      " [-15.5999146 1.66248989 -4.13948488 ... 0.100669324 0.267167091 -0.0469021834]\n",
      " ...\n",
      " [-8.14046574 0.0183268469 -0.239112154 ... -0.272744715 -0.139368981 -0.00687176]\n",
      " [-17.530035 0.20254311 -1.16128182 ... -0.281057149 0.109539315 0.1402096]\n",
      " [-26.4390163 0.959110498 -1.10577548 ... -0.0616690628 0.314960748 0.0132892244]]\n",
      "AFTER 381\n",
      "AFTER array([[-1.84234619e+01,  1.75686216e+00, -3.52136922e+00, ...,\n",
      "        -1.09032959e-01,  3.98594476e-02, -2.94777036e-01],\n",
      "       [-1.62546158e+01,  1.56350112e+00, -3.66868711e+00, ...,\n",
      "        -2.11244836e-01,  2.53952563e-01, -3.66826236e-01],\n",
      "       [-1.55999146e+01,  1.66248989e+00, -4.13948488e+00, ...,\n",
      "         1.00669324e-01,  2.67167091e-01, -4.69021834e-02],\n",
      "       ...,\n",
      "       [-8.14046574e+00,  1.83268469e-02, -2.39112154e-01, ...,\n",
      "        -2.72744715e-01, -1.39368981e-01, -6.87175989e-03],\n",
      "       [-1.75300350e+01,  2.02543110e-01, -1.16128182e+00, ...,\n",
      "        -2.81057149e-01,  1.09539315e-01,  1.40209600e-01],\n",
      "       [-2.64390163e+01,  9.59110498e-01, -1.10577548e+00, ...,\n",
      "        -6.16690628e-02,  3.14960748e-01,  1.32892244e-02]])\n",
      "[[[-36.4635048 1.718292 2.46070361 ... -0.189986065 0.0139220934 -0.0824827403]\n",
      "  [-36.2802391 1.497769 2.63970256 ... -0.105417073 0.195263296 -0.128145739]\n",
      "  [-36.9541 1.30185616 2.5029366 ... -0.245440438 -0.0517033748 -0.0768395513]\n",
      "  ...\n",
      "  [0 0 0 ... 0 0 0]\n",
      "  [0 0 0 ... 0 0 0]\n",
      "  [0 0 0 ... 0 0 0]]\n",
      "\n",
      " [[-18.4234619 1.75686216 -3.52136922 ... -0.109032959 0.0398594476 -0.294777036]\n",
      "  [-16.2546158 1.56350112 -3.66868711 ... -0.211244836 0.253952563 -0.366826236]\n",
      "  [-15.5999146 1.66248989 -4.13948488 ... 0.100669324 0.267167091 -0.0469021834]\n",
      "  ...\n",
      "  [-8.14046574 0.0183268469 -0.239112154 ... -0.272744715 -0.139368981 -0.00687176]\n",
      "  [-17.530035 0.20254311 -1.16128182 ... -0.281057149 0.109539315 0.1402096]\n",
      "  [-26.4390163 0.959110498 -1.10577548 ... -0.0616690628 0.314960748 0.0132892244]]\n",
      "\n",
      " [[-32.0101776 2.82379389 1.20668316 ... -0.206436306 0.26478219 0.329165936]\n",
      "  [-32.6354141 2.54037261 1.55376506 ... -0.0315424316 0.0916736946 0.332126439]\n",
      "  [-34.7791061 1.6143477 2.35034966 ... 0.0253912676 -0.101846382 -0.008235557]\n",
      "  ...\n",
      "  [0 0 0 ... 0 0 0]\n",
      "  [0 0 0 ... 0 0 0]\n",
      "  [0 0 0 ... 0 0 0]]\n",
      "\n",
      " [[-22.7226067 2.56982565 -2.78862405 ... -0.0727301687 -0.271486759 -0.110806011]\n",
      "  [-25.0163269 3.65644574 -2.25814223 ... -0.0430005044 -0.162172183 0.0406800248]\n",
      "  [-25.9704819 3.1021266 -1.26897371 ... 0.0106509775 0.263251811 0.0634491146]\n",
      "  ...\n",
      "  [0 0 0 ... 0 0 0]\n",
      "  [0 0 0 ... 0 0 0]\n",
      "  [0 0 0 ... 0 0 0]]]\n"
     ]
    }
   ],
   "source": [
    "import tensorflow as tf\n",
    "\n",
    "def process_path(paths, labels):\n",
    "    features = []\n",
    "    for path in paths:\n",
    "        raw_audio = tf.io.read_file(path) # load file\n",
    "        waveform, sample_rate = tf.audio.decode_wav(raw_audio) # load waveforms in memory\n",
    "        transwav = tf.transpose(waveform) # shanenigans to stft\n",
    "        stfts = tf.signal.stft(transwav, frame_length=1024, frame_step=256, fft_length=1024)\n",
    "        spectrograms = tf.abs(stfts)\n",
    "\n",
    "        num_spectrogram_bins = stfts.shape[-1]\n",
    "        lower_edge_hertz, upper_edge_hertz, num_mel_bins = 80.0, 7600.0, 80\n",
    "\n",
    "        linear_to_mel_weight_matrix = tf.signal.linear_to_mel_weight_matrix(\n",
    "          num_mel_bins, num_spectrogram_bins, sample_rate, lower_edge_hertz,\n",
    "          upper_edge_hertz)\n",
    "\n",
    "        mel_spectrograms = tf.tensordot(\n",
    "          spectrograms, linear_to_mel_weight_matrix, 1)\n",
    "\n",
    "        mel_spectrograms.set_shape(spectrograms.shape[:-1].concatenate(\n",
    "          linear_to_mel_weight_matrix.shape[-1:]))\n",
    "\n",
    "        # Compute a stabilized log to get log-magnitude mel-scale spectrograms.\n",
    "        log_mel_spectrograms = tf.math.log(mel_spectrograms + 1e-6)\n",
    "\n",
    "        # Compute MFCCs from log_mel_spectrograms\n",
    "        mfccs = tf.signal.mfccs_from_log_mel_spectrograms(log_mel_spectrograms)\n",
    "        features.append(mfccs[0])\n",
    "\n",
    "    # pad different sized mfccs\n",
    "    features = tf.keras.preprocessing.sequence.pad_sequences(features, dtype='float', padding='post', truncating='post')\n",
    "    return features\n",
    "\n",
    "def tf_function_wrapper(features, labels):\n",
    "    return tf.py_function(func=process_path, inp=[features['filename'], labels], Tout=tf.float32), labels\n",
    "\n",
    "librivox_paths_ds = tf.data.experimental.make_csv_dataset(\n",
    "    \"librivox-test-clean-wav.csv\", batch_size=4,\n",
    "    shuffle=False, label_name=\"transcript\")\n",
    "\n",
    "librivox_ds = librivox_paths_ds.map(tf_function_wrapper)\n",
    "\n",
    "for feature_batch, labels in librivox_ds.take(1):\n",
    "    tf.print(feature_batch)\n",
    "\n",
    "    "
   ]
  },
  {
   "cell_type": "code",
   "execution_count": null,
   "metadata": {},
   "outputs": [],
   "source": []
  },
  {
   "cell_type": "code",
   "execution_count": null,
   "metadata": {},
   "outputs": [],
   "source": []
  },
  {
   "cell_type": "code",
   "execution_count": null,
   "metadata": {},
   "outputs": [],
   "source": []
  }
 ],
 "metadata": {
  "kernelspec": {
   "display_name": "Python 3",
   "language": "python",
   "name": "python3"
  },
  "language_info": {
   "codemirror_mode": {
    "name": "ipython",
    "version": 3
   },
   "file_extension": ".py",
   "mimetype": "text/x-python",
   "name": "python",
   "nbconvert_exporter": "python",
   "pygments_lexer": "ipython3",
   "version": "3.6.10"
  },
  "toc": {
   "base_numbering": 1,
   "nav_menu": {},
   "number_sections": true,
   "sideBar": true,
   "skip_h1_title": false,
   "title_cell": "Table of Contents",
   "title_sidebar": "Contents",
   "toc_cell": false,
   "toc_position": {
    "height": "calc(100% - 180px)",
    "left": "10px",
    "top": "150px",
    "width": "165px"
   },
   "toc_section_display": true,
   "toc_window_display": true
  },
  "varInspector": {
   "cols": {
    "lenName": 16,
    "lenType": 16,
    "lenVar": 40
   },
   "kernels_config": {
    "python": {
     "delete_cmd_postfix": "",
     "delete_cmd_prefix": "del ",
     "library": "var_list.py",
     "varRefreshCmd": "print(var_dic_list())"
    },
    "r": {
     "delete_cmd_postfix": ") ",
     "delete_cmd_prefix": "rm(",
     "library": "var_list.r",
     "varRefreshCmd": "cat(var_dic_list()) "
    }
   },
   "oldHeight": 203,
   "position": {
    "height": "205px",
    "left": "1152px",
    "right": "20px",
    "top": "41px",
    "width": "528px"
   },
   "types_to_exclude": [
    "module",
    "function",
    "builtin_function_or_method",
    "instance",
    "_Feature"
   ],
   "varInspector_section_display": "block",
   "window_display": true
  }
 },
 "nbformat": 4,
 "nbformat_minor": 4
}
