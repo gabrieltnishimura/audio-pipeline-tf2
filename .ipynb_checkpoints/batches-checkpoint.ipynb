{
 "cells": [
  {
   "cell_type": "code",
   "execution_count": 2,
   "metadata": {},
   "outputs": [
    {
     "data": {
      "text/plain": [
       "<PrefetchDataset shapes: (OrderedDict([(filename, (4,))]), (4,)), types: (OrderedDict([(filename, tf.string)]), tf.string)>"
      ]
     },
     "execution_count": 2,
     "metadata": {},
     "output_type": "execute_result"
    }
   ],
   "source": [
    "import tensorflow as tf\n",
    "\n",
    "librivox_ds = tf.data.experimental.make_csv_dataset(\n",
    "    \"librivox-test-clean.csv\", batch_size=4,\n",
    "    label_name=\"transcript\")\n",
    "\n",
    "librivox_ds"
   ]
  },
  {
   "cell_type": "code",
   "execution_count": 9,
   "metadata": {},
   "outputs": [
    {
     "name": "stdout",
     "output_type": "stream",
     "text": [
      "b'/Users/gabriel.t.nishimura/projects/masters/ctc/data_dir/LibriSpeech/test-clean-new/61-70968-0040.flacasd'\n",
      "b'/Users/gabriel.t.nishimura/projects/masters/ctc/data_dir/LibriSpeech/test-clean-new/1089-134686-0037.flacasd'\n",
      "b'/Users/gabriel.t.nishimura/projects/masters/ctc/data_dir/LibriSpeech/test-clean-new/8555-292519-0009.flacasd'\n",
      "b'/Users/gabriel.t.nishimura/projects/masters/ctc/data_dir/LibriSpeech/test-clean-new/4992-23283-0005.flacasd'\n"
     ]
    }
   ],
   "source": [
    "def inner_test(features, labels):\n",
    "    new_features = []\n",
    "    for index, value in enumerate(features.numpy()):\n",
    "        new_value = value.decode('UTF-8') + \"asd\"\n",
    "        new_features.append(tf.convert_to_tensor(new_value,\n",
    "                                                 dtype=tf.string))\n",
    "    return new_features, labels\n",
    "\n",
    "def test(features, labels):\n",
    "    return tf.py_function(func=inner_test, inp=[features['filename'], labels], Tout=tf.string), labels\n",
    "\n",
    "for feature_batch, label_batch in librivox_ds.map(test).take(1):\n",
    "    for key in feature_batch.numpy():\n",
    "        print(key)\n"
   ]
  },
  {
   "cell_type": "code",
   "execution_count": 10,
   "metadata": {
    "scrolled": true
   },
   "outputs": [
    {
     "name": "stdout",
     "output_type": "stream",
     "text": [
      "'labels': [b'with heracleitus he acknowledges the perpetual flux like anaxagoras he asserts the predominance of mind although admitting an element of necessity which reason is incapable of subduing like the pythagoreans he supposes the mystery of the world to be contained in number'\n",
      " b'who touches me am i in bed'\n",
      " b'was it not enough to say from god the father'\n",
      " b'after an apprenticeship on a merchant ship he had entered the imperial navy and had already reached the rank of lieutenant when the count appointed him to the charge of his own private yacht in which he was accustomed to spend by far the greater part of his time throughout the winter generally cruising in the mediterranean whilst in the summer he visited more northern waters']\n",
      "features:\n",
      "  'filename'          : [b'/Users/gabriel.t.nishimura/projects/masters/ctc/data_dir/LibriSpeech/test-clean-new/2961-960-0011.flac'\n",
      " b'/Users/gabriel.t.nishimura/projects/masters/ctc/data_dir/LibriSpeech/test-clean-new/5639-40744-0008.flac'\n",
      " b'/Users/gabriel.t.nishimura/projects/masters/ctc/data_dir/LibriSpeech/test-clean-new/2830-3980-0046.flac'\n",
      " b'/Users/gabriel.t.nishimura/projects/masters/ctc/data_dir/LibriSpeech/test-clean-new/5105-28241-0001.flac']\n"
     ]
    }
   ],
   "source": [
    "for feature_batch, label_batch in librivox_ds.take(1):\n",
    "    test = feature_batch\n",
    "    print(\"'labels': {}\".format(label_batch))\n",
    "    print(\"features:\")\n",
    "    for key, value in feature_batch.items():\n",
    "        print(\"  {!r:20s}: {}\".format(key, value))"
   ]
  },
  {
   "cell_type": "code",
   "execution_count": null,
   "metadata": {},
   "outputs": [],
   "source": [
    "from soundfile import read\n",
    "import numpy as np\n",
    "from tensorflow.keras.preprocessing.sequence import pad_sequences\n",
    "from librosa.feature import mfcc, melspectrogram\n",
    "\n",
    "batch_size=4\n",
    "frame_length=320\n",
    "hop_length=160\n",
    "n_mels=40\n",
    "mfcc_features=26\n",
    "shuffle=True\n",
    "\n",
    "def get_seq_size(frames, sr, conversion_type='mfcc'):\n",
    "    mfcc_frames = mfcc(frames, sr, n_fft=frame_length, hop_length=hop_length, n_mfcc=mfcc_features, n_mels=n_mels)\n",
    "    return mfcc_frames.shape[1]\n",
    "\n",
    "def extract_mfcc_and_pad(frames, sr, max_pad_length, frame_length, hop_length, mfcc_features, n_mels):\n",
    "    \"\"\"\n",
    "    Generates MFCC (mel frequency cepstral coefficients) and zero-pads with max_pad_length\n",
    "    :param frames: audio time series\n",
    "    :param sr: sampling rate of audio time series\n",
    "    :param max_pad_length: length (no. of frames) of longest sequence in batch\n",
    "    :param frame_length: length of the frames to be extracted\n",
    "    :param hop_length: length of hops (for overlap)\n",
    "    :param mfcc_features: number of mfcc features to extract\n",
    "    :param n_mels: number of mels\n",
    "    :return: mfcc_padded: padded MFCC-sequence\n",
    "             x_length: unpadded length MFCC-sequence\n",
    "    \"\"\"\n",
    "\n",
    "    mfcc_frames = mfcc(frames, sr, n_fft=frame_length, hop_length=hop_length, n_mfcc=mfcc_features, n_mels=n_mels)\n",
    "    x_length = mfcc_frames.shape[1]\n",
    "    mfcc_padded = pad_sequences(mfcc_frames, maxlen=max_pad_length, dtype='float', padding='post',\n",
    "                                truncating='post')\n",
    "    mfcc_padded = mfcc_padded.T\n",
    "\n",
    "    return mfcc_padded, x_length\n",
    "\n",
    "\n",
    "def read_and_aggregate(features):\n",
    "    sr = 0\n",
    "    batch_spectograms = []\n",
    "    for index, value in enumerate(features.numpy()):\n",
    "        # open sound file\n",
    "        spectogram_frames, sr = read(value.decode('UTF-8'))\n",
    "\n",
    "        # add it to the array\n",
    "        batch_spectograms.append(spectogram_frames)\n",
    "    \n",
    "    return batch_spectograms, sr\n",
    "\n",
    "def extract_features_and_pad(x_data_raw, sr):\n",
    "    print(max(x_data_raw, key=len))\n",
    "    return\n",
    "    max_x_length = get_seq_size(max(x_data_raw, key=len), sr)\n",
    "    print(max_x_length)\n",
    "    return\n",
    "    \n",
    "    # Extract mfcc features and pad so every frame-sequence is equal max_x_length\n",
    "    for i in range(0, len(x_data_raw)):\n",
    "        x, x_len = extract_mfcc_and_pad(x_data_raw[i], sr, max_x_length, frame_length, hop_length,\n",
    "                                        mfcc_features, n_mels)\n",
    "        x_data = np.insert(x_data, i, x, axis=0)\n",
    "        # -2 because ctc discards the first two outputs of the rnn network\n",
    "        len_x_seq.append(x_len - 2)\n",
    "\n",
    "    # Convert input length list to numpy array\n",
    "    input_length = np.array(len_x_seq)\n",
    "    return x_data, input_length\n",
    "\n",
    "\n",
    "def inner_test(features, labels):\n",
    "    x_data_raw, sr = read_and_aggregate(features)\n",
    "    x_data, input_length = extract_features_and_pad(x_data_raw, sr)\n",
    "\n",
    "    # converting into tensor\n",
    "    new_features = []\n",
    "#     for spectogram in x_data_raw:\n",
    "#         pre_tensor = np.asarray(spectogram).astype(np.float32)\n",
    "#         new_features.append(tf.convert_to_tensor(pre_tensor,\n",
    "#                                                  dtype=np.float32))\n",
    "    return new_features, labels\n",
    "\n",
    "def test(features, labels):\n",
    "    return tf.py_function(func=inner_test, inp=[features['filename'], labels], Tout=tf.float32), labels\n",
    "\n",
    "for feature_batch, label_batch in librivox_ds.map(test).take(1):\n",
    "#     print(feature_batch.numpy())\n",
    "    for key in feature_batch.numpy():\n",
    "        print(key)\n"
   ]
  }
 ],
 "metadata": {
  "kernelspec": {
   "display_name": "Python 3",
   "language": "python",
   "name": "python3"
  },
  "language_info": {
   "codemirror_mode": {
    "name": "ipython",
    "version": 3
   },
   "file_extension": ".py",
   "mimetype": "text/x-python",
   "name": "python",
   "nbconvert_exporter": "python",
   "pygments_lexer": "ipython3",
   "version": "3.6.10"
  }
 },
 "nbformat": 4,
 "nbformat_minor": 4
}
