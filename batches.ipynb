{
 "cells": [
  {
   "cell_type": "markdown",
   "metadata": {},
   "source": [
    "# Batches v2"
   ]
  },
  {
   "cell_type": "code",
   "execution_count": 1,
   "metadata": {
    "ExecuteTime": {
     "end_time": "2020-04-25T12:24:08.448137Z",
     "start_time": "2020-04-25T12:24:04.612916Z"
    }
   },
   "outputs": [
    {
     "name": "stdout",
     "output_type": "stream",
     "text": [
      "[[[0.000732421875]\n",
      "  [0.000823974609]\n",
      "  [0.00173950195]\n",
      "  ...\n",
      "  [0]\n",
      "  [0]\n",
      "  [0]]\n",
      "\n",
      " [[-0.00778198242]\n",
      "  [-0.00921630859]\n",
      "  [-0.00909423828]\n",
      "  ...\n",
      "  [-0.00262451172]\n",
      "  [-0.00671386719]\n",
      "  [-0.0113830566]]]\n"
     ]
    }
   ],
   "source": [
    "import tensorflow as tf\n",
    "\n",
    "def process_path(paths, labels):\n",
    "    features = []\n",
    "    # load waveforms in memory\n",
    "    for path in paths:\n",
    "        raw_audio = tf.io.read_file(path)\n",
    "        waveform, sr = tf.audio.decode_wav(raw_audio)\n",
    "        features.append(waveform)\n",
    "\n",
    "#     tf.print(features[0], len(features[0]), len(features[1]))\n",
    "    features = tf.keras.preprocessing.sequence.pad_sequences(features, dtype='float', padding='post', truncating='post')\n",
    "#     tf.print(features[0], len(features[0]), len(features[1]))\n",
    "#     tf.print(features)\n",
    "    return features, labels\n",
    "\n",
    "def tf_function_wrapper(features, labels):\n",
    "    return tf.py_function(func=process_path, inp=[features['filename'], labels], Tout=tf.float32), labels\n",
    "\n",
    "librivox_paths_ds = tf.data.experimental.make_csv_dataset(\n",
    "    \"librivox-test-clean-wav.csv\", batch_size=2,\n",
    "    shuffle=False, label_name=\"transcript\")\n",
    "\n",
    "librivox_ds = librivox_paths_ds.map(tf_function_wrapper)\n",
    "\n",
    "for feature_batch, labels in librivox_ds.take(1):\n",
    "    tf.print(feature_batch)\n",
    "\n",
    "    "
   ]
  },
  {
   "cell_type": "code",
   "execution_count": 67,
   "metadata": {
    "ExecuteTime": {
     "end_time": "2020-05-01T15:38:53.734041Z",
     "start_time": "2020-05-01T15:38:53.617705Z"
    }
   },
   "outputs": [
    {
     "name": "stdout",
     "output_type": "stream",
     "text": [
      "[51 45]\n"
     ]
    }
   ],
   "source": [
    "import tensorflow as tf\n",
    "librivox_paths_ds = tf.data.experimental.make_csv_dataset(\n",
    "    \"librivox-train-clean-100-wav.csv\", batch_size=2,\n",
    "    shuffle=False, label_name=\"transcript\")\n",
    "\n",
    "def filter_fn(x, y):\n",
    "    comparison = tf.math.less(tf.strings.length(y), tf.constant(100))\n",
    "    return tf.math.count_nonzero(comparison) == len(y)\n",
    "\n",
    "librivox_paths_ds = librivox_paths_ds.filter(filter_fn)\n",
    "for features, labels in librivox_paths_ds.take(1):\n",
    "    tf.print(tf.strings.length(labels))\n",
    "# list(librivox_paths_ds.take(1).as_numpy_iterator()) "
   ]
  },
  {
   "cell_type": "code",
   "execution_count": 5,
   "metadata": {
    "ExecuteTime": {
     "end_time": "2020-05-01T14:47:32.634841Z",
     "start_time": "2020-05-01T14:47:32.553028Z"
    }
   },
   "outputs": [
    {
     "data": {
      "text/plain": [
       "[1]"
      ]
     },
     "execution_count": 5,
     "metadata": {},
     "output_type": "execute_result"
    }
   ],
   "source": [
    "dataset = tf.data.Dataset.from_tensor_slices([1, 2, 3]) \n",
    "dataset = dataset.filter(lambda x: x < 3) \n",
    "list(dataset.as_numpy_iterator()) \n",
    "\n",
    "# `tf.math.equal(x, y)` is required for equality comparison \n",
    "def filter_fn(x): \n",
    "    return tf.math.equal(x, 1) \n",
    "dataset = dataset.filter(filter_fn) \n",
    "list(dataset.as_numpy_iterator()) "
   ]
  },
  {
   "cell_type": "code",
   "execution_count": 51,
   "metadata": {
    "ExecuteTime": {
     "end_time": "2020-04-24T17:03:59.098072Z",
     "start_time": "2020-04-24T17:03:59.049584Z"
    }
   },
   "outputs": [
    {
     "name": "stdout",
     "output_type": "stream",
     "text": [
      "[[-0.00778198242]\n",
      " [-0.00921630859]\n",
      " [-0.00909423828]\n",
      " ...\n",
      " [-0.00262451172]\n",
      " [-0.00671386719]\n",
      " [-0.0113830566]]\n"
     ]
    },
    {
     "ename": "AttributeError",
     "evalue": "'tuple' object has no attribute 'numpy'",
     "output_type": "error",
     "traceback": [
      "\u001b[0;31m---------------------------------------------------------------------------\u001b[0m",
      "\u001b[0;31mAttributeError\u001b[0m                            Traceback (most recent call last)",
      "\u001b[0;32m<ipython-input-51-c98a19eaf9f6>\u001b[0m in \u001b[0;36m<module>\u001b[0;34m\u001b[0m\n\u001b[1;32m      1\u001b[0m \u001b[0;32mfor\u001b[0m \u001b[0mfeature_batch\u001b[0m \u001b[0;32min\u001b[0m \u001b[0mlibrivox_ds\u001b[0m\u001b[0;34m.\u001b[0m\u001b[0mtake\u001b[0m\u001b[0;34m(\u001b[0m\u001b[0;36m1\u001b[0m\u001b[0;34m)\u001b[0m\u001b[0;34m:\u001b[0m\u001b[0;34m\u001b[0m\u001b[0;34m\u001b[0m\u001b[0m\n\u001b[1;32m      2\u001b[0m     \u001b[0mtf\u001b[0m\u001b[0;34m.\u001b[0m\u001b[0mprint\u001b[0m\u001b[0;34m(\u001b[0m\u001b[0mfeature_batch\u001b[0m\u001b[0;34m[\u001b[0m\u001b[0;36m0\u001b[0m\u001b[0;34m]\u001b[0m\u001b[0;34m[\u001b[0m\u001b[0;36m1\u001b[0m\u001b[0;34m]\u001b[0m\u001b[0;34m)\u001b[0m\u001b[0;34m\u001b[0m\u001b[0;34m\u001b[0m\u001b[0m\n\u001b[0;32m----> 3\u001b[0;31m     \u001b[0;32mfor\u001b[0m \u001b[0mkey\u001b[0m\u001b[0;34m,\u001b[0m \u001b[0mvaleu\u001b[0m \u001b[0;32min\u001b[0m \u001b[0mfeature_batch\u001b[0m\u001b[0;34m.\u001b[0m\u001b[0mnumpy\u001b[0m\u001b[0;34m(\u001b[0m\u001b[0;34m)\u001b[0m\u001b[0;34m:\u001b[0m\u001b[0;34m\u001b[0m\u001b[0;34m\u001b[0m\u001b[0m\n\u001b[0m\u001b[1;32m      4\u001b[0m         \u001b[0mprint\u001b[0m\u001b[0;34m(\u001b[0m\u001b[0mkey\u001b[0m\u001b[0;34m)\u001b[0m\u001b[0;34m\u001b[0m\u001b[0;34m\u001b[0m\u001b[0m\n\u001b[1;32m      5\u001b[0m \u001b[0;31m#     for key, valeu in feature_batch.numpy():\u001b[0m\u001b[0;34m\u001b[0m\u001b[0;34m\u001b[0m\u001b[0;34m\u001b[0m\u001b[0m\n",
      "\u001b[0;31mAttributeError\u001b[0m: 'tuple' object has no attribute 'numpy'"
     ]
    }
   ],
   "source": [
    "for feature_batch in librivox_ds.take(1):\n",
    "    tf.print(feature_batch[0][1])\n",
    "    for key, valeu in feature_batch.numpy():\n",
    "        print(key)\n",
    "#     for key, valeu in feature_batch.numpy():\n",
    "#         print(value)"
   ]
  },
  {
   "cell_type": "code",
   "execution_count": null,
   "metadata": {},
   "outputs": [],
   "source": []
  },
  {
   "cell_type": "code",
   "execution_count": 91,
   "metadata": {
    "ExecuteTime": {
     "end_time": "2020-04-19T19:10:28.348205Z",
     "start_time": "2020-04-19T19:10:28.342538Z"
    }
   },
   "outputs": [
    {
     "data": {
      "text/plain": [
       "<tf.Tensor: shape=(2, 5), dtype=int32, numpy=\n",
       "array([[1, 2, 3, 0, 0],\n",
       "       [4, 5, 6, 0, 0]], dtype=int32)>"
      ]
     },
     "execution_count": 91,
     "metadata": {},
     "output_type": "execute_result"
    }
   ],
   "source": [
    "import tensorflow as tf\n",
    "t = tf.constant([[1, 2, 3], [4, 5, 6]])\n",
    "paddings = tf.constant([[0, 0], [0, 2]])\n",
    "# 'constant_values' is 0.\n",
    "# rank of 't' is 2.\n",
    "a = tf.pad(t, paddings, \"CONSTANT\")  # [[0, 0, 0, 0, 0, 0, 0],\n",
    "                                 #  [0, 0, 1, 2, 3, 0, 0],\n",
    "                                 #  [0, 0, 4, 5, 6, 0, 0],\n",
    "                                 #  [0, 0, 0, 0, 0, 0, 0]]\n",
    "a"
   ]
  },
  {
   "cell_type": "code",
   "execution_count": 3,
   "metadata": {
    "ExecuteTime": {
     "end_time": "2020-04-25T12:24:33.064571Z",
     "start_time": "2020-04-25T12:24:33.028937Z"
    }
   },
   "outputs": [
    {
     "data": {
      "text/plain": [
       "(array([ 0.00073242,  0.00082397,  0.0017395 , ..., -0.00631714,\n",
       "        -0.00570679, -0.00668335]),\n",
       " 16000)"
      ]
     },
     "execution_count": 3,
     "metadata": {},
     "output_type": "execute_result"
    }
   ],
   "source": [
    "from soundfile import read\n",
    "path = '/Users/gabriel.t.nishimura/projects/masters/ctc/data_dir/LibriSpeech/test-clean-new/61-70970-0000.wav'\n",
    "read(path)"
   ]
  },
  {
   "cell_type": "code",
   "execution_count": 5,
   "metadata": {
    "ExecuteTime": {
     "end_time": "2020-04-25T12:24:50.027370Z",
     "start_time": "2020-04-25T12:24:49.928239Z"
    }
   },
   "outputs": [
    {
     "ename": "InvalidArgumentError",
     "evalue": "Input dimension 1 must have length of at least 160 but got: 80 [Op:RFFT] name: mfccs_from_log_mel_spectrograms/dct/rfft/",
     "output_type": "error",
     "traceback": [
      "\u001b[0;31m---------------------------------------------------------------------------\u001b[0m",
      "\u001b[0;31mInvalidArgumentError\u001b[0m                      Traceback (most recent call last)",
      "\u001b[0;32m<ipython-input-5-2445a51122ec>\u001b[0m in \u001b[0;36m<module>\u001b[0;34m\u001b[0m\n\u001b[1;32m     23\u001b[0m \u001b[0;34m\u001b[0m\u001b[0m\n\u001b[1;32m     24\u001b[0m \u001b[0;31m# Compute MFCCs from log_mel_spectrograms and take the first 13.\u001b[0m\u001b[0;34m\u001b[0m\u001b[0;34m\u001b[0m\u001b[0;34m\u001b[0m\u001b[0m\n\u001b[0;32m---> 25\u001b[0;31m \u001b[0mmfccs\u001b[0m \u001b[0;34m=\u001b[0m \u001b[0mtf\u001b[0m\u001b[0;34m.\u001b[0m\u001b[0msignal\u001b[0m\u001b[0;34m.\u001b[0m\u001b[0mmfccs_from_log_mel_spectrograms\u001b[0m\u001b[0;34m(\u001b[0m\u001b[0mlog_mel_spectrograms\u001b[0m\u001b[0;34m)\u001b[0m\u001b[0;34m\u001b[0m\u001b[0;34m\u001b[0m\u001b[0m\n\u001b[0m\u001b[1;32m     26\u001b[0m \u001b[0mtf\u001b[0m\u001b[0;34m.\u001b[0m\u001b[0mprint\u001b[0m\u001b[0;34m(\u001b[0m\u001b[0mmfccs\u001b[0m\u001b[0;34m)\u001b[0m\u001b[0;34m\u001b[0m\u001b[0;34m\u001b[0m\u001b[0m\n",
      "\u001b[0;32m~/miniconda3/envs/usp/lib/python3.6/site-packages/tensorflow_core/python/ops/signal/mfcc_ops.py\u001b[0m in \u001b[0;36mmfccs_from_log_mel_spectrograms\u001b[0;34m(log_mel_spectrograms, name)\u001b[0m\n\u001b[1;32m    105\u001b[0m       \u001b[0mnum_mel_bins\u001b[0m \u001b[0;34m=\u001b[0m \u001b[0marray_ops\u001b[0m\u001b[0;34m.\u001b[0m\u001b[0mshape\u001b[0m\u001b[0;34m(\u001b[0m\u001b[0mlog_mel_spectrograms\u001b[0m\u001b[0;34m)\u001b[0m\u001b[0;34m[\u001b[0m\u001b[0;34m-\u001b[0m\u001b[0;36m1\u001b[0m\u001b[0;34m]\u001b[0m\u001b[0;34m\u001b[0m\u001b[0;34m\u001b[0m\u001b[0m\n\u001b[1;32m    106\u001b[0m \u001b[0;34m\u001b[0m\u001b[0m\n\u001b[0;32m--> 107\u001b[0;31m     \u001b[0mdct2\u001b[0m \u001b[0;34m=\u001b[0m \u001b[0mdct_ops\u001b[0m\u001b[0;34m.\u001b[0m\u001b[0mdct\u001b[0m\u001b[0;34m(\u001b[0m\u001b[0mlog_mel_spectrograms\u001b[0m\u001b[0;34m,\u001b[0m \u001b[0mtype\u001b[0m\u001b[0;34m=\u001b[0m\u001b[0;36m2\u001b[0m\u001b[0;34m)\u001b[0m\u001b[0;34m\u001b[0m\u001b[0;34m\u001b[0m\u001b[0m\n\u001b[0m\u001b[1;32m    108\u001b[0m     return dct2 * math_ops.rsqrt(\n\u001b[1;32m    109\u001b[0m         math_ops.cast(num_mel_bins, dct2.dtype) * 2.0)\n",
      "\u001b[0;32m~/miniconda3/envs/usp/lib/python3.6/site-packages/tensorflow_core/python/ops/signal/dct_ops.py\u001b[0m in \u001b[0;36mdct\u001b[0;34m(input, type, n, axis, norm, name)\u001b[0m\n\u001b[1;32m    128\u001b[0m       dct2 = _math_ops.real(\n\u001b[1;32m    129\u001b[0m           fft_ops.rfft(\n\u001b[0;32m--> 130\u001b[0;31m               input, fft_length=[2 * axis_dim])[..., :axis_dim] * scale)\n\u001b[0m\u001b[1;32m    131\u001b[0m \u001b[0;34m\u001b[0m\u001b[0m\n\u001b[1;32m    132\u001b[0m       \u001b[0;32mif\u001b[0m \u001b[0mnorm\u001b[0m \u001b[0;34m==\u001b[0m \u001b[0;34m\"ortho\"\u001b[0m\u001b[0;34m:\u001b[0m\u001b[0;34m\u001b[0m\u001b[0;34m\u001b[0m\u001b[0m\n",
      "\u001b[0;32m~/miniconda3/envs/usp/lib/python3.6/site-packages/tensorflow_core/python/ops/signal/fft_ops.py\u001b[0m in \u001b[0;36m_rfft\u001b[0;34m(input_tensor, fft_length, name)\u001b[0m\n\u001b[1;32m    134\u001b[0m         \u001b[0mfft_length\u001b[0m \u001b[0;34m=\u001b[0m \u001b[0m_ops\u001b[0m\u001b[0;34m.\u001b[0m\u001b[0mconvert_to_tensor\u001b[0m\u001b[0;34m(\u001b[0m\u001b[0mfft_length\u001b[0m\u001b[0;34m,\u001b[0m \u001b[0m_dtypes\u001b[0m\u001b[0;34m.\u001b[0m\u001b[0mint32\u001b[0m\u001b[0;34m)\u001b[0m\u001b[0;34m\u001b[0m\u001b[0;34m\u001b[0m\u001b[0m\n\u001b[1;32m    135\u001b[0m       \u001b[0minput_tensor\u001b[0m \u001b[0;34m=\u001b[0m \u001b[0m_maybe_pad_for_rfft\u001b[0m\u001b[0;34m(\u001b[0m\u001b[0minput_tensor\u001b[0m\u001b[0;34m,\u001b[0m \u001b[0mfft_rank\u001b[0m\u001b[0;34m,\u001b[0m \u001b[0mfft_length\u001b[0m\u001b[0;34m)\u001b[0m\u001b[0;34m\u001b[0m\u001b[0;34m\u001b[0m\u001b[0m\n\u001b[0;32m--> 136\u001b[0;31m       \u001b[0;32mreturn\u001b[0m \u001b[0mfft_fn\u001b[0m\u001b[0;34m(\u001b[0m\u001b[0minput_tensor\u001b[0m\u001b[0;34m,\u001b[0m \u001b[0mfft_length\u001b[0m\u001b[0;34m,\u001b[0m \u001b[0mTcomplex\u001b[0m\u001b[0;34m=\u001b[0m\u001b[0mcomplex_dtype\u001b[0m\u001b[0;34m,\u001b[0m \u001b[0mname\u001b[0m\u001b[0;34m=\u001b[0m\u001b[0mname\u001b[0m\u001b[0;34m)\u001b[0m\u001b[0;34m\u001b[0m\u001b[0;34m\u001b[0m\u001b[0m\n\u001b[0m\u001b[1;32m    137\u001b[0m   \u001b[0m_rfft\u001b[0m\u001b[0;34m.\u001b[0m\u001b[0m__doc__\u001b[0m \u001b[0;34m=\u001b[0m \u001b[0mfft_fn\u001b[0m\u001b[0;34m.\u001b[0m\u001b[0m__doc__\u001b[0m\u001b[0;34m\u001b[0m\u001b[0;34m\u001b[0m\u001b[0m\n\u001b[1;32m    138\u001b[0m   \u001b[0;32mreturn\u001b[0m \u001b[0m_rfft\u001b[0m\u001b[0;34m\u001b[0m\u001b[0;34m\u001b[0m\u001b[0m\n",
      "\u001b[0;32m~/miniconda3/envs/usp/lib/python3.6/site-packages/tensorflow_core/python/ops/gen_spectral_ops.py\u001b[0m in \u001b[0;36mrfft\u001b[0;34m(input, fft_length, Tcomplex, name)\u001b[0m\n\u001b[1;32m   1071\u001b[0m         \u001b[0;32mpass\u001b[0m  \u001b[0;31m# Add nodes to the TensorFlow graph.\u001b[0m\u001b[0;34m\u001b[0m\u001b[0;34m\u001b[0m\u001b[0m\n\u001b[1;32m   1072\u001b[0m     \u001b[0;32mexcept\u001b[0m \u001b[0m_core\u001b[0m\u001b[0;34m.\u001b[0m\u001b[0m_NotOkStatusException\u001b[0m \u001b[0;32mas\u001b[0m \u001b[0me\u001b[0m\u001b[0;34m:\u001b[0m\u001b[0;34m\u001b[0m\u001b[0;34m\u001b[0m\u001b[0m\n\u001b[0;32m-> 1073\u001b[0;31m       \u001b[0m_ops\u001b[0m\u001b[0;34m.\u001b[0m\u001b[0mraise_from_not_ok_status\u001b[0m\u001b[0;34m(\u001b[0m\u001b[0me\u001b[0m\u001b[0;34m,\u001b[0m \u001b[0mname\u001b[0m\u001b[0;34m)\u001b[0m\u001b[0;34m\u001b[0m\u001b[0;34m\u001b[0m\u001b[0m\n\u001b[0m\u001b[1;32m   1074\u001b[0m   \u001b[0;31m# Add nodes to the TensorFlow graph.\u001b[0m\u001b[0;34m\u001b[0m\u001b[0;34m\u001b[0m\u001b[0;34m\u001b[0m\u001b[0m\n\u001b[1;32m   1075\u001b[0m   \u001b[0;32mif\u001b[0m \u001b[0mTcomplex\u001b[0m \u001b[0;32mis\u001b[0m \u001b[0;32mNone\u001b[0m\u001b[0;34m:\u001b[0m\u001b[0;34m\u001b[0m\u001b[0;34m\u001b[0m\u001b[0m\n",
      "\u001b[0;32m~/miniconda3/envs/usp/lib/python3.6/site-packages/tensorflow_core/python/framework/ops.py\u001b[0m in \u001b[0;36mraise_from_not_ok_status\u001b[0;34m(e, name)\u001b[0m\n\u001b[1;32m   6604\u001b[0m   \u001b[0mmessage\u001b[0m \u001b[0;34m=\u001b[0m \u001b[0me\u001b[0m\u001b[0;34m.\u001b[0m\u001b[0mmessage\u001b[0m \u001b[0;34m+\u001b[0m \u001b[0;34m(\u001b[0m\u001b[0;34m\" name: \"\u001b[0m \u001b[0;34m+\u001b[0m \u001b[0mname\u001b[0m \u001b[0;32mif\u001b[0m \u001b[0mname\u001b[0m \u001b[0;32mis\u001b[0m \u001b[0;32mnot\u001b[0m \u001b[0;32mNone\u001b[0m \u001b[0;32melse\u001b[0m \u001b[0;34m\"\"\u001b[0m\u001b[0;34m)\u001b[0m\u001b[0;34m\u001b[0m\u001b[0;34m\u001b[0m\u001b[0m\n\u001b[1;32m   6605\u001b[0m   \u001b[0;31m# pylint: disable=protected-access\u001b[0m\u001b[0;34m\u001b[0m\u001b[0;34m\u001b[0m\u001b[0;34m\u001b[0m\u001b[0m\n\u001b[0;32m-> 6606\u001b[0;31m   \u001b[0msix\u001b[0m\u001b[0;34m.\u001b[0m\u001b[0mraise_from\u001b[0m\u001b[0;34m(\u001b[0m\u001b[0mcore\u001b[0m\u001b[0;34m.\u001b[0m\u001b[0m_status_to_exception\u001b[0m\u001b[0;34m(\u001b[0m\u001b[0me\u001b[0m\u001b[0;34m.\u001b[0m\u001b[0mcode\u001b[0m\u001b[0;34m,\u001b[0m \u001b[0mmessage\u001b[0m\u001b[0;34m)\u001b[0m\u001b[0;34m,\u001b[0m \u001b[0;32mNone\u001b[0m\u001b[0;34m)\u001b[0m\u001b[0;34m\u001b[0m\u001b[0;34m\u001b[0m\u001b[0m\n\u001b[0m\u001b[1;32m   6607\u001b[0m   \u001b[0;31m# pylint: enable=protected-access\u001b[0m\u001b[0;34m\u001b[0m\u001b[0;34m\u001b[0m\u001b[0;34m\u001b[0m\u001b[0m\n\u001b[1;32m   6608\u001b[0m \u001b[0;34m\u001b[0m\u001b[0m\n",
      "\u001b[0;32m~/miniconda3/envs/usp/lib/python3.6/site-packages/six.py\u001b[0m in \u001b[0;36mraise_from\u001b[0;34m(value, from_value)\u001b[0m\n",
      "\u001b[0;31mInvalidArgumentError\u001b[0m: Input dimension 1 must have length of at least 160 but got: 80 [Op:RFFT] name: mfccs_from_log_mel_spectrograms/dct/rfft/"
     ]
    }
   ],
   "source": [
    "import tensorflow as tf\n",
    "raw_audio = tf.io.read_file(path)\n",
    "waveform, sample_rate = tf.audio.decode_wav(raw_audio)\n",
    "transwav = tf.transpose(waveform[0])\n",
    "stfts = tf.signal.stft(transwav, frame_length=1024, frame_step=256, fft_length=1024)\n",
    "spectrograms = tf.abs(stfts)\n",
    "\n",
    "num_spectrogram_bins = stfts.shape[-1]\n",
    "lower_edge_hertz, upper_edge_hertz, num_mel_bins = 80.0, 7600.0, 80\n",
    "\n",
    "linear_to_mel_weight_matrix = tf.signal.linear_to_mel_weight_matrix(\n",
    "  num_mel_bins, num_spectrogram_bins, sample_rate, lower_edge_hertz,\n",
    "  upper_edge_hertz)\n",
    "\n",
    "mel_spectrograms = tf.tensordot(\n",
    "  spectrograms, linear_to_mel_weight_matrix, 1)\n",
    "\n",
    "mel_spectrograms.set_shape(spectrograms.shape[:-1].concatenate(\n",
    "  linear_to_mel_weight_matrix.shape[-1:]))\n",
    "\n",
    "# Compute a stabilized log to get log-magnitude mel-scale spectrograms.\n",
    "log_mel_spectrograms = tf.math.log(mel_spectrograms + 1e-6)\n",
    "\n",
    "# Compute MFCCs from log_mel_spectrograms and take the first 13.\n",
    "mfccs = tf.signal.mfccs_from_log_mel_spectrograms(log_mel_spectrograms)\n",
    "tf.print(mfccs)"
   ]
  },
  {
   "cell_type": "code",
   "execution_count": 25,
   "metadata": {
    "ExecuteTime": {
     "end_time": "2020-04-25T12:50:13.451465Z",
     "start_time": "2020-04-25T12:50:13.172800Z"
    }
   },
   "outputs": [
    {
     "ename": "InvalidArgumentError",
     "evalue": "ValueError: Tensor conversion requested dtype int32 for Tensor with dtype string: <tf.Tensor: shape=(4,), dtype=string, numpy=\narray([b\"young fitzooth had been commanded to his mother's chamber so soon as he had come out from his converse with the squire\",\n       b\"there befell an anxious interview mistress fitzooth arguing for and against the squire's project in a breath\",\n       b'most of all robin thought of his father what would he counsel',\n       b'if for a whim you beggar yourself i cannot stay you'],\n      dtype=object)>\nTraceback (most recent call last):\n\n  File \"/Users/gabriel.t.nishimura/miniconda3/envs/usp/lib/python3.6/site-packages/tensorflow_core/python/ops/script_ops.py\", line 234, in __call__\n    return func(device, token, args)\n\n  File \"/Users/gabriel.t.nishimura/miniconda3/envs/usp/lib/python3.6/site-packages/tensorflow_core/python/ops/script_ops.py\", line 141, in __call__\n    self._convert(ret, dtype=self._out_dtypes[0]), device_name)\n\n  File \"/Users/gabriel.t.nishimura/miniconda3/envs/usp/lib/python3.6/site-packages/tensorflow_core/python/ops/script_ops.py\", line 112, in _convert\n    return ops.convert_to_tensor(value, dtype=dtype)\n\n  File \"/Users/gabriel.t.nishimura/miniconda3/envs/usp/lib/python3.6/site-packages/tensorflow_core/python/framework/ops.py\", line 1290, in convert_to_tensor\n    (dtype.name, value.dtype.name, value))\n\nValueError: Tensor conversion requested dtype int32 for Tensor with dtype string: <tf.Tensor: shape=(4,), dtype=string, numpy=\narray([b\"young fitzooth had been commanded to his mother's chamber so soon as he had come out from his converse with the squire\",\n       b\"there befell an anxious interview mistress fitzooth arguing for and against the squire's project in a breath\",\n       b'most of all robin thought of his father what would he counsel',\n       b'if for a whim you beggar yourself i cannot stay you'],\n      dtype=object)>\n\n\n\t [[{{node EagerPyFunc_1}}]]",
     "output_type": "error",
     "traceback": [
      "\u001b[0;31m---------------------------------------------------------------------------\u001b[0m",
      "\u001b[0;31mInvalidArgumentError\u001b[0m                      Traceback (most recent call last)",
      "\u001b[0;32m~/miniconda3/envs/usp/lib/python3.6/site-packages/tensorflow_core/python/eager/context.py\u001b[0m in \u001b[0;36mexecution_mode\u001b[0;34m(mode)\u001b[0m\n\u001b[1;32m   1896\u001b[0m     \u001b[0mctx\u001b[0m\u001b[0;34m.\u001b[0m\u001b[0mexecutor\u001b[0m \u001b[0;34m=\u001b[0m \u001b[0mexecutor_new\u001b[0m\u001b[0;34m\u001b[0m\u001b[0;34m\u001b[0m\u001b[0m\n\u001b[0;32m-> 1897\u001b[0;31m     \u001b[0;32myield\u001b[0m\u001b[0;34m\u001b[0m\u001b[0;34m\u001b[0m\u001b[0m\n\u001b[0m\u001b[1;32m   1898\u001b[0m   \u001b[0;32mfinally\u001b[0m\u001b[0;34m:\u001b[0m\u001b[0;34m\u001b[0m\u001b[0;34m\u001b[0m\u001b[0m\n",
      "\u001b[0;32m~/miniconda3/envs/usp/lib/python3.6/site-packages/tensorflow_core/python/data/ops/iterator_ops.py\u001b[0m in \u001b[0;36m_next_internal\u001b[0;34m(self)\u001b[0m\n\u001b[1;32m    658\u001b[0m             \u001b[0moutput_types\u001b[0m\u001b[0;34m=\u001b[0m\u001b[0mself\u001b[0m\u001b[0;34m.\u001b[0m\u001b[0m_flat_output_types\u001b[0m\u001b[0;34m,\u001b[0m\u001b[0;34m\u001b[0m\u001b[0;34m\u001b[0m\u001b[0m\n\u001b[0;32m--> 659\u001b[0;31m             output_shapes=self._flat_output_shapes)\n\u001b[0m\u001b[1;32m    660\u001b[0m \u001b[0;34m\u001b[0m\u001b[0m\n",
      "\u001b[0;32m~/miniconda3/envs/usp/lib/python3.6/site-packages/tensorflow_core/python/ops/gen_dataset_ops.py\u001b[0m in \u001b[0;36miterator_get_next_sync\u001b[0;34m(iterator, output_types, output_shapes, name)\u001b[0m\n\u001b[1;32m   2478\u001b[0m     \u001b[0;32mexcept\u001b[0m \u001b[0m_core\u001b[0m\u001b[0;34m.\u001b[0m\u001b[0m_NotOkStatusException\u001b[0m \u001b[0;32mas\u001b[0m \u001b[0me\u001b[0m\u001b[0;34m:\u001b[0m\u001b[0;34m\u001b[0m\u001b[0;34m\u001b[0m\u001b[0m\n\u001b[0;32m-> 2479\u001b[0;31m       \u001b[0m_ops\u001b[0m\u001b[0;34m.\u001b[0m\u001b[0mraise_from_not_ok_status\u001b[0m\u001b[0;34m(\u001b[0m\u001b[0me\u001b[0m\u001b[0;34m,\u001b[0m \u001b[0mname\u001b[0m\u001b[0;34m)\u001b[0m\u001b[0;34m\u001b[0m\u001b[0;34m\u001b[0m\u001b[0m\n\u001b[0m\u001b[1;32m   2480\u001b[0m   \u001b[0;31m# Add nodes to the TensorFlow graph.\u001b[0m\u001b[0;34m\u001b[0m\u001b[0;34m\u001b[0m\u001b[0;34m\u001b[0m\u001b[0m\n",
      "\u001b[0;32m~/miniconda3/envs/usp/lib/python3.6/site-packages/tensorflow_core/python/framework/ops.py\u001b[0m in \u001b[0;36mraise_from_not_ok_status\u001b[0;34m(e, name)\u001b[0m\n\u001b[1;32m   6605\u001b[0m   \u001b[0;31m# pylint: disable=protected-access\u001b[0m\u001b[0;34m\u001b[0m\u001b[0;34m\u001b[0m\u001b[0;34m\u001b[0m\u001b[0m\n\u001b[0;32m-> 6606\u001b[0;31m   \u001b[0msix\u001b[0m\u001b[0;34m.\u001b[0m\u001b[0mraise_from\u001b[0m\u001b[0;34m(\u001b[0m\u001b[0mcore\u001b[0m\u001b[0;34m.\u001b[0m\u001b[0m_status_to_exception\u001b[0m\u001b[0;34m(\u001b[0m\u001b[0me\u001b[0m\u001b[0;34m.\u001b[0m\u001b[0mcode\u001b[0m\u001b[0;34m,\u001b[0m \u001b[0mmessage\u001b[0m\u001b[0;34m)\u001b[0m\u001b[0;34m,\u001b[0m \u001b[0;32mNone\u001b[0m\u001b[0;34m)\u001b[0m\u001b[0;34m\u001b[0m\u001b[0;34m\u001b[0m\u001b[0m\n\u001b[0m\u001b[1;32m   6607\u001b[0m   \u001b[0;31m# pylint: enable=protected-access\u001b[0m\u001b[0;34m\u001b[0m\u001b[0;34m\u001b[0m\u001b[0;34m\u001b[0m\u001b[0m\n",
      "\u001b[0;32m~/miniconda3/envs/usp/lib/python3.6/site-packages/six.py\u001b[0m in \u001b[0;36mraise_from\u001b[0;34m(value, from_value)\u001b[0m\n",
      "\u001b[0;31mInvalidArgumentError\u001b[0m: ValueError: Tensor conversion requested dtype int32 for Tensor with dtype string: <tf.Tensor: shape=(4,), dtype=string, numpy=\narray([b\"young fitzooth had been commanded to his mother's chamber so soon as he had come out from his converse with the squire\",\n       b\"there befell an anxious interview mistress fitzooth arguing for and against the squire's project in a breath\",\n       b'most of all robin thought of his father what would he counsel',\n       b'if for a whim you beggar yourself i cannot stay you'],\n      dtype=object)>\nTraceback (most recent call last):\n\n  File \"/Users/gabriel.t.nishimura/miniconda3/envs/usp/lib/python3.6/site-packages/tensorflow_core/python/ops/script_ops.py\", line 234, in __call__\n    return func(device, token, args)\n\n  File \"/Users/gabriel.t.nishimura/miniconda3/envs/usp/lib/python3.6/site-packages/tensorflow_core/python/ops/script_ops.py\", line 141, in __call__\n    self._convert(ret, dtype=self._out_dtypes[0]), device_name)\n\n  File \"/Users/gabriel.t.nishimura/miniconda3/envs/usp/lib/python3.6/site-packages/tensorflow_core/python/ops/script_ops.py\", line 112, in _convert\n    return ops.convert_to_tensor(value, dtype=dtype)\n\n  File \"/Users/gabriel.t.nishimura/miniconda3/envs/usp/lib/python3.6/site-packages/tensorflow_core/python/framework/ops.py\", line 1290, in convert_to_tensor\n    (dtype.name, value.dtype.name, value))\n\nValueError: Tensor conversion requested dtype int32 for Tensor with dtype string: <tf.Tensor: shape=(4,), dtype=string, numpy=\narray([b\"young fitzooth had been commanded to his mother's chamber so soon as he had come out from his converse with the squire\",\n       b\"there befell an anxious interview mistress fitzooth arguing for and against the squire's project in a breath\",\n       b'most of all robin thought of his father what would he counsel',\n       b'if for a whim you beggar yourself i cannot stay you'],\n      dtype=object)>\n\n\n\t [[{{node EagerPyFunc_1}}]] [Op:IteratorGetNextSync]",
      "\nDuring handling of the above exception, another exception occurred:\n",
      "\u001b[0;31mInvalidArgumentError\u001b[0m                      Traceback (most recent call last)",
      "\u001b[0;32m<ipython-input-25-2c77e93c0455>\u001b[0m in \u001b[0;36m<module>\u001b[0;34m\u001b[0m\n\u001b[1;32m     49\u001b[0m \u001b[0mlibrivox_ds\u001b[0m \u001b[0;34m=\u001b[0m \u001b[0mlibrivox_paths_ds\u001b[0m\u001b[0;34m.\u001b[0m\u001b[0mmap\u001b[0m\u001b[0;34m(\u001b[0m\u001b[0mtf_function_wrapper\u001b[0m\u001b[0;34m)\u001b[0m\u001b[0;34m\u001b[0m\u001b[0;34m\u001b[0m\u001b[0m\n\u001b[1;32m     50\u001b[0m \u001b[0;34m\u001b[0m\u001b[0m\n\u001b[0;32m---> 51\u001b[0;31m \u001b[0;32mfor\u001b[0m \u001b[0mfeature_batch\u001b[0m\u001b[0;34m,\u001b[0m \u001b[0mlabels\u001b[0m \u001b[0;32min\u001b[0m \u001b[0mlibrivox_ds\u001b[0m\u001b[0;34m.\u001b[0m\u001b[0mtake\u001b[0m\u001b[0;34m(\u001b[0m\u001b[0;36m1\u001b[0m\u001b[0;34m)\u001b[0m\u001b[0;34m:\u001b[0m\u001b[0;34m\u001b[0m\u001b[0;34m\u001b[0m\u001b[0m\n\u001b[0m\u001b[1;32m     52\u001b[0m     \u001b[0mtf\u001b[0m\u001b[0;34m.\u001b[0m\u001b[0mprint\u001b[0m\u001b[0;34m(\u001b[0m\u001b[0mlabels\u001b[0m\u001b[0;34m)\u001b[0m\u001b[0;34m\u001b[0m\u001b[0;34m\u001b[0m\u001b[0m\n\u001b[1;32m     53\u001b[0m \u001b[0;34m\u001b[0m\u001b[0m\n",
      "\u001b[0;32m~/miniconda3/envs/usp/lib/python3.6/site-packages/tensorflow_core/python/data/ops/iterator_ops.py\u001b[0m in \u001b[0;36m__next__\u001b[0;34m(self)\u001b[0m\n\u001b[1;32m    628\u001b[0m \u001b[0;34m\u001b[0m\u001b[0m\n\u001b[1;32m    629\u001b[0m   \u001b[0;32mdef\u001b[0m \u001b[0m__next__\u001b[0m\u001b[0;34m(\u001b[0m\u001b[0mself\u001b[0m\u001b[0;34m)\u001b[0m\u001b[0;34m:\u001b[0m  \u001b[0;31m# For Python 3 compatibility\u001b[0m\u001b[0;34m\u001b[0m\u001b[0;34m\u001b[0m\u001b[0m\n\u001b[0;32m--> 630\u001b[0;31m     \u001b[0;32mreturn\u001b[0m \u001b[0mself\u001b[0m\u001b[0;34m.\u001b[0m\u001b[0mnext\u001b[0m\u001b[0;34m(\u001b[0m\u001b[0;34m)\u001b[0m\u001b[0;34m\u001b[0m\u001b[0;34m\u001b[0m\u001b[0m\n\u001b[0m\u001b[1;32m    631\u001b[0m \u001b[0;34m\u001b[0m\u001b[0m\n\u001b[1;32m    632\u001b[0m   \u001b[0;32mdef\u001b[0m \u001b[0m_next_internal\u001b[0m\u001b[0;34m(\u001b[0m\u001b[0mself\u001b[0m\u001b[0;34m)\u001b[0m\u001b[0;34m:\u001b[0m\u001b[0;34m\u001b[0m\u001b[0;34m\u001b[0m\u001b[0m\n",
      "\u001b[0;32m~/miniconda3/envs/usp/lib/python3.6/site-packages/tensorflow_core/python/data/ops/iterator_ops.py\u001b[0m in \u001b[0;36mnext\u001b[0;34m(self)\u001b[0m\n\u001b[1;32m    672\u001b[0m     \u001b[0;34m\"\"\"Returns a nested structure of `Tensor`s containing the next element.\"\"\"\u001b[0m\u001b[0;34m\u001b[0m\u001b[0;34m\u001b[0m\u001b[0m\n\u001b[1;32m    673\u001b[0m     \u001b[0;32mtry\u001b[0m\u001b[0;34m:\u001b[0m\u001b[0;34m\u001b[0m\u001b[0;34m\u001b[0m\u001b[0m\n\u001b[0;32m--> 674\u001b[0;31m       \u001b[0;32mreturn\u001b[0m \u001b[0mself\u001b[0m\u001b[0;34m.\u001b[0m\u001b[0m_next_internal\u001b[0m\u001b[0;34m(\u001b[0m\u001b[0;34m)\u001b[0m\u001b[0;34m\u001b[0m\u001b[0;34m\u001b[0m\u001b[0m\n\u001b[0m\u001b[1;32m    675\u001b[0m     \u001b[0;32mexcept\u001b[0m \u001b[0merrors\u001b[0m\u001b[0;34m.\u001b[0m\u001b[0mOutOfRangeError\u001b[0m\u001b[0;34m:\u001b[0m\u001b[0;34m\u001b[0m\u001b[0;34m\u001b[0m\u001b[0m\n\u001b[1;32m    676\u001b[0m       \u001b[0;32mraise\u001b[0m \u001b[0mStopIteration\u001b[0m\u001b[0;34m\u001b[0m\u001b[0;34m\u001b[0m\u001b[0m\n",
      "\u001b[0;32m~/miniconda3/envs/usp/lib/python3.6/site-packages/tensorflow_core/python/data/ops/iterator_ops.py\u001b[0m in \u001b[0;36m_next_internal\u001b[0;34m(self)\u001b[0m\n\u001b[1;32m    663\u001b[0m         \u001b[0;32mreturn\u001b[0m \u001b[0mself\u001b[0m\u001b[0;34m.\u001b[0m\u001b[0m_element_spec\u001b[0m\u001b[0;34m.\u001b[0m\u001b[0m_from_compatible_tensor_list\u001b[0m\u001b[0;34m(\u001b[0m\u001b[0mret\u001b[0m\u001b[0;34m)\u001b[0m  \u001b[0;31m# pylint: disable=protected-access\u001b[0m\u001b[0;34m\u001b[0m\u001b[0;34m\u001b[0m\u001b[0m\n\u001b[1;32m    664\u001b[0m       \u001b[0;32mexcept\u001b[0m \u001b[0mAttributeError\u001b[0m\u001b[0;34m:\u001b[0m\u001b[0;34m\u001b[0m\u001b[0;34m\u001b[0m\u001b[0m\n\u001b[0;32m--> 665\u001b[0;31m         \u001b[0;32mreturn\u001b[0m \u001b[0mstructure\u001b[0m\u001b[0;34m.\u001b[0m\u001b[0mfrom_compatible_tensor_list\u001b[0m\u001b[0;34m(\u001b[0m\u001b[0mself\u001b[0m\u001b[0;34m.\u001b[0m\u001b[0m_element_spec\u001b[0m\u001b[0;34m,\u001b[0m \u001b[0mret\u001b[0m\u001b[0;34m)\u001b[0m\u001b[0;34m\u001b[0m\u001b[0;34m\u001b[0m\u001b[0m\n\u001b[0m\u001b[1;32m    666\u001b[0m \u001b[0;34m\u001b[0m\u001b[0m\n\u001b[1;32m    667\u001b[0m   \u001b[0;34m@\u001b[0m\u001b[0mproperty\u001b[0m\u001b[0;34m\u001b[0m\u001b[0;34m\u001b[0m\u001b[0m\n",
      "\u001b[0;32m~/miniconda3/envs/usp/lib/python3.6/contextlib.py\u001b[0m in \u001b[0;36m__exit__\u001b[0;34m(self, type, value, traceback)\u001b[0m\n\u001b[1;32m     97\u001b[0m                 \u001b[0mvalue\u001b[0m \u001b[0;34m=\u001b[0m \u001b[0mtype\u001b[0m\u001b[0;34m(\u001b[0m\u001b[0;34m)\u001b[0m\u001b[0;34m\u001b[0m\u001b[0;34m\u001b[0m\u001b[0m\n\u001b[1;32m     98\u001b[0m             \u001b[0;32mtry\u001b[0m\u001b[0;34m:\u001b[0m\u001b[0;34m\u001b[0m\u001b[0;34m\u001b[0m\u001b[0m\n\u001b[0;32m---> 99\u001b[0;31m                 \u001b[0mself\u001b[0m\u001b[0;34m.\u001b[0m\u001b[0mgen\u001b[0m\u001b[0;34m.\u001b[0m\u001b[0mthrow\u001b[0m\u001b[0;34m(\u001b[0m\u001b[0mtype\u001b[0m\u001b[0;34m,\u001b[0m \u001b[0mvalue\u001b[0m\u001b[0;34m,\u001b[0m \u001b[0mtraceback\u001b[0m\u001b[0;34m)\u001b[0m\u001b[0;34m\u001b[0m\u001b[0;34m\u001b[0m\u001b[0m\n\u001b[0m\u001b[1;32m    100\u001b[0m             \u001b[0;32mexcept\u001b[0m \u001b[0mStopIteration\u001b[0m \u001b[0;32mas\u001b[0m \u001b[0mexc\u001b[0m\u001b[0;34m:\u001b[0m\u001b[0;34m\u001b[0m\u001b[0;34m\u001b[0m\u001b[0m\n\u001b[1;32m    101\u001b[0m                 \u001b[0;31m# Suppress StopIteration *unless* it's the same exception that\u001b[0m\u001b[0;34m\u001b[0m\u001b[0;34m\u001b[0m\u001b[0;34m\u001b[0m\u001b[0m\n",
      "\u001b[0;32m~/miniconda3/envs/usp/lib/python3.6/site-packages/tensorflow_core/python/eager/context.py\u001b[0m in \u001b[0;36mexecution_mode\u001b[0;34m(mode)\u001b[0m\n\u001b[1;32m   1898\u001b[0m   \u001b[0;32mfinally\u001b[0m\u001b[0;34m:\u001b[0m\u001b[0;34m\u001b[0m\u001b[0;34m\u001b[0m\u001b[0m\n\u001b[1;32m   1899\u001b[0m     \u001b[0mctx\u001b[0m\u001b[0;34m.\u001b[0m\u001b[0mexecutor\u001b[0m \u001b[0;34m=\u001b[0m \u001b[0mexecutor_old\u001b[0m\u001b[0;34m\u001b[0m\u001b[0;34m\u001b[0m\u001b[0m\n\u001b[0;32m-> 1900\u001b[0;31m     \u001b[0mexecutor_new\u001b[0m\u001b[0;34m.\u001b[0m\u001b[0mwait\u001b[0m\u001b[0;34m(\u001b[0m\u001b[0;34m)\u001b[0m\u001b[0;34m\u001b[0m\u001b[0;34m\u001b[0m\u001b[0m\n\u001b[0m\u001b[1;32m   1901\u001b[0m \u001b[0;34m\u001b[0m\u001b[0m\n\u001b[1;32m   1902\u001b[0m \u001b[0;34m\u001b[0m\u001b[0m\n",
      "\u001b[0;32m~/miniconda3/envs/usp/lib/python3.6/site-packages/tensorflow_core/python/eager/executor.py\u001b[0m in \u001b[0;36mwait\u001b[0;34m(self)\u001b[0m\n\u001b[1;32m     65\u001b[0m   \u001b[0;32mdef\u001b[0m \u001b[0mwait\u001b[0m\u001b[0;34m(\u001b[0m\u001b[0mself\u001b[0m\u001b[0;34m)\u001b[0m\u001b[0;34m:\u001b[0m\u001b[0;34m\u001b[0m\u001b[0;34m\u001b[0m\u001b[0m\n\u001b[1;32m     66\u001b[0m     \u001b[0;34m\"\"\"Waits for ops dispatched in this executor to finish.\"\"\"\u001b[0m\u001b[0;34m\u001b[0m\u001b[0;34m\u001b[0m\u001b[0m\n\u001b[0;32m---> 67\u001b[0;31m     \u001b[0mpywrap_tensorflow\u001b[0m\u001b[0;34m.\u001b[0m\u001b[0mTFE_ExecutorWaitForAllPendingNodes\u001b[0m\u001b[0;34m(\u001b[0m\u001b[0mself\u001b[0m\u001b[0;34m.\u001b[0m\u001b[0m_handle\u001b[0m\u001b[0;34m)\u001b[0m\u001b[0;34m\u001b[0m\u001b[0;34m\u001b[0m\u001b[0m\n\u001b[0m\u001b[1;32m     68\u001b[0m \u001b[0;34m\u001b[0m\u001b[0m\n\u001b[1;32m     69\u001b[0m   \u001b[0;32mdef\u001b[0m \u001b[0mclear_error\u001b[0m\u001b[0;34m(\u001b[0m\u001b[0mself\u001b[0m\u001b[0;34m)\u001b[0m\u001b[0;34m:\u001b[0m\u001b[0;34m\u001b[0m\u001b[0;34m\u001b[0m\u001b[0m\n",
      "\u001b[0;31mInvalidArgumentError\u001b[0m: ValueError: Tensor conversion requested dtype int32 for Tensor with dtype string: <tf.Tensor: shape=(4,), dtype=string, numpy=\narray([b\"young fitzooth had been commanded to his mother's chamber so soon as he had come out from his converse with the squire\",\n       b\"there befell an anxious interview mistress fitzooth arguing for and against the squire's project in a breath\",\n       b'most of all robin thought of his father what would he counsel',\n       b'if for a whim you beggar yourself i cannot stay you'],\n      dtype=object)>\nTraceback (most recent call last):\n\n  File \"/Users/gabriel.t.nishimura/miniconda3/envs/usp/lib/python3.6/site-packages/tensorflow_core/python/ops/script_ops.py\", line 234, in __call__\n    return func(device, token, args)\n\n  File \"/Users/gabriel.t.nishimura/miniconda3/envs/usp/lib/python3.6/site-packages/tensorflow_core/python/ops/script_ops.py\", line 141, in __call__\n    self._convert(ret, dtype=self._out_dtypes[0]), device_name)\n\n  File \"/Users/gabriel.t.nishimura/miniconda3/envs/usp/lib/python3.6/site-packages/tensorflow_core/python/ops/script_ops.py\", line 112, in _convert\n    return ops.convert_to_tensor(value, dtype=dtype)\n\n  File \"/Users/gabriel.t.nishimura/miniconda3/envs/usp/lib/python3.6/site-packages/tensorflow_core/python/framework/ops.py\", line 1290, in convert_to_tensor\n    (dtype.name, value.dtype.name, value))\n\nValueError: Tensor conversion requested dtype int32 for Tensor with dtype string: <tf.Tensor: shape=(4,), dtype=string, numpy=\narray([b\"young fitzooth had been commanded to his mother's chamber so soon as he had come out from his converse with the squire\",\n       b\"there befell an anxious interview mistress fitzooth arguing for and against the squire's project in a breath\",\n       b'most of all robin thought of his father what would he counsel',\n       b'if for a whim you beggar yourself i cannot stay you'],\n      dtype=object)>\n\n\n\t [[{{node EagerPyFunc_1}}]]"
     ]
    }
   ],
   "source": [
    "import tensorflow as tf\n",
    "\n",
    "def process_path(paths):\n",
    "    features = []\n",
    "    for path in paths:\n",
    "        raw_audio = tf.io.read_file(path) # load file\n",
    "        waveform, sample_rate = tf.audio.decode_wav(raw_audio) # load waveforms in memory\n",
    "        transwav = tf.transpose(waveform) # shanenigans to stft\n",
    "        stfts = tf.signal.stft(transwav, frame_length=1024, frame_step=256, fft_length=1024)\n",
    "        spectrograms = tf.abs(stfts)\n",
    "\n",
    "        num_spectrogram_bins = stfts.shape[-1]\n",
    "        lower_edge_hertz, upper_edge_hertz, num_mel_bins = 80.0, 7600.0, 80\n",
    "\n",
    "        linear_to_mel_weight_matrix = tf.signal.linear_to_mel_weight_matrix(\n",
    "          num_mel_bins, num_spectrogram_bins, sample_rate, lower_edge_hertz,\n",
    "          upper_edge_hertz)\n",
    "\n",
    "        mel_spectrograms = tf.tensordot(\n",
    "          spectrograms, linear_to_mel_weight_matrix, 1)\n",
    "\n",
    "        mel_spectrograms.set_shape(spectrograms.shape[:-1].concatenate(\n",
    "          linear_to_mel_weight_matrix.shape[-1:]))\n",
    "\n",
    "        # Compute a stabilized log to get log-magnitude mel-scale spectrograms.\n",
    "        log_mel_spectrograms = tf.math.log(mel_spectrograms + 1e-6)\n",
    "\n",
    "        # Compute MFCCs from log_mel_spectrograms\n",
    "        mfccs = tf.signal.mfccs_from_log_mel_spectrograms(log_mel_spectrograms)\n",
    "        features.append(mfccs[0])\n",
    "\n",
    "    # pad different sized mfccs\n",
    "    features = tf.keras.preprocessing.sequence.pad_sequences(features, dtype='float', padding='post', truncating='post')\n",
    "    return features\n",
    "\n",
    "def process_labels(labels):\n",
    "    \n",
    "    return labels\n",
    "    \n",
    "\n",
    "def tf_function_wrapper(features, labels):\n",
    "    features = tf.py_function(func=process_path, inp=[features['filename']], Tout=tf.float32)\n",
    "    labels = tf.py_function(func=process_labels, inp=[labels], Tout=tf.int32)\n",
    "    return features, labels\n",
    "\n",
    "librivox_paths_ds = tf.data.experimental.make_csv_dataset(\n",
    "    \"librivox-test-clean-wav.csv\", batch_size=4,\n",
    "    shuffle=False, label_name=\"transcript\")\n",
    "\n",
    "librivox_ds = librivox_paths_ds.map(tf_function_wrapper)\n",
    "\n",
    "for feature_batch, labels in librivox_ds.take(1):\n",
    "    tf.print(labels)\n",
    "\n",
    "    "
   ]
  },
  {
   "cell_type": "code",
   "execution_count": null,
   "metadata": {},
   "outputs": [],
   "source": []
  },
  {
   "cell_type": "code",
   "execution_count": null,
   "metadata": {},
   "outputs": [],
   "source": []
  },
  {
   "cell_type": "code",
   "execution_count": null,
   "metadata": {},
   "outputs": [],
   "source": []
  }
 ],
 "metadata": {
  "kernelspec": {
   "display_name": "Python 3",
   "language": "python",
   "name": "python3"
  },
  "language_info": {
   "codemirror_mode": {
    "name": "ipython",
    "version": 3
   },
   "file_extension": ".py",
   "mimetype": "text/x-python",
   "name": "python",
   "nbconvert_exporter": "python",
   "pygments_lexer": "ipython3",
   "version": "3.6.10"
  },
  "toc": {
   "base_numbering": 1,
   "nav_menu": {},
   "number_sections": true,
   "sideBar": true,
   "skip_h1_title": false,
   "title_cell": "Table of Contents",
   "title_sidebar": "Contents",
   "toc_cell": false,
   "toc_position": {
    "height": "calc(100% - 180px)",
    "left": "10px",
    "top": "150px",
    "width": "165px"
   },
   "toc_section_display": true,
   "toc_window_display": true
  },
  "varInspector": {
   "cols": {
    "lenName": 16,
    "lenType": 16,
    "lenVar": 40
   },
   "kernels_config": {
    "python": {
     "delete_cmd_postfix": "",
     "delete_cmd_prefix": "del ",
     "library": "var_list.py",
     "varRefreshCmd": "print(var_dic_list())"
    },
    "r": {
     "delete_cmd_postfix": ") ",
     "delete_cmd_prefix": "rm(",
     "library": "var_list.r",
     "varRefreshCmd": "cat(var_dic_list()) "
    }
   },
   "oldHeight": 203,
   "position": {
    "height": "205px",
    "left": "1137px",
    "right": "20px",
    "top": "86px",
    "width": "528px"
   },
   "types_to_exclude": [
    "module",
    "function",
    "builtin_function_or_method",
    "instance",
    "_Feature"
   ],
   "varInspector_section_display": "block",
   "window_display": true
  }
 },
 "nbformat": 4,
 "nbformat_minor": 4
}
