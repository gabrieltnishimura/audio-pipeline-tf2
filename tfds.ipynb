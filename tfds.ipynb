{
 "cells": [
  {
   "cell_type": "code",
   "execution_count": null,
   "metadata": {
    "ExecuteTime": {
     "end_time": "2020-05-14T18:13:06.005992Z",
     "start_time": "2020-05-14T18:13:01.693Z"
    }
   },
   "outputs": [],
   "source": [
    "import time\n",
    "start_time = time.time()\n",
    "\n",
    "import tensorflow_datasets as tfds\n",
    "import tensorflow as tf\n",
    "# https://keithito.com/LJ-Speech-Dataset/ \n",
    "# Each audio file is a single-channel 16-bit PCM WAV with a sample rate of 22050 Hz.\n",
    "ds = tfds.load('ljspeech', split='train', batch_size=16)\n",
    "\n",
    "def convert_to_spectogram(speech):\n",
    "    normalized = tf.cast(speech, tf.float32) / 32767.0\n",
    "    stft = tf.signal.stft(normalized, frame_length=1024, frame_step=256, fft_length=1024)\n",
    "    return tf.abs(stft)\n",
    "\n",
    "def update(data):\n",
    "    data['speech2'] = tf.py_function(func=convert_to_spectogram, inp=[data['speech']], Tout=tf.float32)\n",
    "    return data\n",
    "\n",
    "def calculate(data):\n",
    "    pass\n",
    "\n",
    "ds = ds.map(update, num_parallel_calls=6)\n",
    "ds = ds.prefetch(2)\n",
    "\n",
    "for spectogram in ds.take(1):\n",
    "    calculate(spectogram)\n",
    "\n",
    "print(\"--- %s seconds ---\" % (time.time() - start_time))"
   ]
  },
  {
   "cell_type": "code",
   "execution_count": 91,
   "metadata": {
    "ExecuteTime": {
     "end_time": "2020-05-14T21:56:50.973352Z",
     "start_time": "2020-05-14T21:56:45.546229Z"
    }
   },
   "outputs": [
    {
     "name": "stdout",
     "output_type": "stream",
     "text": [
      "TensorShape([858, 26])\n"
     ]
    }
   ],
   "source": [
    "(train_ds, val_ds, test_ds), metadata = tfds.load('ljspeech',\n",
    "                                                  with_info=True,\n",
    "                                                  split=[\n",
    "                                                      'train[:80%]',\n",
    "                                                      'train[80%:90%]',\n",
    "                                                      'train[90%:100%]'\n",
    "                                                  ],\n",
    "#                                                   shuffle_files=True,\n",
    "                                                  batch_size=16)\n",
    "\n",
    "sr = metadata.metadata['sample_rate']\n",
    "\n",
    "def convert_log_mel_spectrograms(spectrograms,\n",
    "                                 sample_rate,\n",
    "                                 num_spectrogram_bins,\n",
    "                                 lower_edge_hertz=80.0,\n",
    "                                 upper_edge_hertz=7600.0,\n",
    "                                 num_mel_bins=26):\n",
    "\n",
    "    linear_to_mel_weight_matrix = tf.signal.linear_to_mel_weight_matrix(\n",
    "        num_mel_bins, num_spectrogram_bins, sample_rate, lower_edge_hertz,\n",
    "        upper_edge_hertz)\n",
    "\n",
    "    mel_spectrograms = tf.tensordot(\n",
    "        spectrograms, linear_to_mel_weight_matrix, 1)\n",
    "\n",
    "    mel_spectrograms.set_shape(spectrograms.shape[:-1].concatenate(\n",
    "        linear_to_mel_weight_matrix.shape[-1:]))\n",
    "\n",
    "    # Compute a stabilized log to get log-magnitude mel-scale spectrograms.\n",
    "    log_mel_spectrograms = tf.math.log(mel_spectrograms + 1e-6)\n",
    "    return log_mel_spectrograms\n",
    "\n",
    "def convert_to_spectogram(speech):\n",
    "    normalized = tf.cast(speech, tf.float32) / 32767.0\n",
    "    stfts = tf.signal.stft(normalized, frame_length=1024, frame_step=256, fft_length=1024)\n",
    "    spectrograms = tf.abs(stfts)\n",
    "    num_spectrogram_bins = stfts.shape[-1]\n",
    "    log_mel_spectrograms = convert_log_mel_spectrograms(spectrograms, sr, num_spectrogram_bins)\n",
    "    mfccs = tf.signal.mfccs_from_log_mel_spectrograms(log_mel_spectrograms)\n",
    "    return mfccs[0]\n",
    "\n",
    "def update(data):\n",
    "    data['speech'] = tf.py_function(func=convert_to_spectogram, inp=[data['speech']], Tout=tf.float32)\n",
    "    return data\n",
    "\n",
    "def process_ds(ds):\n",
    "        return ds.map(\n",
    "            update, num_parallel_calls=tf.data.experimental.AUTOTUNE\n",
    "        )\n",
    "#     .cache().prefetch(1)\n",
    "\n",
    "train_ds = process_ds(train_ds)\n",
    "val_ds = process_ds(train_ds)\n",
    "test_ds = process_ds(train_ds)\n",
    "\n",
    "for features in train_ds.take(1):\n",
    "    tf.print(features['speech'].shape)"
   ]
  },
  {
   "cell_type": "code",
   "execution_count": 81,
   "metadata": {
    "ExecuteTime": {
     "end_time": "2020-05-14T21:53:33.883213Z",
     "start_time": "2020-05-14T21:53:29.615468Z"
    },
    "scrolled": true
   },
   "outputs": [
    {
     "name": "stdout",
     "output_type": "stream",
     "text": [
      "TensorShape([858, 26])\n",
      "TensorShape([814, 26])\n"
     ]
    }
   ],
   "source": [
    "for features in train_ds.take(2):\n",
    "    tf.print(features['speech'].shape)\n",
    "    "
   ]
  },
  {
   "cell_type": "code",
   "execution_count": null,
   "metadata": {},
   "outputs": [],
   "source": []
  },
  {
   "cell_type": "code",
   "execution_count": 9,
   "metadata": {
    "ExecuteTime": {
     "end_time": "2020-05-15T16:58:09.925501Z",
     "start_time": "2020-05-15T16:58:09.916563Z"
    },
    "scrolled": true
   },
   "outputs": [
    {
     "name": "stdout",
     "output_type": "stream",
     "text": [
      "[[2]\n",
      " [5]\n",
      " [5]\n",
      " ...\n",
      " [4]\n",
      " [4]\n",
      " [2]]\n"
     ]
    }
   ],
   "source": [
    "import tensorflow_io as tfio\n",
    "import tensorflow as tf\n",
    "test = tfio.audio.AudioIOTensor(\n",
    "    '/Users/gabriel.t.nishimura/projects/masters/datasets/LibriSpeech/dev-clean-new/5694-64025-0000.flac', dtype=None\n",
    ")\n",
    "tf.print(test.to_tensor())"
   ]
  },
  {
   "cell_type": "code",
   "execution_count": 16,
   "metadata": {
    "ExecuteTime": {
     "end_time": "2020-05-14T18:47:05.708031Z",
     "start_time": "2020-05-14T18:47:05.432797Z"
    },
    "scrolled": true
   },
   "outputs": [
    {
     "data": {
      "text/plain": [
       "<tf.Tensor: shape=(1, 205, 257), dtype=float32, numpy=\n",
       "array([[[8.3223893e-04, 3.7094706e-03, 1.3722545e-03, ...,\n",
       "         2.1628932e-04, 5.4637465e-05, 1.3773417e-04],\n",
       "        [3.8308473e-03, 4.2985152e-03, 3.4092239e-03, ...,\n",
       "         9.9384692e-05, 1.5655435e-04, 1.0576041e-04],\n",
       "        [8.3755178e-04, 2.4562459e-03, 2.9933178e-03, ...,\n",
       "         9.1293485e-05, 1.4219768e-04, 9.8375516e-05],\n",
       "        ...,\n",
       "        [2.4218033e-03, 1.3274888e-03, 2.1213035e-03, ...,\n",
       "         9.0504291e-05, 1.4621654e-04, 3.4237746e-05],\n",
       "        [5.4896288e-03, 4.8878239e-03, 2.9209652e-03, ...,\n",
       "         2.4263980e-04, 1.8727286e-04, 3.5183039e-05],\n",
       "        [7.9418123e-03, 6.6004079e-03, 4.1228645e-03, ...,\n",
       "         2.1570237e-04, 1.6987286e-04, 1.4330028e-04]]], dtype=float32)>"
      ]
     },
     "execution_count": 16,
     "metadata": {},
     "output_type": "execute_result"
    }
   ],
   "source": [
    "import tensorflow_io as tfio\n",
    "path = '/Users/gabriel.t.nishimura/projects/masters/ctc/data_dir/LibriSpeech/dev-clean-new/5694-64025-0000.flac'\n",
    "raw = tf.io.read_file(path)\n",
    "decoded = tfio.audio.decode_flac(raw, dtype=tf.int16)\n",
    "# [[2], [5], [5], ..., [4], [4], [2]]\n",
    "normalized = tf.cast(decoded, tf.float32) / 32767.0\n",
    "# [[6.10370189e-05] [0.000152592547] [0.000152592547] ... [0.000122074038] [0.000122074038] [6.10370189e-05]]\n",
    "spectogram = tf.signal.stft(tf.transpose(normalized), frame_length=512, frame_step=128, fft_length=512)\n",
    "# [] <- empty\n",
    "tf.abs(spectogram)\n"
   ]
  },
  {
   "cell_type": "code",
   "execution_count": 52,
   "metadata": {
    "ExecuteTime": {
     "end_time": "2020-05-13T14:35:59.183094Z",
     "start_time": "2020-05-13T14:35:59.088359Z"
    }
   },
   "outputs": [
    {
     "name": "stdout",
     "output_type": "stream",
     "text": [
      "TensorShape([10, 32000])\n",
      "[1.09662044 1.69534135 -0.899237037 ... 2.43812156 -0.435678 1.52866685]\n"
     ]
    },
    {
     "data": {
      "text/plain": [
       "<tf.Tensor: shape=(10, 122, 513), dtype=float32, numpy=\n",
       "array([[[36.42891   , 28.344164  ,  6.5406055 , ...,  8.846258  ,\n",
       "         20.897167  , 29.22834   ],\n",
       "        [42.59881   , 38.289036  , 21.444187  , ...,  8.97204   ,\n",
       "         16.172142  , 16.06566   ],\n",
       "        [ 5.5205526 , 24.158653  , 19.721468  , ..., 20.894777  ,\n",
       "         14.119332  , 15.314309  ],\n",
       "        ...,\n",
       "        [ 3.6069183 , 13.671073  ,  2.679152  , ..., 35.30774   ,\n",
       "         32.572678  , 20.800205  ],\n",
       "        [ 9.032834  , 11.374646  , 14.75252   , ..., 37.143196  ,\n",
       "         22.568562  ,  0.1557169 ],\n",
       "        [ 7.8620396 ,  4.4548864 , 13.004418  , ..., 21.504335  ,\n",
       "          8.973442  ,  6.6855507 ]],\n",
       "\n",
       "       [[ 5.0369244 ,  6.093818  , 21.205082  , ..., 23.319431  ,\n",
       "         35.89395   , 46.70936   ],\n",
       "        [23.914188  , 25.074112  , 25.329699  , ...,  9.3750105 ,\n",
       "         12.089165  , 27.278046  ],\n",
       "        [11.466986  , 26.49086   , 14.000098  , ...,  3.8226857 ,\n",
       "          5.81519   , 17.588863  ],\n",
       "        ...,\n",
       "        [13.947983  ,  4.561519  ,  8.404822  , ..., 16.665545  ,\n",
       "         30.772339  , 14.058397  ],\n",
       "        [36.597435  , 27.252836  , 10.354623  , ..., 14.732044  ,\n",
       "         26.597492  , 37.126442  ],\n",
       "        [49.53866   , 31.031721  , 16.621874  , ...,  5.720067  ,\n",
       "         10.005765  , 30.112282  ]],\n",
       "\n",
       "       [[ 7.607399  , 10.875413  ,  9.019659  , ..., 20.428013  ,\n",
       "         23.666704  , 34.369225  ],\n",
       "        [ 7.7882824 ,  8.97438   , 18.490488  , ..., 19.3738    ,\n",
       "         16.714613  , 14.84502   ],\n",
       "        [ 1.2330599 , 20.110073  , 16.968876  , ..., 15.009192  ,\n",
       "         11.57237   , 11.083959  ],\n",
       "        ...,\n",
       "        [11.689465  , 19.928707  , 11.659106  , ...,  1.8652825 ,\n",
       "         21.852205  , 31.20287   ],\n",
       "        [ 4.530668  , 15.873982  , 14.324824  , ..., 15.215473  ,\n",
       "         17.84638   , 13.459375  ],\n",
       "        [21.947521  , 34.870228  , 29.606564  , ...,  2.7190711 ,\n",
       "         10.750121  ,  4.771434  ]],\n",
       "\n",
       "       ...,\n",
       "\n",
       "       [[ 0.54380655, 14.037375  , 24.733768  , ..., 15.246738  ,\n",
       "         11.248506  , 11.724812  ],\n",
       "        [ 0.60473824,  7.890592  , 27.24293   , ..., 19.655067  ,\n",
       "         20.313272  , 31.879656  ],\n",
       "        [ 2.7633934 ,  0.9405043 , 21.76758   , ..., 24.946455  ,\n",
       "         28.448841  , 45.501423  ],\n",
       "        ...,\n",
       "        [42.46548   , 32.65456   , 15.342637  , ...,  1.7467426 ,\n",
       "         25.168282  , 26.080341  ],\n",
       "        [33.782127  , 33.643394  , 16.118847  , ..., 29.54759   ,\n",
       "         27.54492   ,  5.9175816 ],\n",
       "        [ 3.6301847 , 19.945877  , 15.696327  , ..., 29.034275  ,\n",
       "         23.720453  ,  6.542026  ]],\n",
       "\n",
       "       [[29.831074  , 16.383253  ,  8.608231  , ..., 12.337745  ,\n",
       "          8.345416  , 10.758115  ],\n",
       "        [21.76028   , 27.546501  , 17.95064   , ..., 14.395437  ,\n",
       "          7.2024984 ,  2.4984236 ],\n",
       "        [16.108     , 31.483507  , 28.213713  , ..., 21.41195   ,\n",
       "         12.407068  ,  6.9902897 ],\n",
       "        ...,\n",
       "        [ 1.0654588 ,  8.9999    ,  2.7874079 , ..., 31.321096  ,\n",
       "         23.835129  ,  7.2111135 ],\n",
       "        [ 9.563625  , 16.119793  , 18.810331  , ..., 21.602776  ,\n",
       "         26.10669   , 10.402668  ],\n",
       "        [ 9.861212  , 26.351671  , 26.95692   , ..., 12.028559  ,\n",
       "         18.845243  , 18.472433  ]],\n",
       "\n",
       "       [[19.150934  , 29.650612  , 28.038582  , ..., 12.1595125 ,\n",
       "         25.716633  , 33.051846  ],\n",
       "        [22.971813  , 26.57338   , 31.195122  , ...,  8.614723  ,\n",
       "         11.32234   , 18.68055   ],\n",
       "        [ 4.4716654 , 11.490249  ,  8.431974  , ...,  9.621036  ,\n",
       "          9.356356  ,  0.11612415],\n",
       "        ...,\n",
       "        [ 1.1865768 , 13.230867  , 22.454086  , ..., 32.944237  ,\n",
       "         40.0328    , 47.284485  ],\n",
       "        [ 3.9495306 ,  7.4751315 ,  9.015324  , ..., 11.075666  ,\n",
       "         27.845467  , 10.03255   ],\n",
       "        [13.912921  , 10.89655   , 15.023276  , ..., 15.793354  ,\n",
       "         12.594036  , 13.037763  ]]], dtype=float32)>"
      ]
     },
     "execution_count": 52,
     "metadata": {},
     "output_type": "execute_result"
    }
   ],
   "source": [
    "batch_size, num_samples, sample_rate = 10, 32000, 16000.0\n",
    "# A Tensor of [batch_size, num_samples] mono PCM samples in the range [-1, 1].\n",
    "pcm = tf.random.normal([batch_size, num_samples], dtype=tf.float32)\n",
    "tf.print(pcm.shape)\n",
    "tf.print(pcm[0])\n",
    "# A 1024-point STFT with frames of 64 ms and 75% overlap.\n",
    "stfts = tf.signal.stft(pcm, frame_length=1024, frame_step=256,\n",
    "                       fft_length=1024)\n",
    "spectrograms = tf.abs(stfts)\n",
    "spectrograms"
   ]
  }
 ],
 "metadata": {
  "kernelspec": {
   "display_name": "Python 3.6.10 64-bit ('usp': conda)",
   "language": "python",
   "name": "python361064bituspcondaf233c07dacaa48d4a7c6c927c83f455b"
  },
  "language_info": {
   "codemirror_mode": {
    "name": "ipython",
    "version": 3
   },
   "file_extension": ".py",
   "mimetype": "text/x-python",
   "name": "python",
   "nbconvert_exporter": "python",
   "pygments_lexer": "ipython3",
   "version": "3.6.10"
  },
  "toc": {
   "base_numbering": 1,
   "nav_menu": {},
   "number_sections": true,
   "sideBar": true,
   "skip_h1_title": false,
   "title_cell": "Table of Contents",
   "title_sidebar": "Contents",
   "toc_cell": false,
   "toc_position": {},
   "toc_section_display": true,
   "toc_window_display": false
  },
  "varInspector": {
   "cols": {
    "lenName": 16,
    "lenType": 16,
    "lenVar": 40
   },
   "kernels_config": {
    "python": {
     "delete_cmd_postfix": "",
     "delete_cmd_prefix": "del ",
     "library": "var_list.py",
     "varRefreshCmd": "print(var_dic_list())"
    },
    "r": {
     "delete_cmd_postfix": ") ",
     "delete_cmd_prefix": "rm(",
     "library": "var_list.r",
     "varRefreshCmd": "cat(var_dic_list()) "
    }
   },
   "types_to_exclude": [
    "module",
    "function",
    "builtin_function_or_method",
    "instance",
    "_Feature"
   ],
   "window_display": false
  }
 },
 "nbformat": 4,
 "nbformat_minor": 4
}
