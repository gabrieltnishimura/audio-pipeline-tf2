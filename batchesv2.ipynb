{
 "cells": [
  {
   "cell_type": "markdown",
   "metadata": {},
   "source": [
    "# Batches v2"
   ]
  },
  {
   "cell_type": "code",
   "execution_count": 50,
   "metadata": {
    "ExecuteTime": {
     "end_time": "2020-04-24T17:03:55.151666Z",
     "start_time": "2020-04-24T17:03:55.053494Z"
    }
   },
   "outputs": [
    {
     "name": "stdout",
     "output_type": "stream",
     "text": [
      "[[[0.000732421875]\n",
      "  [0.000823974609]\n",
      "  [0.00173950195]\n",
      "  ...\n",
      "  [0]\n",
      "  [0]\n",
      "  [0]]\n",
      "\n",
      " [[-0.00778198242]\n",
      "  [-0.00921630859]\n",
      "  [-0.00909423828]\n",
      "  ...\n",
      "  [-0.00262451172]\n",
      "  [-0.00671386719]\n",
      "  [-0.0113830566]]]\n"
     ]
    }
   ],
   "source": [
    "import tensorflow as tf\n",
    "\n",
    "def process_path(paths, labels):\n",
    "    features = []\n",
    "    # load waveforms in memory\n",
    "    for path in paths:\n",
    "        raw_audio = tf.io.read_file(path)\n",
    "        waveform, sr = tf.audio.decode_wav(raw_audio)\n",
    "        features.append(waveform)\n",
    "\n",
    "#     tf.print(features[0], len(features[0]), len(features[1]))\n",
    "    features = tf.keras.preprocessing.sequence.pad_sequences(features, dtype='float', padding='post', truncating='post')\n",
    "#     tf.print(features[0], len(features[0]), len(features[1]))\n",
    "#     tf.print(features)\n",
    "    return features, labels\n",
    "\n",
    "def tf_function_wrapper(features, labels):\n",
    "    return tf.py_function(func=process_path, inp=[features['filename'], labels], Tout=tf.float32), labels\n",
    "\n",
    "librivox_paths_ds = tf.data.experimental.make_csv_dataset(\n",
    "    \"librivox-test-clean-wav.csv\", batch_size=2,\n",
    "    shuffle=False, label_name=\"transcript\")\n",
    "\n",
    "librivox_ds = librivox_paths_ds.map(tf_function_wrapper)\n",
    "\n",
    "for feature_batch, labels in librivox_ds.take(1):\n",
    "    tf.print(feature_batch)\n",
    "\n",
    "    "
   ]
  },
  {
   "cell_type": "code",
   "execution_count": 51,
   "metadata": {
    "ExecuteTime": {
     "end_time": "2020-04-24T17:03:59.098072Z",
     "start_time": "2020-04-24T17:03:59.049584Z"
    }
   },
   "outputs": [
    {
     "name": "stdout",
     "output_type": "stream",
     "text": [
      "[[-0.00778198242]\n",
      " [-0.00921630859]\n",
      " [-0.00909423828]\n",
      " ...\n",
      " [-0.00262451172]\n",
      " [-0.00671386719]\n",
      " [-0.0113830566]]\n"
     ]
    },
    {
     "ename": "AttributeError",
     "evalue": "'tuple' object has no attribute 'numpy'",
     "output_type": "error",
     "traceback": [
      "\u001b[0;31m---------------------------------------------------------------------------\u001b[0m",
      "\u001b[0;31mAttributeError\u001b[0m                            Traceback (most recent call last)",
      "\u001b[0;32m<ipython-input-51-c98a19eaf9f6>\u001b[0m in \u001b[0;36m<module>\u001b[0;34m\u001b[0m\n\u001b[1;32m      1\u001b[0m \u001b[0;32mfor\u001b[0m \u001b[0mfeature_batch\u001b[0m \u001b[0;32min\u001b[0m \u001b[0mlibrivox_ds\u001b[0m\u001b[0;34m.\u001b[0m\u001b[0mtake\u001b[0m\u001b[0;34m(\u001b[0m\u001b[0;36m1\u001b[0m\u001b[0;34m)\u001b[0m\u001b[0;34m:\u001b[0m\u001b[0;34m\u001b[0m\u001b[0;34m\u001b[0m\u001b[0m\n\u001b[1;32m      2\u001b[0m     \u001b[0mtf\u001b[0m\u001b[0;34m.\u001b[0m\u001b[0mprint\u001b[0m\u001b[0;34m(\u001b[0m\u001b[0mfeature_batch\u001b[0m\u001b[0;34m[\u001b[0m\u001b[0;36m0\u001b[0m\u001b[0;34m]\u001b[0m\u001b[0;34m[\u001b[0m\u001b[0;36m1\u001b[0m\u001b[0;34m]\u001b[0m\u001b[0;34m)\u001b[0m\u001b[0;34m\u001b[0m\u001b[0;34m\u001b[0m\u001b[0m\n\u001b[0;32m----> 3\u001b[0;31m     \u001b[0;32mfor\u001b[0m \u001b[0mkey\u001b[0m\u001b[0;34m,\u001b[0m \u001b[0mvaleu\u001b[0m \u001b[0;32min\u001b[0m \u001b[0mfeature_batch\u001b[0m\u001b[0;34m.\u001b[0m\u001b[0mnumpy\u001b[0m\u001b[0;34m(\u001b[0m\u001b[0;34m)\u001b[0m\u001b[0;34m:\u001b[0m\u001b[0;34m\u001b[0m\u001b[0;34m\u001b[0m\u001b[0m\n\u001b[0m\u001b[1;32m      4\u001b[0m         \u001b[0mprint\u001b[0m\u001b[0;34m(\u001b[0m\u001b[0mkey\u001b[0m\u001b[0;34m)\u001b[0m\u001b[0;34m\u001b[0m\u001b[0;34m\u001b[0m\u001b[0m\n\u001b[1;32m      5\u001b[0m \u001b[0;31m#     for key, valeu in feature_batch.numpy():\u001b[0m\u001b[0;34m\u001b[0m\u001b[0;34m\u001b[0m\u001b[0;34m\u001b[0m\u001b[0m\n",
      "\u001b[0;31mAttributeError\u001b[0m: 'tuple' object has no attribute 'numpy'"
     ]
    }
   ],
   "source": [
    "for feature_batch in librivox_ds.take(1):\n",
    "    tf.print(feature_batch[0][1])\n",
    "    for key, valeu in feature_batch.numpy():\n",
    "        print(key)\n",
    "#     for key, valeu in feature_batch.numpy():\n",
    "#         print(value)"
   ]
  },
  {
   "cell_type": "code",
   "execution_count": null,
   "metadata": {},
   "outputs": [],
   "source": []
  },
  {
   "cell_type": "code",
   "execution_count": 91,
   "metadata": {
    "ExecuteTime": {
     "end_time": "2020-04-19T19:10:28.348205Z",
     "start_time": "2020-04-19T19:10:28.342538Z"
    }
   },
   "outputs": [
    {
     "data": {
      "text/plain": [
       "<tf.Tensor: shape=(2, 5), dtype=int32, numpy=\n",
       "array([[1, 2, 3, 0, 0],\n",
       "       [4, 5, 6, 0, 0]], dtype=int32)>"
      ]
     },
     "execution_count": 91,
     "metadata": {},
     "output_type": "execute_result"
    }
   ],
   "source": [
    "import tensorflow as tf\n",
    "t = tf.constant([[1, 2, 3], [4, 5, 6]])\n",
    "paddings = tf.constant([[0, 0], [0, 2]])\n",
    "# 'constant_values' is 0.\n",
    "# rank of 't' is 2.\n",
    "a = tf.pad(t, paddings, \"CONSTANT\")  # [[0, 0, 0, 0, 0, 0, 0],\n",
    "                                 #  [0, 0, 1, 2, 3, 0, 0],\n",
    "                                 #  [0, 0, 4, 5, 6, 0, 0],\n",
    "                                 #  [0, 0, 0, 0, 0, 0, 0]]\n",
    "a"
   ]
  },
  {
   "cell_type": "code",
   "execution_count": 54,
   "metadata": {
    "ExecuteTime": {
     "end_time": "2020-04-24T17:04:18.542412Z",
     "start_time": "2020-04-24T17:04:18.537632Z"
    }
   },
   "outputs": [
    {
     "data": {
      "text/plain": [
       "(array([ 0.00073242,  0.00082397,  0.0017395 , ..., -0.00631714,\n",
       "        -0.00570679, -0.00668335]),\n",
       " 16000)"
      ]
     },
     "execution_count": 54,
     "metadata": {},
     "output_type": "execute_result"
    }
   ],
   "source": [
    "from soundfile import read\n",
    "path = '/Users/gabriel.t.nishimura/projects/masters/ctc/data_dir/LibriSpeech/test-clean-new/61-70970-0000.wav'\n",
    "read(path)"
   ]
  },
  {
   "cell_type": "code",
   "execution_count": 70,
   "metadata": {
    "ExecuteTime": {
     "end_time": "2020-04-24T17:16:08.561287Z",
     "start_time": "2020-04-24T17:16:08.510550Z"
    }
   },
   "outputs": [
    {
     "data": {
      "text/plain": [
       "<tf.Tensor: shape=(1, 376, 80), dtype=float32, numpy=\n",
       "array([[[-3.6905033e+01,  2.3514066e+00,  3.6240559e+00, ...,\n",
       "         -1.0703679e-01,  1.9348332e-01,  4.8363358e-01],\n",
       "        [-3.6752304e+01,  2.2840919e+00,  3.9529059e+00, ...,\n",
       "         -1.2098748e-01,  3.1118006e-01,  5.0013596e-01],\n",
       "        [-3.7614742e+01,  2.1445134e+00,  3.5887289e+00, ...,\n",
       "         -1.1431646e-01,  4.0307066e-01,  2.9037148e-01],\n",
       "        ...,\n",
       "        [-1.7701191e+01, -1.3168314e+00,  2.0635312e+00, ...,\n",
       "         -2.7517197e-01, -2.6096088e-01, -2.0862819e-01],\n",
       "        [-1.9440060e+01, -6.5816146e-01,  1.6152061e+00, ...,\n",
       "          2.1513538e-02, -2.3255355e-03, -2.9484089e-02],\n",
       "        [-2.0488327e+01, -3.4209549e-01,  5.2042776e-01, ...,\n",
       "          9.0547338e-02,  9.2801861e-02,  3.1357277e-02]]], dtype=float32)>"
      ]
     },
     "execution_count": 70,
     "metadata": {},
     "output_type": "execute_result"
    }
   ],
   "source": [
    "import tensorflow as tf\n",
    "raw_audio = tf.io.read_file(path)\n",
    "waveform = tf.audio.decode_wav(raw_audio)\n",
    "transwav = tf.transpose(waveform[0])\n",
    "stfts = tf.signal.stft(transwav, frame_length=1024, frame_step=256, fft_length=1024)\n",
    "spectrograms = tf.abs(stfts)\n",
    "\n",
    "num_spectrogram_bins = stfts.shape[-1]\n",
    "lower_edge_hertz, upper_edge_hertz, num_mel_bins = 80.0, 7600.0, 80\n",
    "\n",
    "linear_to_mel_weight_matrix = tf.signal.linear_to_mel_weight_matrix(\n",
    "  num_mel_bins, num_spectrogram_bins, sample_rate, lower_edge_hertz,\n",
    "  upper_edge_hertz)\n",
    "\n",
    "mel_spectrograms = tf.tensordot(\n",
    "  spectrograms, linear_to_mel_weight_matrix, 1)\n",
    "\n",
    "mel_spectrograms.set_shape(spectrograms.shape[:-1].concatenate(\n",
    "  linear_to_mel_weight_matrix.shape[-1:]))\n",
    "\n",
    "# Compute a stabilized log to get log-magnitude mel-scale spectrograms.\n",
    "log_mel_spectrograms = tf.math.log(mel_spectrograms + 1e-6)\n",
    "\n",
    "# Compute MFCCs from log_mel_spectrograms and take the first 13.\n",
    "mfccs = tf.signal.mfccs_from_log_mel_spectrograms(log_mel_spectrograms)\n",
    "mfccs"
   ]
  },
  {
   "cell_type": "code",
   "execution_count": 78,
   "metadata": {
    "ExecuteTime": {
     "end_time": "2020-04-24T17:35:37.280646Z",
     "start_time": "2020-04-24T17:35:37.149560Z"
    }
   },
   "outputs": [
    {
     "name": "stdout",
     "output_type": "stream",
     "text": [
      "[[[0.000732421875]\n",
      "  [0.000823974609]\n",
      "  [0.00173950195]\n",
      "  ...\n",
      "  [0]\n",
      "  [0]\n",
      "  [0]]\n",
      "\n",
      " [[-0.00778198242]\n",
      "  [-0.00921630859]\n",
      "  [-0.00909423828]\n",
      "  ...\n",
      "  [-0.00262451172]\n",
      "  [-0.00671386719]\n",
      "  [-0.0113830566]]]\n"
     ]
    }
   ],
   "source": [
    "import tensorflow as tf\n",
    "\n",
    "def process_path(paths, labels):\n",
    "    features = []\n",
    "    # load waveforms in memory\n",
    "    for path in paths:\n",
    "        raw_audio = tf.io.read_file(path)\n",
    "        waveform, sr = tf.audio.decode_wav(raw_audio)\n",
    "        transwav = tf.transpose(waveform)\n",
    "        stfts = tf.signal.stft(transwav, frame_length=1024, frame_step=256, fft_length=1024)\n",
    "        spectrograms = tf.abs(stfts)\n",
    "\n",
    "        num_spectrogram_bins = stfts.shape[-1]\n",
    "        lower_edge_hertz, upper_edge_hertz, num_mel_bins = 80.0, 7600.0, 80\n",
    "\n",
    "        linear_to_mel_weight_matrix = tf.signal.linear_to_mel_weight_matrix(\n",
    "          num_mel_bins, num_spectrogram_bins, sample_rate, lower_edge_hertz,\n",
    "          upper_edge_hertz)\n",
    "\n",
    "        mel_spectrograms = tf.tensordot(\n",
    "          spectrograms, linear_to_mel_weight_matrix, 1)\n",
    "\n",
    "        mel_spectrograms.set_shape(spectrograms.shape[:-1].concatenate(\n",
    "          linear_to_mel_weight_matrix.shape[-1:]))\n",
    "\n",
    "        # Compute a stabilized log to get log-magnitude mel-scale spectrograms.\n",
    "        log_mel_spectrograms = tf.math.log(mel_spectrograms + 1e-6)\n",
    "\n",
    "        # Compute MFCCs from log_mel_spectrograms and take the first 13.\n",
    "        mfccs = tf.signal.mfccs_from_log_mel_spectrograms(log_mel_spectrograms)\n",
    "        mfccs\n",
    "        features.append(waveform)\n",
    "\n",
    "    features = tf.keras.preprocessing.sequence.pad_sequences(features, dtype='float', padding='post', truncating='post')\n",
    "    return features, labels\n",
    "\n",
    "def tf_function_wrapper(features, labels):\n",
    "    return tf.py_function(func=process_path, inp=[features['filename'], labels], Tout=tf.float32), labels\n",
    "\n",
    "librivox_paths_ds = tf.data.experimental.make_csv_dataset(\n",
    "    \"librivox-test-clean-wav.csv\", batch_size=4,\n",
    "    shuffle=False, label_name=\"transcript\")\n",
    "\n",
    "librivox_ds = librivox_paths_ds.map(tf_function_wrapper)\n",
    "\n",
    "for feature_batch, labels in librivox_ds.take(1):\n",
    "    tf.print(feature_batch)\n",
    "\n",
    "    "
   ]
  }
 ],
 "metadata": {
  "kernelspec": {
   "display_name": "Python 3",
   "language": "python",
   "name": "python3"
  },
  "language_info": {
   "codemirror_mode": {
    "name": "ipython",
    "version": 3
   },
   "file_extension": ".py",
   "mimetype": "text/x-python",
   "name": "python",
   "nbconvert_exporter": "python",
   "pygments_lexer": "ipython3",
   "version": "3.6.10"
  },
  "toc": {
   "base_numbering": 1,
   "nav_menu": {},
   "number_sections": true,
   "sideBar": true,
   "skip_h1_title": false,
   "title_cell": "Table of Contents",
   "title_sidebar": "Contents",
   "toc_cell": false,
   "toc_position": {
    "height": "calc(100% - 180px)",
    "left": "10px",
    "top": "150px",
    "width": "165px"
   },
   "toc_section_display": true,
   "toc_window_display": true
  },
  "varInspector": {
   "cols": {
    "lenName": 16,
    "lenType": 16,
    "lenVar": 40
   },
   "kernels_config": {
    "python": {
     "delete_cmd_postfix": "",
     "delete_cmd_prefix": "del ",
     "library": "var_list.py",
     "varRefreshCmd": "print(var_dic_list())"
    },
    "r": {
     "delete_cmd_postfix": ") ",
     "delete_cmd_prefix": "rm(",
     "library": "var_list.r",
     "varRefreshCmd": "cat(var_dic_list()) "
    }
   },
   "oldHeight": 203,
   "position": {
    "height": "205px",
    "left": "1152px",
    "right": "20px",
    "top": "41px",
    "width": "528px"
   },
   "types_to_exclude": [
    "module",
    "function",
    "builtin_function_or_method",
    "instance",
    "_Feature"
   ],
   "varInspector_section_display": "block",
   "window_display": true
  }
 },
 "nbformat": 4,
 "nbformat_minor": 4
}
