{
 "cells": [
  {
   "cell_type": "markdown",
   "metadata": {},
   "source": [
    "# Batches v2"
   ]
  },
  {
   "cell_type": "code",
   "execution_count": 90,
   "metadata": {
    "ExecuteTime": {
     "end_time": "2020-04-19T19:06:07.354037Z",
     "start_time": "2020-04-19T19:06:07.280019Z"
    }
   },
   "outputs": [
    {
     "name": "stdout",
     "output_type": "stream",
     "text": [
      "[[-0.00778198242]\n",
      " [-0.00921630859]\n",
      " [-0.00909423828]\n",
      " ...\n",
      " [-0.00262451172]\n",
      " [-0.00671386719]\n",
      " [-0.0113830566]] 97200 98480\n",
      "array([[-0.00778198],\n",
      "       [-0.00921631],\n",
      "       [-0.00909424],\n",
      "       ...,\n",
      "       [-0.00262451],\n",
      "       [-0.00671387],\n",
      "       [-0.01138306]]) 98480 98480\n",
      "[[0]\n",
      " [0]\n",
      " [0]\n",
      " ...\n",
      " [0]\n",
      " [0]\n",
      " [0]]\n"
     ]
    }
   ],
   "source": [
    "import tensorflow as tf\n",
    "\n",
    "def process_path(paths, labels):\n",
    "    features = []\n",
    "    # load waveforms in memory\n",
    "    for path in paths:\n",
    "        raw_audio = tf.io.read_file(path)\n",
    "        waveform, sr = tf.audio.decode_wav(raw_audio)\n",
    "        features.append(waveform)\n",
    "\n",
    "    tf.print(features[1], len(features[0]), len(features[1]))\n",
    "    features = tf.keras.preprocessing.sequence.pad_sequences(features, dtype='float', padding='post', truncating='post')\n",
    "    tf.print(features[1], len(features[0]), len(features[1]))\n",
    "    return features, labels\n",
    "\n",
    "def tf_function_wrapper(features, labels):\n",
    "    return tf.py_function(func=process_path, inp=[features['filename'], labels], Tout=tf.int32), labels\n",
    "\n",
    "librivox_paths_ds = tf.data.experimental.make_csv_dataset(\n",
    "    \"librivox-test-clean-wav.csv\", batch_size=4,\n",
    "    shuffle=False, label_name=\"transcript\")\n",
    "\n",
    "librivox_ds = librivox_paths_ds.map(tf_function_wrapper)\n",
    "\n",
    "for feature_batch, labels in librivox_ds.take(1):\n",
    "    tf.print(feature_batch[0])\n",
    "\n",
    "    "
   ]
  },
  {
   "cell_type": "code",
   "execution_count": 51,
   "metadata": {
    "ExecuteTime": {
     "end_time": "2020-04-19T19:00:59.187259Z",
     "start_time": "2020-04-19T19:00:59.130394Z"
    }
   },
   "outputs": [
    {
     "name": "stdout",
     "output_type": "stream",
     "text": [
      "[[-0.00106811523]\n",
      " [-0.000671386719]\n",
      " [-0.000823974609]\n",
      " ...\n",
      " [-0.00183105469]\n",
      " [-0.00204467773]\n",
      " [-0.00119018555]]\n",
      "[[-0.00100708008]\n",
      " [-0.00103759766]\n",
      " [-0.00103759766]\n",
      " ...\n",
      " [-0.00149536133]\n",
      " [-0.00140380859]\n",
      " [-0.00134277344]]\n",
      "[[0.0022277832]\n",
      " [0.00152587891]\n",
      " [0.000732421875]\n",
      " ...\n",
      " [0.000152587891]\n",
      " [-0.000396728516]\n",
      " [0.00180053711]]\n",
      "[[-0.000823974609]\n",
      " [-0.000885009766]\n",
      " [-0.000854492188]\n",
      " ...\n",
      " [-0.000366210938]\n",
      " [-0.000457763672]\n",
      " [-0.000549316406]]\n",
      "tf.Tensor(\n",
      "[[[0]\n",
      "  [0]\n",
      "  [0]\n",
      "  ...\n",
      "  [0]\n",
      "  [0]\n",
      "  [0]]\n",
      "\n",
      " [[0]\n",
      "  [0]\n",
      "  [0]\n",
      "  ...\n",
      "  [0]\n",
      "  [0]\n",
      "  [0]]\n",
      "\n",
      " [[0]\n",
      "  [0]\n",
      "  [0]\n",
      "  ...\n",
      "  [0]\n",
      "  [0]\n",
      "  [0]]\n",
      "\n",
      " [[0]\n",
      "  [0]\n",
      "  [0]\n",
      "  ...\n",
      "  [0]\n",
      "  [0]\n",
      "  [0]]], shape=(4, 213920, 1), dtype=int32)\n",
      "[[0]\n",
      " [0]\n",
      " [0]\n",
      " ...\n",
      " [0]\n",
      " [0]\n",
      " [0]]\n",
      "[[0]\n",
      " [0]\n",
      " [0]\n",
      " ...\n",
      " [0]\n",
      " [0]\n",
      " [0]]\n",
      "[[0]\n",
      " [0]\n",
      " [0]\n",
      " ...\n",
      " [0]\n",
      " [0]\n",
      " [0]]\n",
      "[[0]\n",
      " [0]\n",
      " [0]\n",
      " ...\n",
      " [0]\n",
      " [0]\n",
      " [0]]\n"
     ]
    }
   ],
   "source": [
    "for feature_batch in librivox_ds.take(1):\n",
    "    print(feature_batch)\n",
    "    for key in feature_batch.numpy():\n",
    "        print(key)"
   ]
  },
  {
   "cell_type": "code",
   "execution_count": 91,
   "metadata": {
    "ExecuteTime": {
     "end_time": "2020-04-19T19:10:28.348205Z",
     "start_time": "2020-04-19T19:10:28.342538Z"
    }
   },
   "outputs": [
    {
     "data": {
      "text/plain": [
       "<tf.Tensor: shape=(2, 5), dtype=int32, numpy=\n",
       "array([[1, 2, 3, 0, 0],\n",
       "       [4, 5, 6, 0, 0]], dtype=int32)>"
      ]
     },
     "execution_count": 91,
     "metadata": {},
     "output_type": "execute_result"
    }
   ],
   "source": [
    "import tensorflow as tf\n",
    "t = tf.constant([[1, 2, 3], [4, 5, 6]])\n",
    "paddings = tf.constant([[0, 0], [0, 2]])\n",
    "# 'constant_values' is 0.\n",
    "# rank of 't' is 2.\n",
    "a = tf.pad(t, paddings, \"CONSTANT\")  # [[0, 0, 0, 0, 0, 0, 0],\n",
    "                                 #  [0, 0, 1, 2, 3, 0, 0],\n",
    "                                 #  [0, 0, 4, 5, 6, 0, 0],\n",
    "                                 #  [0, 0, 0, 0, 0, 0, 0]]\n",
    "a"
   ]
  },
  {
   "cell_type": "code",
   "execution_count": 94,
   "metadata": {
    "ExecuteTime": {
     "end_time": "2020-04-19T19:11:27.764637Z",
     "start_time": "2020-04-19T19:11:27.759648Z"
    }
   },
   "outputs": [
    {
     "data": {
      "text/plain": [
       "(array([ 0.00073242,  0.00082397,  0.0017395 , ..., -0.00631714,\n",
       "        -0.00570679, -0.00668335]),\n",
       " 16000)"
      ]
     },
     "execution_count": 94,
     "metadata": {},
     "output_type": "execute_result"
    }
   ],
   "source": [
    "from soundfile import read\n",
    "path = '/Users/gabriel.t.nishimura/projects/masters/ctc/data_dir/LibriSpeech/test-clean-new/61-70970-0000.wav'\n",
    "read(path)"
   ]
  },
  {
   "cell_type": "code",
   "execution_count": 102,
   "metadata": {
    "ExecuteTime": {
     "end_time": "2020-04-19T19:25:21.511801Z",
     "start_time": "2020-04-19T19:25:21.452429Z"
    }
   },
   "outputs": [
    {
     "data": {
      "text/plain": [
       "<tf.Tensor: shape=(1, 376, 513), dtype=complex64, numpy=\n",
       "array([[[-6.1453873e-01+0.0000000e+00j,  3.9627367e-01-2.5253747e-02j,\n",
       "         -1.2849604e-01-9.8455995e-02j, ...,\n",
       "          6.5933913e-04-5.0569773e-03j,  3.5126954e-03+3.7779622e-03j,\n",
       "         -5.3518414e-03+0.0000000e+00j],\n",
       "        [-6.2469614e-01+0.0000000e+00j,  2.0468718e-01+4.9309013e-03j,\n",
       "          6.7919180e-02-1.4873762e-01j, ...,\n",
       "         -1.1299253e-03+6.2555000e-03j,  3.6285445e-03-3.7918477e-03j,\n",
       "         -5.4290295e-03+0.0000000e+00j],\n",
       "        [-7.4047655e-01+0.0000000e+00j,  4.1499108e-01-1.4053226e-01j,\n",
       "         -1.8156120e-01+1.0911730e-01j, ...,\n",
       "         -3.7077069e-04-3.1395219e-03j, -1.3211370e-04+5.2835792e-04j,\n",
       "         -2.2668242e-03+0.0000000e+00j],\n",
       "        ...,\n",
       "        [-1.7547101e+00+0.0000000e+00j,  1.0129362e+00-2.3802727e-02j,\n",
       "         -4.9253292e-02-2.9792801e-01j, ...,\n",
       "          4.9935952e-03+2.9322207e-03j, -1.4759898e-03-1.3403771e-03j,\n",
       "          1.4561415e-03+0.0000000e+00j],\n",
       "        [-1.6246153e+00+0.0000000e+00j,  9.9747348e-01+1.3758636e-01j,\n",
       "         -1.3231304e-01+2.3524770e-01j, ...,\n",
       "         -2.0402148e-03-1.1836812e-03j,  9.3188882e-04+1.5605316e-03j,\n",
       "          1.0162592e-03+0.0000000e+00j],\n",
       "        [-7.5774664e-01+0.0000000e+00j,  4.1636485e-01+6.8813717e-01j,\n",
       "          1.6837084e-01-4.2650589e-01j, ...,\n",
       "          4.0697083e-03+2.3013353e-03j, -1.1251569e-03+1.3544559e-03j,\n",
       "         -1.8548369e-03+0.0000000e+00j]]], dtype=complex64)>"
      ]
     },
     "execution_count": 102,
     "metadata": {},
     "output_type": "execute_result"
    }
   ],
   "source": [
    "import tensorflow as tf\n",
    "raw_audio = tf.io.read_file(path)\n",
    "waveform = tf.audio.decode_wav(raw_audio)\n",
    "transwav = tf.transpose(waveform[0])\n",
    "stfts = tf.signal.stft(transwav, frame_length=1024, frame_step=256, fft_length=1024)\n",
    "stfts"
   ]
  },
  {
   "cell_type": "code",
   "execution_count": 15,
   "metadata": {},
   "outputs": [
    {
     "name": "stdout",
     "output_type": "stream",
     "text": [
      "[ 0.          0.00039673 -0.00018311 ...  0.00167847  0.00222778\n",
      "  0.00228882]\n",
      "tf.Tensor(\n",
      "[[ 0.          0.00039673 -0.00018311 ...  0.          0.\n",
      "   0.        ]], shape=(1, 224560), dtype=float32)\n",
      "4\n"
     ]
    },
    {
     "ename": "UnknownError",
     "evalue": "InvalidArgumentError: Shapes of all inputs must match: values[0].shape = [41760] != values[1].shape = [47920] [Op:Pack] name: packed\nTraceback (most recent call last):\n\n  File \"/Users/gabriel.t.nishimura/miniconda3/envs/usp/lib/python3.6/site-packages/tensorflow_core/python/ops/script_ops.py\", line 234, in __call__\n    return func(device, token, args)\n\n  File \"/Users/gabriel.t.nishimura/miniconda3/envs/usp/lib/python3.6/site-packages/tensorflow_core/python/ops/script_ops.py\", line 123, in __call__\n    ret = self._func(*args)\n\n  File \"<ipython-input-15-747ac09c10a5>\", line 40, in inner_test\n    padded = tf.pad(new_features, paddings, \"CONSTANT\")\n\n  File \"/Users/gabriel.t.nishimura/miniconda3/envs/usp/lib/python3.6/site-packages/tensorflow_core/python/ops/array_ops.py\", line 2873, in pad_v2\n    return pad(tensor, paddings, mode, name, constant_values)\n\n  File \"/Users/gabriel.t.nishimura/miniconda3/envs/usp/lib/python3.6/site-packages/tensorflow_core/python/ops/array_ops.py\", line 2939, in pad\n    result = gen_array_ops.pad(tensor, paddings, name=name)\n\n  File \"/Users/gabriel.t.nishimura/miniconda3/envs/usp/lib/python3.6/site-packages/tensorflow_core/python/ops/gen_array_ops.py\", line 5784, in pad\n    input, paddings, name=name, ctx=_ctx)\n\n  File \"/Users/gabriel.t.nishimura/miniconda3/envs/usp/lib/python3.6/site-packages/tensorflow_core/python/ops/gen_array_ops.py\", line 5806, in pad_eager_fallback\n    _attr_T, (input,) = _execute.args_to_matching_eager([input], ctx)\n\n  File \"/Users/gabriel.t.nishimura/miniconda3/envs/usp/lib/python3.6/site-packages/tensorflow_core/python/eager/execute.py\", line 263, in args_to_matching_eager\n    t, dtype, preferred_dtype=default_dtype, ctx=ctx))\n\n  File \"/Users/gabriel.t.nishimura/miniconda3/envs/usp/lib/python3.6/site-packages/tensorflow_core/python/framework/ops.py\", line 1314, in convert_to_tensor\n    ret = conversion_func(value, dtype=dtype, name=name, as_ref=as_ref)\n\n  File \"/Users/gabriel.t.nishimura/miniconda3/envs/usp/lib/python3.6/site-packages/tensorflow_core/python/ops/array_ops.py\", line 1368, in _autopacking_conversion_function\n    return _autopacking_helper(v, dtype, name or \"packed\")\n\n  File \"/Users/gabriel.t.nishimura/miniconda3/envs/usp/lib/python3.6/site-packages/tensorflow_core/python/ops/array_ops.py\", line 1274, in _autopacking_helper\n    return gen_array_ops.pack(list_or_tuple, name=name)\n\n  File \"/Users/gabriel.t.nishimura/miniconda3/envs/usp/lib/python3.6/site-packages/tensorflow_core/python/ops/gen_array_ops.py\", line 5693, in pack\n    _ops.raise_from_not_ok_status(e, name)\n\n  File \"/Users/gabriel.t.nishimura/miniconda3/envs/usp/lib/python3.6/site-packages/tensorflow_core/python/framework/ops.py\", line 6606, in raise_from_not_ok_status\n    six.raise_from(core._status_to_exception(e.code, message), None)\n\n  File \"<string>\", line 3, in raise_from\n\ntensorflow.python.framework.errors_impl.InvalidArgumentError: Shapes of all inputs must match: values[0].shape = [41760] != values[1].shape = [47920] [Op:Pack] name: packed\n\n\n\t [[{{node EagerPyFunc}}]]",
     "output_type": "error",
     "traceback": [
      "\u001b[0;31m---------------------------------------------------------------------------\u001b[0m",
      "\u001b[0;31mUnknownError\u001b[0m                              Traceback (most recent call last)",
      "\u001b[0;32m~/miniconda3/envs/usp/lib/python3.6/site-packages/tensorflow_core/python/eager/context.py\u001b[0m in \u001b[0;36mexecution_mode\u001b[0;34m(mode)\u001b[0m\n\u001b[1;32m   1896\u001b[0m     \u001b[0mctx\u001b[0m\u001b[0;34m.\u001b[0m\u001b[0mexecutor\u001b[0m \u001b[0;34m=\u001b[0m \u001b[0mexecutor_new\u001b[0m\u001b[0;34m\u001b[0m\u001b[0;34m\u001b[0m\u001b[0m\n\u001b[0;32m-> 1897\u001b[0;31m     \u001b[0;32myield\u001b[0m\u001b[0;34m\u001b[0m\u001b[0;34m\u001b[0m\u001b[0m\n\u001b[0m\u001b[1;32m   1898\u001b[0m   \u001b[0;32mfinally\u001b[0m\u001b[0;34m:\u001b[0m\u001b[0;34m\u001b[0m\u001b[0;34m\u001b[0m\u001b[0m\n",
      "\u001b[0;32m~/miniconda3/envs/usp/lib/python3.6/site-packages/tensorflow_core/python/data/ops/iterator_ops.py\u001b[0m in \u001b[0;36m_next_internal\u001b[0;34m(self)\u001b[0m\n\u001b[1;32m    658\u001b[0m             \u001b[0moutput_types\u001b[0m\u001b[0;34m=\u001b[0m\u001b[0mself\u001b[0m\u001b[0;34m.\u001b[0m\u001b[0m_flat_output_types\u001b[0m\u001b[0;34m,\u001b[0m\u001b[0;34m\u001b[0m\u001b[0;34m\u001b[0m\u001b[0m\n\u001b[0;32m--> 659\u001b[0;31m             output_shapes=self._flat_output_shapes)\n\u001b[0m\u001b[1;32m    660\u001b[0m \u001b[0;34m\u001b[0m\u001b[0m\n",
      "\u001b[0;32m~/miniconda3/envs/usp/lib/python3.6/site-packages/tensorflow_core/python/ops/gen_dataset_ops.py\u001b[0m in \u001b[0;36miterator_get_next_sync\u001b[0;34m(iterator, output_types, output_shapes, name)\u001b[0m\n\u001b[1;32m   2478\u001b[0m     \u001b[0;32mexcept\u001b[0m \u001b[0m_core\u001b[0m\u001b[0;34m.\u001b[0m\u001b[0m_NotOkStatusException\u001b[0m \u001b[0;32mas\u001b[0m \u001b[0me\u001b[0m\u001b[0;34m:\u001b[0m\u001b[0;34m\u001b[0m\u001b[0;34m\u001b[0m\u001b[0m\n\u001b[0;32m-> 2479\u001b[0;31m       \u001b[0m_ops\u001b[0m\u001b[0;34m.\u001b[0m\u001b[0mraise_from_not_ok_status\u001b[0m\u001b[0;34m(\u001b[0m\u001b[0me\u001b[0m\u001b[0;34m,\u001b[0m \u001b[0mname\u001b[0m\u001b[0;34m)\u001b[0m\u001b[0;34m\u001b[0m\u001b[0;34m\u001b[0m\u001b[0m\n\u001b[0m\u001b[1;32m   2480\u001b[0m   \u001b[0;31m# Add nodes to the TensorFlow graph.\u001b[0m\u001b[0;34m\u001b[0m\u001b[0;34m\u001b[0m\u001b[0;34m\u001b[0m\u001b[0m\n",
      "\u001b[0;32m~/miniconda3/envs/usp/lib/python3.6/site-packages/tensorflow_core/python/framework/ops.py\u001b[0m in \u001b[0;36mraise_from_not_ok_status\u001b[0;34m(e, name)\u001b[0m\n\u001b[1;32m   6605\u001b[0m   \u001b[0;31m# pylint: disable=protected-access\u001b[0m\u001b[0;34m\u001b[0m\u001b[0;34m\u001b[0m\u001b[0;34m\u001b[0m\u001b[0m\n\u001b[0;32m-> 6606\u001b[0;31m   \u001b[0msix\u001b[0m\u001b[0;34m.\u001b[0m\u001b[0mraise_from\u001b[0m\u001b[0;34m(\u001b[0m\u001b[0mcore\u001b[0m\u001b[0;34m.\u001b[0m\u001b[0m_status_to_exception\u001b[0m\u001b[0;34m(\u001b[0m\u001b[0me\u001b[0m\u001b[0;34m.\u001b[0m\u001b[0mcode\u001b[0m\u001b[0;34m,\u001b[0m \u001b[0mmessage\u001b[0m\u001b[0;34m)\u001b[0m\u001b[0;34m,\u001b[0m \u001b[0;32mNone\u001b[0m\u001b[0;34m)\u001b[0m\u001b[0;34m\u001b[0m\u001b[0;34m\u001b[0m\u001b[0m\n\u001b[0m\u001b[1;32m   6607\u001b[0m   \u001b[0;31m# pylint: enable=protected-access\u001b[0m\u001b[0;34m\u001b[0m\u001b[0;34m\u001b[0m\u001b[0;34m\u001b[0m\u001b[0m\n",
      "\u001b[0;32m~/miniconda3/envs/usp/lib/python3.6/site-packages/six.py\u001b[0m in \u001b[0;36mraise_from\u001b[0;34m(value, from_value)\u001b[0m\n",
      "\u001b[0;31mUnknownError\u001b[0m: InvalidArgumentError: Shapes of all inputs must match: values[0].shape = [41760] != values[1].shape = [47920] [Op:Pack] name: packed\nTraceback (most recent call last):\n\n  File \"/Users/gabriel.t.nishimura/miniconda3/envs/usp/lib/python3.6/site-packages/tensorflow_core/python/ops/script_ops.py\", line 234, in __call__\n    return func(device, token, args)\n\n  File \"/Users/gabriel.t.nishimura/miniconda3/envs/usp/lib/python3.6/site-packages/tensorflow_core/python/ops/script_ops.py\", line 123, in __call__\n    ret = self._func(*args)\n\n  File \"<ipython-input-15-747ac09c10a5>\", line 40, in inner_test\n    padded = tf.pad(new_features, paddings, \"CONSTANT\")\n\n  File \"/Users/gabriel.t.nishimura/miniconda3/envs/usp/lib/python3.6/site-packages/tensorflow_core/python/ops/array_ops.py\", line 2873, in pad_v2\n    return pad(tensor, paddings, mode, name, constant_values)\n\n  File \"/Users/gabriel.t.nishimura/miniconda3/envs/usp/lib/python3.6/site-packages/tensorflow_core/python/ops/array_ops.py\", line 2939, in pad\n    result = gen_array_ops.pad(tensor, paddings, name=name)\n\n  File \"/Users/gabriel.t.nishimura/miniconda3/envs/usp/lib/python3.6/site-packages/tensorflow_core/python/ops/gen_array_ops.py\", line 5784, in pad\n    input, paddings, name=name, ctx=_ctx)\n\n  File \"/Users/gabriel.t.nishimura/miniconda3/envs/usp/lib/python3.6/site-packages/tensorflow_core/python/ops/gen_array_ops.py\", line 5806, in pad_eager_fallback\n    _attr_T, (input,) = _execute.args_to_matching_eager([input], ctx)\n\n  File \"/Users/gabriel.t.nishimura/miniconda3/envs/usp/lib/python3.6/site-packages/tensorflow_core/python/eager/execute.py\", line 263, in args_to_matching_eager\n    t, dtype, preferred_dtype=default_dtype, ctx=ctx))\n\n  File \"/Users/gabriel.t.nishimura/miniconda3/envs/usp/lib/python3.6/site-packages/tensorflow_core/python/framework/ops.py\", line 1314, in convert_to_tensor\n    ret = conversion_func(value, dtype=dtype, name=name, as_ref=as_ref)\n\n  File \"/Users/gabriel.t.nishimura/miniconda3/envs/usp/lib/python3.6/site-packages/tensorflow_core/python/ops/array_ops.py\", line 1368, in _autopacking_conversion_function\n    return _autopacking_helper(v, dtype, name or \"packed\")\n\n  File \"/Users/gabriel.t.nishimura/miniconda3/envs/usp/lib/python3.6/site-packages/tensorflow_core/python/ops/array_ops.py\", line 1274, in _autopacking_helper\n    return gen_array_ops.pack(list_or_tuple, name=name)\n\n  File \"/Users/gabriel.t.nishimura/miniconda3/envs/usp/lib/python3.6/site-packages/tensorflow_core/python/ops/gen_array_ops.py\", line 5693, in pack\n    _ops.raise_from_not_ok_status(e, name)\n\n  File \"/Users/gabriel.t.nishimura/miniconda3/envs/usp/lib/python3.6/site-packages/tensorflow_core/python/framework/ops.py\", line 6606, in raise_from_not_ok_status\n    six.raise_from(core._status_to_exception(e.code, message), None)\n\n  File \"<string>\", line 3, in raise_from\n\ntensorflow.python.framework.errors_impl.InvalidArgumentError: Shapes of all inputs must match: values[0].shape = [41760] != values[1].shape = [47920] [Op:Pack] name: packed\n\n\n\t [[{{node EagerPyFunc}}]] [Op:IteratorGetNextSync]",
      "\nDuring handling of the above exception, another exception occurred:\n",
      "\u001b[0;31mUnknownError\u001b[0m                              Traceback (most recent call last)",
      "\u001b[0;32m<ipython-input-15-747ac09c10a5>\u001b[0m in \u001b[0;36m<module>\u001b[0;34m\u001b[0m\n\u001b[1;32m     47\u001b[0m     \u001b[0;32mreturn\u001b[0m \u001b[0mtf\u001b[0m\u001b[0;34m.\u001b[0m\u001b[0mpy_function\u001b[0m\u001b[0;34m(\u001b[0m\u001b[0mfunc\u001b[0m\u001b[0;34m=\u001b[0m\u001b[0minner_test\u001b[0m\u001b[0;34m,\u001b[0m \u001b[0minp\u001b[0m\u001b[0;34m=\u001b[0m\u001b[0;34m[\u001b[0m\u001b[0mfeatures\u001b[0m\u001b[0;34m[\u001b[0m\u001b[0;34m'filename'\u001b[0m\u001b[0;34m]\u001b[0m\u001b[0;34m,\u001b[0m \u001b[0mlabels\u001b[0m\u001b[0;34m]\u001b[0m\u001b[0;34m,\u001b[0m \u001b[0mTout\u001b[0m\u001b[0;34m=\u001b[0m\u001b[0mtf\u001b[0m\u001b[0;34m.\u001b[0m\u001b[0mfloat32\u001b[0m\u001b[0;34m)\u001b[0m\u001b[0;34m,\u001b[0m \u001b[0mlabels\u001b[0m\u001b[0;34m\u001b[0m\u001b[0;34m\u001b[0m\u001b[0m\n\u001b[1;32m     48\u001b[0m \u001b[0;34m\u001b[0m\u001b[0m\n\u001b[0;32m---> 49\u001b[0;31m \u001b[0;32mfor\u001b[0m \u001b[0mfeature_batch\u001b[0m\u001b[0;34m,\u001b[0m \u001b[0mlabel_batch\u001b[0m \u001b[0;32min\u001b[0m \u001b[0mlibrivox_ds\u001b[0m\u001b[0;34m.\u001b[0m\u001b[0mmap\u001b[0m\u001b[0;34m(\u001b[0m\u001b[0mtest\u001b[0m\u001b[0;34m)\u001b[0m\u001b[0;34m.\u001b[0m\u001b[0mtake\u001b[0m\u001b[0;34m(\u001b[0m\u001b[0;36m1\u001b[0m\u001b[0;34m)\u001b[0m\u001b[0;34m:\u001b[0m\u001b[0;34m\u001b[0m\u001b[0;34m\u001b[0m\u001b[0m\n\u001b[0m\u001b[1;32m     50\u001b[0m     \u001b[0;32mfor\u001b[0m \u001b[0mkey\u001b[0m \u001b[0;32min\u001b[0m \u001b[0mfeature_batch\u001b[0m\u001b[0;34m.\u001b[0m\u001b[0mnumpy\u001b[0m\u001b[0;34m(\u001b[0m\u001b[0;34m)\u001b[0m\u001b[0;34m:\u001b[0m\u001b[0;34m\u001b[0m\u001b[0;34m\u001b[0m\u001b[0m\n\u001b[1;32m     51\u001b[0m         \u001b[0mprint\u001b[0m\u001b[0;34m(\u001b[0m\u001b[0mkey\u001b[0m\u001b[0;34m)\u001b[0m\u001b[0;34m\u001b[0m\u001b[0;34m\u001b[0m\u001b[0m\n",
      "\u001b[0;32m~/miniconda3/envs/usp/lib/python3.6/site-packages/tensorflow_core/python/data/ops/iterator_ops.py\u001b[0m in \u001b[0;36m__next__\u001b[0;34m(self)\u001b[0m\n\u001b[1;32m    628\u001b[0m \u001b[0;34m\u001b[0m\u001b[0m\n\u001b[1;32m    629\u001b[0m   \u001b[0;32mdef\u001b[0m \u001b[0m__next__\u001b[0m\u001b[0;34m(\u001b[0m\u001b[0mself\u001b[0m\u001b[0;34m)\u001b[0m\u001b[0;34m:\u001b[0m  \u001b[0;31m# For Python 3 compatibility\u001b[0m\u001b[0;34m\u001b[0m\u001b[0;34m\u001b[0m\u001b[0m\n\u001b[0;32m--> 630\u001b[0;31m     \u001b[0;32mreturn\u001b[0m \u001b[0mself\u001b[0m\u001b[0;34m.\u001b[0m\u001b[0mnext\u001b[0m\u001b[0;34m(\u001b[0m\u001b[0;34m)\u001b[0m\u001b[0;34m\u001b[0m\u001b[0;34m\u001b[0m\u001b[0m\n\u001b[0m\u001b[1;32m    631\u001b[0m \u001b[0;34m\u001b[0m\u001b[0m\n\u001b[1;32m    632\u001b[0m   \u001b[0;32mdef\u001b[0m \u001b[0m_next_internal\u001b[0m\u001b[0;34m(\u001b[0m\u001b[0mself\u001b[0m\u001b[0;34m)\u001b[0m\u001b[0;34m:\u001b[0m\u001b[0;34m\u001b[0m\u001b[0;34m\u001b[0m\u001b[0m\n",
      "\u001b[0;32m~/miniconda3/envs/usp/lib/python3.6/site-packages/tensorflow_core/python/data/ops/iterator_ops.py\u001b[0m in \u001b[0;36mnext\u001b[0;34m(self)\u001b[0m\n\u001b[1;32m    672\u001b[0m     \u001b[0;34m\"\"\"Returns a nested structure of `Tensor`s containing the next element.\"\"\"\u001b[0m\u001b[0;34m\u001b[0m\u001b[0;34m\u001b[0m\u001b[0m\n\u001b[1;32m    673\u001b[0m     \u001b[0;32mtry\u001b[0m\u001b[0;34m:\u001b[0m\u001b[0;34m\u001b[0m\u001b[0;34m\u001b[0m\u001b[0m\n\u001b[0;32m--> 674\u001b[0;31m       \u001b[0;32mreturn\u001b[0m \u001b[0mself\u001b[0m\u001b[0;34m.\u001b[0m\u001b[0m_next_internal\u001b[0m\u001b[0;34m(\u001b[0m\u001b[0;34m)\u001b[0m\u001b[0;34m\u001b[0m\u001b[0;34m\u001b[0m\u001b[0m\n\u001b[0m\u001b[1;32m    675\u001b[0m     \u001b[0;32mexcept\u001b[0m \u001b[0merrors\u001b[0m\u001b[0;34m.\u001b[0m\u001b[0mOutOfRangeError\u001b[0m\u001b[0;34m:\u001b[0m\u001b[0;34m\u001b[0m\u001b[0;34m\u001b[0m\u001b[0m\n\u001b[1;32m    676\u001b[0m       \u001b[0;32mraise\u001b[0m \u001b[0mStopIteration\u001b[0m\u001b[0;34m\u001b[0m\u001b[0;34m\u001b[0m\u001b[0m\n",
      "\u001b[0;32m~/miniconda3/envs/usp/lib/python3.6/site-packages/tensorflow_core/python/data/ops/iterator_ops.py\u001b[0m in \u001b[0;36m_next_internal\u001b[0;34m(self)\u001b[0m\n\u001b[1;32m    663\u001b[0m         \u001b[0;32mreturn\u001b[0m \u001b[0mself\u001b[0m\u001b[0;34m.\u001b[0m\u001b[0m_element_spec\u001b[0m\u001b[0;34m.\u001b[0m\u001b[0m_from_compatible_tensor_list\u001b[0m\u001b[0;34m(\u001b[0m\u001b[0mret\u001b[0m\u001b[0;34m)\u001b[0m  \u001b[0;31m# pylint: disable=protected-access\u001b[0m\u001b[0;34m\u001b[0m\u001b[0;34m\u001b[0m\u001b[0m\n\u001b[1;32m    664\u001b[0m       \u001b[0;32mexcept\u001b[0m \u001b[0mAttributeError\u001b[0m\u001b[0;34m:\u001b[0m\u001b[0;34m\u001b[0m\u001b[0;34m\u001b[0m\u001b[0m\n\u001b[0;32m--> 665\u001b[0;31m         \u001b[0;32mreturn\u001b[0m \u001b[0mstructure\u001b[0m\u001b[0;34m.\u001b[0m\u001b[0mfrom_compatible_tensor_list\u001b[0m\u001b[0;34m(\u001b[0m\u001b[0mself\u001b[0m\u001b[0;34m.\u001b[0m\u001b[0m_element_spec\u001b[0m\u001b[0;34m,\u001b[0m \u001b[0mret\u001b[0m\u001b[0;34m)\u001b[0m\u001b[0;34m\u001b[0m\u001b[0;34m\u001b[0m\u001b[0m\n\u001b[0m\u001b[1;32m    666\u001b[0m \u001b[0;34m\u001b[0m\u001b[0m\n\u001b[1;32m    667\u001b[0m   \u001b[0;34m@\u001b[0m\u001b[0mproperty\u001b[0m\u001b[0;34m\u001b[0m\u001b[0;34m\u001b[0m\u001b[0m\n",
      "\u001b[0;32m~/miniconda3/envs/usp/lib/python3.6/contextlib.py\u001b[0m in \u001b[0;36m__exit__\u001b[0;34m(self, type, value, traceback)\u001b[0m\n\u001b[1;32m     97\u001b[0m                 \u001b[0mvalue\u001b[0m \u001b[0;34m=\u001b[0m \u001b[0mtype\u001b[0m\u001b[0;34m(\u001b[0m\u001b[0;34m)\u001b[0m\u001b[0;34m\u001b[0m\u001b[0;34m\u001b[0m\u001b[0m\n\u001b[1;32m     98\u001b[0m             \u001b[0;32mtry\u001b[0m\u001b[0;34m:\u001b[0m\u001b[0;34m\u001b[0m\u001b[0;34m\u001b[0m\u001b[0m\n\u001b[0;32m---> 99\u001b[0;31m                 \u001b[0mself\u001b[0m\u001b[0;34m.\u001b[0m\u001b[0mgen\u001b[0m\u001b[0;34m.\u001b[0m\u001b[0mthrow\u001b[0m\u001b[0;34m(\u001b[0m\u001b[0mtype\u001b[0m\u001b[0;34m,\u001b[0m \u001b[0mvalue\u001b[0m\u001b[0;34m,\u001b[0m \u001b[0mtraceback\u001b[0m\u001b[0;34m)\u001b[0m\u001b[0;34m\u001b[0m\u001b[0;34m\u001b[0m\u001b[0m\n\u001b[0m\u001b[1;32m    100\u001b[0m             \u001b[0;32mexcept\u001b[0m \u001b[0mStopIteration\u001b[0m \u001b[0;32mas\u001b[0m \u001b[0mexc\u001b[0m\u001b[0;34m:\u001b[0m\u001b[0;34m\u001b[0m\u001b[0;34m\u001b[0m\u001b[0m\n\u001b[1;32m    101\u001b[0m                 \u001b[0;31m# Suppress StopIteration *unless* it's the same exception that\u001b[0m\u001b[0;34m\u001b[0m\u001b[0;34m\u001b[0m\u001b[0;34m\u001b[0m\u001b[0m\n",
      "\u001b[0;32m~/miniconda3/envs/usp/lib/python3.6/site-packages/tensorflow_core/python/eager/context.py\u001b[0m in \u001b[0;36mexecution_mode\u001b[0;34m(mode)\u001b[0m\n\u001b[1;32m   1898\u001b[0m   \u001b[0;32mfinally\u001b[0m\u001b[0;34m:\u001b[0m\u001b[0;34m\u001b[0m\u001b[0;34m\u001b[0m\u001b[0m\n\u001b[1;32m   1899\u001b[0m     \u001b[0mctx\u001b[0m\u001b[0;34m.\u001b[0m\u001b[0mexecutor\u001b[0m \u001b[0;34m=\u001b[0m \u001b[0mexecutor_old\u001b[0m\u001b[0;34m\u001b[0m\u001b[0;34m\u001b[0m\u001b[0m\n\u001b[0;32m-> 1900\u001b[0;31m     \u001b[0mexecutor_new\u001b[0m\u001b[0;34m.\u001b[0m\u001b[0mwait\u001b[0m\u001b[0;34m(\u001b[0m\u001b[0;34m)\u001b[0m\u001b[0;34m\u001b[0m\u001b[0;34m\u001b[0m\u001b[0m\n\u001b[0m\u001b[1;32m   1901\u001b[0m \u001b[0;34m\u001b[0m\u001b[0m\n\u001b[1;32m   1902\u001b[0m \u001b[0;34m\u001b[0m\u001b[0m\n",
      "\u001b[0;32m~/miniconda3/envs/usp/lib/python3.6/site-packages/tensorflow_core/python/eager/executor.py\u001b[0m in \u001b[0;36mwait\u001b[0;34m(self)\u001b[0m\n\u001b[1;32m     65\u001b[0m   \u001b[0;32mdef\u001b[0m \u001b[0mwait\u001b[0m\u001b[0;34m(\u001b[0m\u001b[0mself\u001b[0m\u001b[0;34m)\u001b[0m\u001b[0;34m:\u001b[0m\u001b[0;34m\u001b[0m\u001b[0;34m\u001b[0m\u001b[0m\n\u001b[1;32m     66\u001b[0m     \u001b[0;34m\"\"\"Waits for ops dispatched in this executor to finish.\"\"\"\u001b[0m\u001b[0;34m\u001b[0m\u001b[0;34m\u001b[0m\u001b[0m\n\u001b[0;32m---> 67\u001b[0;31m     \u001b[0mpywrap_tensorflow\u001b[0m\u001b[0;34m.\u001b[0m\u001b[0mTFE_ExecutorWaitForAllPendingNodes\u001b[0m\u001b[0;34m(\u001b[0m\u001b[0mself\u001b[0m\u001b[0;34m.\u001b[0m\u001b[0m_handle\u001b[0m\u001b[0;34m)\u001b[0m\u001b[0;34m\u001b[0m\u001b[0;34m\u001b[0m\u001b[0m\n\u001b[0m\u001b[1;32m     68\u001b[0m \u001b[0;34m\u001b[0m\u001b[0m\n\u001b[1;32m     69\u001b[0m   \u001b[0;32mdef\u001b[0m \u001b[0mclear_error\u001b[0m\u001b[0;34m(\u001b[0m\u001b[0mself\u001b[0m\u001b[0;34m)\u001b[0m\u001b[0;34m:\u001b[0m\u001b[0;34m\u001b[0m\u001b[0;34m\u001b[0m\u001b[0m\n",
      "\u001b[0;31mUnknownError\u001b[0m: InvalidArgumentError: Shapes of all inputs must match: values[0].shape = [41760] != values[1].shape = [47920] [Op:Pack] name: packed\nTraceback (most recent call last):\n\n  File \"/Users/gabriel.t.nishimura/miniconda3/envs/usp/lib/python3.6/site-packages/tensorflow_core/python/ops/script_ops.py\", line 234, in __call__\n    return func(device, token, args)\n\n  File \"/Users/gabriel.t.nishimura/miniconda3/envs/usp/lib/python3.6/site-packages/tensorflow_core/python/ops/script_ops.py\", line 123, in __call__\n    ret = self._func(*args)\n\n  File \"<ipython-input-15-747ac09c10a5>\", line 40, in inner_test\n    padded = tf.pad(new_features, paddings, \"CONSTANT\")\n\n  File \"/Users/gabriel.t.nishimura/miniconda3/envs/usp/lib/python3.6/site-packages/tensorflow_core/python/ops/array_ops.py\", line 2873, in pad_v2\n    return pad(tensor, paddings, mode, name, constant_values)\n\n  File \"/Users/gabriel.t.nishimura/miniconda3/envs/usp/lib/python3.6/site-packages/tensorflow_core/python/ops/array_ops.py\", line 2939, in pad\n    result = gen_array_ops.pad(tensor, paddings, name=name)\n\n  File \"/Users/gabriel.t.nishimura/miniconda3/envs/usp/lib/python3.6/site-packages/tensorflow_core/python/ops/gen_array_ops.py\", line 5784, in pad\n    input, paddings, name=name, ctx=_ctx)\n\n  File \"/Users/gabriel.t.nishimura/miniconda3/envs/usp/lib/python3.6/site-packages/tensorflow_core/python/ops/gen_array_ops.py\", line 5806, in pad_eager_fallback\n    _attr_T, (input,) = _execute.args_to_matching_eager([input], ctx)\n\n  File \"/Users/gabriel.t.nishimura/miniconda3/envs/usp/lib/python3.6/site-packages/tensorflow_core/python/eager/execute.py\", line 263, in args_to_matching_eager\n    t, dtype, preferred_dtype=default_dtype, ctx=ctx))\n\n  File \"/Users/gabriel.t.nishimura/miniconda3/envs/usp/lib/python3.6/site-packages/tensorflow_core/python/framework/ops.py\", line 1314, in convert_to_tensor\n    ret = conversion_func(value, dtype=dtype, name=name, as_ref=as_ref)\n\n  File \"/Users/gabriel.t.nishimura/miniconda3/envs/usp/lib/python3.6/site-packages/tensorflow_core/python/ops/array_ops.py\", line 1368, in _autopacking_conversion_function\n    return _autopacking_helper(v, dtype, name or \"packed\")\n\n  File \"/Users/gabriel.t.nishimura/miniconda3/envs/usp/lib/python3.6/site-packages/tensorflow_core/python/ops/array_ops.py\", line 1274, in _autopacking_helper\n    return gen_array_ops.pack(list_or_tuple, name=name)\n\n  File \"/Users/gabriel.t.nishimura/miniconda3/envs/usp/lib/python3.6/site-packages/tensorflow_core/python/ops/gen_array_ops.py\", line 5693, in pack\n    _ops.raise_from_not_ok_status(e, name)\n\n  File \"/Users/gabriel.t.nishimura/miniconda3/envs/usp/lib/python3.6/site-packages/tensorflow_core/python/framework/ops.py\", line 6606, in raise_from_not_ok_status\n    six.raise_from(core._status_to_exception(e.code, message), None)\n\n  File \"<string>\", line 3, in raise_from\n\ntensorflow.python.framework.errors_impl.InvalidArgumentError: Shapes of all inputs must match: values[0].shape = [41760] != values[1].shape = [47920] [Op:Pack] name: packed\n\n\n\t [[{{node EagerPyFunc}}]]"
     ]
    }
   ],
   "source": [
    "from soundfile import read\n",
    "import numpy as np\n",
    "from tensorflow.keras.preprocessing.sequence import pad_sequences\n",
    "from librosa.feature import mfcc, melspectrogram\n",
    "\n",
    "batch_size=4\n",
    "frame_length=320\n",
    "hop_length=160\n",
    "n_mels=40\n",
    "mfcc_features=26\n",
    "shuffle=True\n",
    "\n",
    "def read_and_aggregate(features):\n",
    "    sr = 0\n",
    "    batch_spectograms = []\n",
    "    max_length = 0\n",
    "    for index, value in enumerate(features.numpy()):\n",
    "        # open sound file\n",
    "        spectogram_frames, sr = read(value.decode('UTF-8'))\n",
    "        if len(spectogram_frames) > max_length:\n",
    "            max_length = len(spectogram_frames)\n",
    "\n",
    "        # add it to the array\n",
    "        batch_spectograms.append(spectogram_frames)\n",
    "    \n",
    "    return batch_spectograms, sr, max_length\n",
    "\n",
    "def inner_test(features, labels):\n",
    "    x_data_raw, sr, max_length = read_and_aggregate(features)\n",
    "\n",
    "    # converting into tensor\n",
    "    new_features = []\n",
    "    padded = None\n",
    "    for spectogram in x_data_raw:\n",
    "        pre_tensor = np.asarray(spectogram).astype(np.float32)\n",
    "        new_features.append(tf.convert_to_tensor(pre_tensor,\n",
    "                                                 dtype=np.float32))\n",
    "        paddings = tf.constant([[0, 0,], [0, max_length]])\n",
    "        padded = tf.pad(new_features, paddings, \"CONSTANT\")\n",
    "        print(padded)\n",
    "        print(len(labels))\n",
    "\n",
    "    return paddings, labels\n",
    "\n",
    "def test(features, labels):\n",
    "    return tf.py_function(func=inner_test, inp=[features['filename'], labels], Tout=tf.float32), labels\n",
    "\n",
    "for feature_batch, label_batch in librivox_ds.map(test).take(1):\n",
    "    for key in feature_batch.numpy():\n",
    "        print(key)\n"
   ]
  },
  {
   "cell_type": "code",
   "execution_count": null,
   "metadata": {},
   "outputs": [],
   "source": []
  }
 ],
 "metadata": {
  "kernelspec": {
   "display_name": "Python 3",
   "language": "python",
   "name": "python3"
  },
  "language_info": {
   "codemirror_mode": {
    "name": "ipython",
    "version": 3
   },
   "file_extension": ".py",
   "mimetype": "text/x-python",
   "name": "python",
   "nbconvert_exporter": "python",
   "pygments_lexer": "ipython3",
   "version": "3.6.10"
  },
  "toc": {
   "base_numbering": 1,
   "nav_menu": {},
   "number_sections": true,
   "sideBar": true,
   "skip_h1_title": false,
   "title_cell": "Table of Contents",
   "title_sidebar": "Contents",
   "toc_cell": false,
   "toc_position": {
    "height": "calc(100% - 180px)",
    "left": "10px",
    "top": "150px",
    "width": "336px"
   },
   "toc_section_display": true,
   "toc_window_display": true
  },
  "varInspector": {
   "cols": {
    "lenName": 16,
    "lenType": 16,
    "lenVar": 40
   },
   "kernels_config": {
    "python": {
     "delete_cmd_postfix": "",
     "delete_cmd_prefix": "del ",
     "library": "var_list.py",
     "varRefreshCmd": "print(var_dic_list())"
    },
    "r": {
     "delete_cmd_postfix": ") ",
     "delete_cmd_prefix": "rm(",
     "library": "var_list.r",
     "varRefreshCmd": "cat(var_dic_list()) "
    }
   },
   "oldHeight": 203,
   "position": {
    "height": "463px",
    "left": "1144px",
    "right": "20px",
    "top": "71px",
    "width": "512px"
   },
   "types_to_exclude": [
    "module",
    "function",
    "builtin_function_or_method",
    "instance",
    "_Feature"
   ],
   "varInspector_section_display": "block",
   "window_display": true
  }
 },
 "nbformat": 4,
 "nbformat_minor": 4
}
